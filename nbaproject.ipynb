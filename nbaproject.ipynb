{
 "cells": [
  {
   "cell_type": "code",
   "execution_count": 1,
   "metadata": {
    "ExecuteTime": {
     "end_time": "2022-01-22T13:00:38.491611Z",
     "start_time": "2022-01-22T13:00:36.256756Z"
    }
   },
   "outputs": [],
   "source": [
    "import requests\n",
    "import numpy as np\n",
    "import pandas as pd\n",
    "import seaborn as sns\n",
    "import matplotlib as mpl\n",
    "import matplotlib.pyplot as plt      \n",
    "from sklearn import metrics\n",
    "from sklearn.model_selection import train_test_split \n",
    "from bs4 import BeautifulSoup\n",
    "import pandas as pd\n",
    "import warnings\n",
    "warnings.filterwarnings('ignore')"
   ]
  },
  {
   "cell_type": "markdown",
   "metadata": {},
   "source": [
    "### DATA PREPARATION"
   ]
  },
  {
   "cell_type": "code",
   "execution_count": 2,
   "metadata": {
    "ExecuteTime": {
     "end_time": "2022-01-22T13:00:44.203329Z",
     "start_time": "2022-01-22T13:00:44.200188Z"
    }
   },
   "outputs": [],
   "source": [
    "url21=\"https://www.basketball-reference.com/leagues/NBA_2021_per_game.html\"\n",
    "url20=\"https://www.basketball-reference.com/leagues/NBA_2020_per_game.html\"\n",
    "url19=\"https://www.basketball-reference.com/leagues/NBA_2019_per_game.html\"\n",
    "url18=\"https://www.basketball-reference.com/leagues/NBA_2018_per_game.html\"\n",
    "url17=\"https://www.basketball-reference.com/leagues/NBA_2017_per_game.html\"\n",
    "url16=\"https://www.basketball-reference.com/leagues/NBA_2016_per_game.html\"\n",
    "url15=\"https://www.basketball-reference.com/leagues/NBA_2015_per_game.html\"\n",
    "url14=\"https://www.basketball-reference.com/leagues/NBA_2014_per_game.html\"\n",
    "url13=\"https://www.basketball-reference.com/leagues/NBA_2013_per_game.html\"\n",
    "url12=\"https://www.basketball-reference.com/leagues/NBA_2012_per_game.html\"\n",
    "url11=\"https://www.basketball-reference.com/leagues/NBA_2011_per_game.html\"\n",
    "url10=\"https://www.basketball-reference.com/leagues/NBA_2010_per_game.html\""
   ]
  },
  {
   "cell_type": "code",
   "execution_count": 3,
   "metadata": {
    "ExecuteTime": {
     "end_time": "2022-01-22T13:00:47.093676Z",
     "start_time": "2022-01-22T13:00:44.909338Z"
    }
   },
   "outputs": [],
   "source": [
    "html21 = requests.get(url21)\n",
    "html20 = requests.get(url20)\n",
    "html19 = requests.get(url19)\n",
    "html18 = requests.get(url18)\n",
    "html17 = requests.get(url17)\n",
    "html16 = requests.get(url16)\n",
    "html15 = requests.get(url15)\n",
    "html14 = requests.get(url14)\n",
    "html13 = requests.get(url13)\n",
    "html12 = requests.get(url12)\n",
    "html11 = requests.get(url11)\n",
    "html10 = requests.get(url10)"
   ]
  },
  {
   "cell_type": "code",
   "execution_count": 4,
   "metadata": {
    "ExecuteTime": {
     "end_time": "2022-01-22T13:01:00.398643Z",
     "start_time": "2022-01-22T13:00:47.096274Z"
    }
   },
   "outputs": [],
   "source": [
    "soup1=BeautifulSoup(html21.content,\"html.parser\")\n",
    "soup2=BeautifulSoup(html20.content,\"html.parser\")\n",
    "soup3=BeautifulSoup(html19.content,\"html.parser\")\n",
    "soup4=BeautifulSoup(html18.content,\"html.parser\")\n",
    "soup5=BeautifulSoup(html17.content,\"html.parser\")\n",
    "soup6=BeautifulSoup(html16.content,\"html.parser\")\n",
    "soup7=BeautifulSoup(html15.content,\"html.parser\")\n",
    "soup8=BeautifulSoup(html14.content,\"html.parser\")\n",
    "soup9=BeautifulSoup(html13.content,\"html.parser\")\n",
    "soup10=BeautifulSoup(html12.content,\"html.parser\")\n",
    "soup11=BeautifulSoup(html11.content,\"html.parser\")\n",
    "soup12=BeautifulSoup(html10.content,\"html.parser\")"
   ]
  },
  {
   "cell_type": "code",
   "execution_count": 5,
   "metadata": {
    "ExecuteTime": {
     "end_time": "2022-01-22T13:01:00.862252Z",
     "start_time": "2022-01-22T13:01:00.400571Z"
    }
   },
   "outputs": [],
   "source": [
    "tbl1=soup1(\"table\",attrs={\"class\":\"sortable\"}) [0]\n",
    "tbl2=soup2(\"table\",attrs={\"class\":\"sortable\"}) [0]\n",
    "tbl3=soup3(\"table\",attrs={\"class\":\"sortable\"}) [0]\n",
    "tbl4=soup4(\"table\",attrs={\"class\":\"sortable\"}) [0]\n",
    "tbl5=soup5(\"table\",attrs={\"class\":\"sortable\"}) [0]\n",
    "tbl6=soup6(\"table\",attrs={\"class\":\"sortable\"}) [0]\n",
    "tbl7=soup7(\"table\",attrs={\"class\":\"sortable\"}) [0]\n",
    "tbl8=soup8(\"table\",attrs={\"class\":\"sortable\"}) [0]\n",
    "tbl9=soup9(\"table\",attrs={\"class\":\"sortable\"}) [0]\n",
    "tbl10=soup10(\"table\",attrs={\"class\":\"sortable\"}) [0]\n",
    "tbl11=soup11(\"table\",attrs={\"class\":\"sortable\"}) [0]\n",
    "tbl12=soup12(\"table\",attrs={\"class\":\"sortable\"}) [0]"
   ]
  },
  {
   "cell_type": "code",
   "execution_count": 6,
   "metadata": {
    "ExecuteTime": {
     "end_time": "2022-01-22T13:01:00.867644Z",
     "start_time": "2022-01-22T13:01:00.864381Z"
    }
   },
   "outputs": [],
   "source": [
    "df=pd.DataFrame()\n",
    "df = df.rename(columns={'Player''s age on February 1 of the season': 'age'})"
   ]
  },
  {
   "cell_type": "code",
   "execution_count": 7,
   "metadata": {
    "ExecuteTime": {
     "end_time": "2022-01-22T13:01:00.871718Z",
     "start_time": "2022-01-22T13:01:00.869504Z"
    }
   },
   "outputs": [],
   "source": [
    "tables = [tbl1,tbl2,tbl3,tbl4,tbl5,tbl6,tbl7,tbl8,tbl9,tbl10,tbl11,tbl12]"
   ]
  },
  {
   "cell_type": "code",
   "execution_count": 8,
   "metadata": {
    "ExecuteTime": {
     "end_time": "2022-01-22T13:01:00.881470Z",
     "start_time": "2022-01-22T13:01:00.873800Z"
    },
    "run_control": {
     "marked": true
    }
   },
   "outputs": [],
   "source": [
    "def get_df(tables): \n",
    "    \n",
    "    dfs = []\n",
    "    \n",
    "    year = 21\n",
    "    for table in tables:\n",
    "        Player=list()\n",
    "        Position=list()\n",
    "        age=list()\n",
    "        Team=list()\n",
    "        Games=list()\n",
    "        Games_Started=list()\n",
    "        Minutes_Played_Per_Game=list()\n",
    "        Field_Goals_Per_Game=list()\n",
    "        Field_Goal_Attempts_Per_Game=list()\n",
    "        Field_Goal_Percentage=list()\n",
    "        three_Point_Field_Goals_Per_Game=list()\n",
    "        three_Point_Field_attemps_Goal_Percentage=list()\n",
    "        three_Point_Field_Goal_Percentage=list()\n",
    "        two_Point_Field_Goals_Per_Game=list()\n",
    "        two_Point_Field_Goal_Attempts_Per_Game=list()\n",
    "        two_Point_Field_Goal_Percentage=list()\n",
    "        Effective_Field_Goal_Percentage=list()\n",
    "        Free_Throws_Per_Game=list()\n",
    "        Free_Throws_attemps_Per_Game=list()\n",
    "        Free_Throws_Percentage=list()\n",
    "        Offensive_Rebounds_Per_Game=list()\n",
    "        Defensive_Rebounds_Per_Game=list()\n",
    "        Total_Rebounds_Per_Game=list()\n",
    "        Assists_Per_Game=list()\n",
    "        Steals_Per_Game=list()\n",
    "        Blocks_Per_Game=list()\n",
    "        Turnovers_Per_Game=list()\n",
    "        Personal_Fouls_Per_Game=list()\n",
    "        Points_Per_Game=list()\n",
    "\n",
    "\n",
    "        for row in table(\"tr\"):\n",
    "            cells=row(\"td\")\n",
    "            if(len(cells)<29):\n",
    "                     continue      \n",
    "            Player.append(cells[0].get_text())   \n",
    "            Position.append(cells[1].get_text())\n",
    "            age.append(cells[2].get_text())   \n",
    "            Team.append(cells[3].get_text())   \n",
    "            Games.append(cells[4].get_text()) \n",
    "            Games_Started.append(cells[5].get_text())   \n",
    "            Minutes_Played_Per_Game.append(cells[6].get_text())   \n",
    "            Field_Goals_Per_Game.append(cells[7].get_text())   \n",
    "            Field_Goal_Attempts_Per_Game.append(cells[8].get_text())   \n",
    "            Field_Goal_Percentage.append(cells[9].get_text())   \n",
    "            three_Point_Field_Goals_Per_Game.append(cells[10].get_text())\n",
    "            three_Point_Field_attemps_Goal_Percentage.append(cells[11].get_text())   \n",
    "            three_Point_Field_Goal_Percentage.append(cells[12].get_text())   \n",
    "            two_Point_Field_Goals_Per_Game.append(cells[13].get_text())   \n",
    "            two_Point_Field_Goal_Attempts_Per_Game.append(cells[14].get_text()) \n",
    "            two_Point_Field_Goal_Percentage.append(cells[15].get_text()) \n",
    "            Effective_Field_Goal_Percentage.append(cells[16].get_text())   \n",
    "            Free_Throws_Per_Game.append(cells[17].get_text())\n",
    "            Free_Throws_attemps_Per_Game.append(cells[18].get_text())\n",
    "            Free_Throws_Percentage.append(cells[19].get_text())\n",
    "            Offensive_Rebounds_Per_Game.append(cells[20].get_text())   \n",
    "            Defensive_Rebounds_Per_Game.append(cells[21].get_text())   \n",
    "            Total_Rebounds_Per_Game.append(cells[22].get_text())   \n",
    "            Assists_Per_Game.append(cells[23].get_text())   \n",
    "            Steals_Per_Game.append(cells[24].get_text())   \n",
    "            Blocks_Per_Game.append(cells[25].get_text())   \n",
    "            Turnovers_Per_Game.append(cells[26].get_text())   \n",
    "            Personal_Fouls_Per_Game.append(cells[27].get_text())   \n",
    "            Points_Per_Game.append(cells[28].get_text()) \n",
    "\n",
    "            df1=pd.DataFrame({\"Player\":Player,\"Position\":Position,\"age\":age,\"Team\":Team,\"Games\":Games,\"Gstart\":Games_Started,\n",
    "                     \"Minutes\":Minutes_Played_Per_Game,\"Field-Per-Game\":Field_Goals_Per_Game,\n",
    "                     \"Field-Attempts\":Field_Goal_Attempts_Per_Game,\"Field_Goal_Percentage\":Field_Goal_Percentage,\n",
    "                     \"three_Point_Field_Goals_Per_Game\":three_Point_Field_Goals_Per_Game,\"three_Point_Field_attemps_Goal_Percentage\":three_Point_Field_attemps_Goal_Percentage,\n",
    "                     \"three_Point_Field_Goal_Percentage\":three_Point_Field_Goal_Percentage,\"two_Point_Field_Goals_Per_Game\":two_Point_Field_Goals_Per_Game,\n",
    "                     \"two_Point_Field_Goal_Attempts_Per_Game\":two_Point_Field_Goal_Attempts_Per_Game,\"two_Point_Field_Goal_Percentage\":two_Point_Field_Goal_Percentage,\n",
    "                     \"Effective_Field_Goal_Percentage\":Effective_Field_Goal_Percentage,\"Free_Throws_Per_Game\":Free_Throws_Per_Game,\"Free_Throws_attemps_Per_Game\":Free_Throws_attemps_Per_Game,\n",
    "                     \"Free_Throws_Percentage\":Free_Throws_Percentage,\"Offensive_Rebounds_Per_Game\":Offensive_Rebounds_Per_Game,\"Defensive_Rebounds_Per_Game\":Defensive_Rebounds_Per_Game,\n",
    "                     \"Total_Rebounds_Per_Game\":Total_Rebounds_Per_Game,\"Assists_Per_Game\":Assists_Per_Game,\"Steals_Per_Game\":Steals_Per_Game,\"Blocks_Per_Game\":Blocks_Per_Game,\n",
    "                     \"Turnovers_Per_Game\":Turnovers_Per_Game,\"Personal_Fouls_Per_Game\":Personal_Fouls_Per_Game,\"Points_Per_Game\":Points_Per_Game})\n",
    "\n",
    "        df1['season'] = str(year)\n",
    "        year -= 1\n",
    "        dfs.append(df1)\n",
    "    data = pd.concat(dfs, ignore_index=True)\n",
    "    return data"
   ]
  },
  {
   "cell_type": "code",
   "execution_count": 9,
   "metadata": {
    "ExecuteTime": {
     "end_time": "2022-01-22T13:01:18.236086Z",
     "start_time": "2022-01-22T13:01:00.883209Z"
    }
   },
   "outputs": [],
   "source": [
    "data = get_df(tables)"
   ]
  },
  {
   "cell_type": "code",
   "execution_count": 10,
   "metadata": {
    "ExecuteTime": {
     "end_time": "2022-01-22T13:01:21.297986Z",
     "start_time": "2022-01-22T13:01:21.294296Z"
    }
   },
   "outputs": [],
   "source": [
    "data['target'] = 0"
   ]
  },
  {
   "cell_type": "code",
   "execution_count": 11,
   "metadata": {
    "ExecuteTime": {
     "end_time": "2022-01-22T13:01:21.978005Z",
     "start_time": "2022-01-22T13:01:21.973005Z"
    }
   },
   "outputs": [
    {
     "data": {
      "text/plain": [
       "(7490, 31)"
      ]
     },
     "execution_count": 11,
     "metadata": {},
     "output_type": "execute_result"
    }
   ],
   "source": [
    "data.shape"
   ]
  },
  {
   "cell_type": "markdown",
   "metadata": {},
   "source": [
    "### CREATING ALLSTAR DATA"
   ]
  },
  {
   "cell_type": "code",
   "execution_count": 12,
   "metadata": {
    "ExecuteTime": {
     "end_time": "2022-01-22T13:01:24.876631Z",
     "start_time": "2022-01-22T13:01:24.872699Z"
    }
   },
   "outputs": [],
   "source": [
    "def read_east_csv(year):\n",
    "    east_df = []\n",
    "    for i in year:\n",
    "        i = str(i)\n",
    "        df = pd.read_csv(f'East{i}.csv')\n",
    "        df = df.rename(columns={'Unnamed: 0': 'Player'})\n",
    "        df['AS_year'] = i\n",
    "        east_df.append(df)\n",
    "    return east_df   \n",
    "\n",
    "def read_west_csv(year):\n",
    "    west_df = []\n",
    "    for i in year:\n",
    "        i = str(i)\n",
    "        df = pd.read_csv(f'West{i}.csv')\n",
    "        df = df.rename(columns={'Unnamed: 0': 'Player'})\n",
    "        df['AS_year'] = i\n",
    "        west_df.append(df)\n",
    "        \n",
    "    return west_df \n",
    "        "
   ]
  },
  {
   "cell_type": "code",
   "execution_count": 13,
   "metadata": {
    "ExecuteTime": {
     "end_time": "2022-01-22T13:01:26.529548Z",
     "start_time": "2022-01-22T13:01:26.436600Z"
    }
   },
   "outputs": [],
   "source": [
    "years = list(range(10,22))\n",
    "west = read_west_csv(years)\n",
    "east = read_east_csv(years)\n",
    "west = pd.concat(west)\n",
    "east = pd.concat(east)"
   ]
  },
  {
   "cell_type": "code",
   "execution_count": 14,
   "metadata": {
    "ExecuteTime": {
     "end_time": "2022-01-22T13:01:30.194819Z",
     "start_time": "2022-01-22T13:01:30.191474Z"
    }
   },
   "outputs": [],
   "source": [
    "all_stardf = pd.concat([west,east])"
   ]
  },
  {
   "cell_type": "code",
   "execution_count": 15,
   "metadata": {
    "ExecuteTime": {
     "end_time": "2022-01-22T13:01:30.884768Z",
     "start_time": "2022-01-22T13:01:30.880704Z"
    }
   },
   "outputs": [],
   "source": [
    "all_stardf.drop(all_stardf.columns.difference(['Player','AS_year']), axis = 1, inplace=True)"
   ]
  },
  {
   "cell_type": "code",
   "execution_count": 16,
   "metadata": {
    "ExecuteTime": {
     "end_time": "2022-01-22T13:01:31.490795Z",
     "start_time": "2022-01-22T13:01:31.487374Z"
    },
    "run_control": {
     "marked": true
    }
   },
   "outputs": [],
   "source": [
    "all_stardf = all_stardf[~all_stardf['Player'].isin(['Starters','Reserves','Team Totals'])]"
   ]
  },
  {
   "cell_type": "code",
   "execution_count": 17,
   "metadata": {
    "ExecuteTime": {
     "end_time": "2022-01-22T13:01:31.977172Z",
     "start_time": "2022-01-22T13:01:31.974559Z"
    }
   },
   "outputs": [],
   "source": [
    "all_stardf = all_stardf.rename(columns={'AS_year': 'season'})"
   ]
  },
  {
   "cell_type": "code",
   "execution_count": 18,
   "metadata": {
    "ExecuteTime": {
     "end_time": "2022-01-22T13:01:33.716190Z",
     "start_time": "2022-01-22T13:01:33.706076Z"
    }
   },
   "outputs": [],
   "source": [
    "all_stardf['season'] = all_stardf['season'].astype(int)\n",
    "data['season'] = data['season'].astype(int)"
   ]
  },
  {
   "cell_type": "code",
   "execution_count": 19,
   "metadata": {
    "ExecuteTime": {
     "end_time": "2022-01-22T13:01:35.474964Z",
     "start_time": "2022-01-22T13:01:35.472369Z"
    }
   },
   "outputs": [],
   "source": [
    "all_stardf.reset_index(inplace=True)"
   ]
  },
  {
   "cell_type": "code",
   "execution_count": 20,
   "metadata": {
    "ExecuteTime": {
     "end_time": "2022-01-22T13:01:36.023075Z",
     "start_time": "2022-01-22T13:01:36.019966Z"
    }
   },
   "outputs": [],
   "source": [
    "all_stardf.drop('index',axis=1,inplace =True)"
   ]
  },
  {
   "cell_type": "code",
   "execution_count": 21,
   "metadata": {
    "ExecuteTime": {
     "end_time": "2022-01-22T13:01:37.900548Z",
     "start_time": "2022-01-22T13:01:36.557525Z"
    }
   },
   "outputs": [],
   "source": [
    "all_stardf.dropna(inplace=True)"
   ]
  },
  {
   "cell_type": "code",
   "execution_count": 22,
   "metadata": {
    "ExecuteTime": {
     "end_time": "2022-01-22T13:01:37.910133Z",
     "start_time": "2022-01-22T13:01:37.902721Z"
    },
    "scrolled": true
   },
   "outputs": [
    {
     "name": "stdout",
     "output_type": "stream",
     "text": [
      "<class 'pandas.core.frame.DataFrame'>\n",
      "Int64Index: 287 entries, 0 to 310\n",
      "Data columns (total 2 columns):\n",
      " #   Column  Non-Null Count  Dtype \n",
      "---  ------  --------------  ----- \n",
      " 0   Player  287 non-null    object\n",
      " 1   season  287 non-null    int64 \n",
      "dtypes: int64(1), object(1)\n",
      "memory usage: 6.7+ KB\n"
     ]
    }
   ],
   "source": [
    "all_stardf.info()"
   ]
  },
  {
   "cell_type": "markdown",
   "metadata": {},
   "source": [
    "### UPDATE TARGET COL BASED ON ALLSTAR DF PLAYER NAME + SEASON "
   ]
  },
  {
   "cell_type": "code",
   "execution_count": 23,
   "metadata": {
    "ExecuteTime": {
     "end_time": "2022-01-22T13:01:41.722261Z",
     "start_time": "2022-01-22T13:01:41.364477Z"
    }
   },
   "outputs": [],
   "source": [
    "for i,v in all_stardf.iterrows():\n",
    "    data.loc[(data['Player'] == v['Player']) & (data['season'] == v['season']), 'target'] = 1"
   ]
  },
  {
   "cell_type": "code",
   "execution_count": 24,
   "metadata": {
    "ExecuteTime": {
     "end_time": "2022-01-22T13:01:42.301380Z",
     "start_time": "2022-01-22T13:01:42.261282Z"
    }
   },
   "outputs": [],
   "source": [
    "data.drop_duplicates(keep='last',inplace=True)"
   ]
  },
  {
   "cell_type": "code",
   "execution_count": 25,
   "metadata": {
    "ExecuteTime": {
     "end_time": "2022-01-22T13:01:42.960197Z",
     "start_time": "2022-01-22T13:01:42.894722Z"
    }
   },
   "outputs": [],
   "source": [
    "data.to_csv('all_combine_data.csv', index=False)"
   ]
  },
  {
   "cell_type": "markdown",
   "metadata": {},
   "source": [
    "### IMPORT DATA"
   ]
  },
  {
   "cell_type": "code",
   "execution_count": 26,
   "metadata": {
    "ExecuteTime": {
     "end_time": "2022-01-22T13:01:47.192192Z",
     "start_time": "2022-01-22T13:01:47.159110Z"
    }
   },
   "outputs": [],
   "source": [
    "data = pd.read_csv('all_combine_data.csv') \n",
    "df = data.copy()"
   ]
  },
  {
   "cell_type": "markdown",
   "metadata": {},
   "source": [
    "**checklist for EDA**\n",
    "* [ ] read data dictionary and make some assumptions about the data\n",
    "* [ ] import data\n",
    "* [ ] check the shape\n",
    "* [ ] data head\n",
    "* [ ] view info for dtype and missing value\n",
    "* [ ] check/make sure for missing value \n",
    "* [ ] check statistical info \n",
    "* [ ] data integrity \n",
    "* [ ] divide columns dtypes and check distribution + target\n",
    "* [ ] vizualisation for outliers only if needed \n",
    "* [ ] write insight based on step 1 \n"
   ]
  },
  {
   "cell_type": "code",
   "execution_count": 27,
   "metadata": {
    "ExecuteTime": {
     "end_time": "2022-01-22T13:01:50.215666Z",
     "start_time": "2022-01-22T13:01:50.211120Z"
    }
   },
   "outputs": [
    {
     "data": {
      "text/plain": [
       "(7490, 31)"
      ]
     },
     "execution_count": 27,
     "metadata": {},
     "output_type": "execute_result"
    }
   ],
   "source": [
    "df.shape"
   ]
  },
  {
   "cell_type": "code",
   "execution_count": 28,
   "metadata": {
    "ExecuteTime": {
     "end_time": "2022-01-22T13:01:51.232903Z",
     "start_time": "2022-01-22T13:01:51.210373Z"
    }
   },
   "outputs": [
    {
     "data": {
      "text/html": [
       "<div>\n",
       "<style scoped>\n",
       "    .dataframe tbody tr th:only-of-type {\n",
       "        vertical-align: middle;\n",
       "    }\n",
       "\n",
       "    .dataframe tbody tr th {\n",
       "        vertical-align: top;\n",
       "    }\n",
       "\n",
       "    .dataframe thead th {\n",
       "        text-align: right;\n",
       "    }\n",
       "</style>\n",
       "<table border=\"1\" class=\"dataframe\">\n",
       "  <thead>\n",
       "    <tr style=\"text-align: right;\">\n",
       "      <th></th>\n",
       "      <th>Player</th>\n",
       "      <th>Position</th>\n",
       "      <th>age</th>\n",
       "      <th>Team</th>\n",
       "      <th>Games</th>\n",
       "      <th>Gstart</th>\n",
       "      <th>Minutes</th>\n",
       "      <th>Field-Per-Game</th>\n",
       "      <th>Field-Attempts</th>\n",
       "      <th>Field_Goal_Percentage</th>\n",
       "      <th>...</th>\n",
       "      <th>Defensive_Rebounds_Per_Game</th>\n",
       "      <th>Total_Rebounds_Per_Game</th>\n",
       "      <th>Assists_Per_Game</th>\n",
       "      <th>Steals_Per_Game</th>\n",
       "      <th>Blocks_Per_Game</th>\n",
       "      <th>Turnovers_Per_Game</th>\n",
       "      <th>Personal_Fouls_Per_Game</th>\n",
       "      <th>Points_Per_Game</th>\n",
       "      <th>season</th>\n",
       "      <th>target</th>\n",
       "    </tr>\n",
       "  </thead>\n",
       "  <tbody>\n",
       "    <tr>\n",
       "      <th>0</th>\n",
       "      <td>Precious Achiuwa</td>\n",
       "      <td>PF</td>\n",
       "      <td>21</td>\n",
       "      <td>MIA</td>\n",
       "      <td>61</td>\n",
       "      <td>4</td>\n",
       "      <td>12.1</td>\n",
       "      <td>2.0</td>\n",
       "      <td>3.7</td>\n",
       "      <td>0.544</td>\n",
       "      <td>...</td>\n",
       "      <td>2.2</td>\n",
       "      <td>3.4</td>\n",
       "      <td>0.5</td>\n",
       "      <td>0.3</td>\n",
       "      <td>0.5</td>\n",
       "      <td>0.7</td>\n",
       "      <td>1.5</td>\n",
       "      <td>5.0</td>\n",
       "      <td>21</td>\n",
       "      <td>0</td>\n",
       "    </tr>\n",
       "    <tr>\n",
       "      <th>1</th>\n",
       "      <td>Jaylen Adams</td>\n",
       "      <td>PG</td>\n",
       "      <td>24</td>\n",
       "      <td>MIL</td>\n",
       "      <td>7</td>\n",
       "      <td>0</td>\n",
       "      <td>2.6</td>\n",
       "      <td>0.1</td>\n",
       "      <td>1.1</td>\n",
       "      <td>0.125</td>\n",
       "      <td>...</td>\n",
       "      <td>0.4</td>\n",
       "      <td>0.4</td>\n",
       "      <td>0.3</td>\n",
       "      <td>0.0</td>\n",
       "      <td>0.0</td>\n",
       "      <td>0.0</td>\n",
       "      <td>0.1</td>\n",
       "      <td>0.3</td>\n",
       "      <td>21</td>\n",
       "      <td>0</td>\n",
       "    </tr>\n",
       "    <tr>\n",
       "      <th>2</th>\n",
       "      <td>Steven Adams</td>\n",
       "      <td>C</td>\n",
       "      <td>27</td>\n",
       "      <td>NOP</td>\n",
       "      <td>58</td>\n",
       "      <td>58</td>\n",
       "      <td>27.7</td>\n",
       "      <td>3.3</td>\n",
       "      <td>5.3</td>\n",
       "      <td>0.614</td>\n",
       "      <td>...</td>\n",
       "      <td>5.2</td>\n",
       "      <td>8.9</td>\n",
       "      <td>1.9</td>\n",
       "      <td>0.9</td>\n",
       "      <td>0.7</td>\n",
       "      <td>1.3</td>\n",
       "      <td>1.9</td>\n",
       "      <td>7.6</td>\n",
       "      <td>21</td>\n",
       "      <td>0</td>\n",
       "    </tr>\n",
       "    <tr>\n",
       "      <th>3</th>\n",
       "      <td>Bam Adebayo</td>\n",
       "      <td>C</td>\n",
       "      <td>23</td>\n",
       "      <td>MIA</td>\n",
       "      <td>64</td>\n",
       "      <td>64</td>\n",
       "      <td>33.5</td>\n",
       "      <td>7.1</td>\n",
       "      <td>12.5</td>\n",
       "      <td>0.570</td>\n",
       "      <td>...</td>\n",
       "      <td>6.7</td>\n",
       "      <td>9.0</td>\n",
       "      <td>5.4</td>\n",
       "      <td>1.2</td>\n",
       "      <td>1.0</td>\n",
       "      <td>2.6</td>\n",
       "      <td>2.3</td>\n",
       "      <td>18.7</td>\n",
       "      <td>21</td>\n",
       "      <td>0</td>\n",
       "    </tr>\n",
       "    <tr>\n",
       "      <th>4</th>\n",
       "      <td>LaMarcus Aldridge</td>\n",
       "      <td>C</td>\n",
       "      <td>35</td>\n",
       "      <td>TOT</td>\n",
       "      <td>26</td>\n",
       "      <td>23</td>\n",
       "      <td>25.9</td>\n",
       "      <td>5.4</td>\n",
       "      <td>11.4</td>\n",
       "      <td>0.473</td>\n",
       "      <td>...</td>\n",
       "      <td>3.8</td>\n",
       "      <td>4.5</td>\n",
       "      <td>1.9</td>\n",
       "      <td>0.4</td>\n",
       "      <td>1.1</td>\n",
       "      <td>1.0</td>\n",
       "      <td>1.8</td>\n",
       "      <td>13.5</td>\n",
       "      <td>21</td>\n",
       "      <td>0</td>\n",
       "    </tr>\n",
       "  </tbody>\n",
       "</table>\n",
       "<p>5 rows × 31 columns</p>\n",
       "</div>"
      ],
      "text/plain": [
       "              Player Position  age Team  Games  Gstart  Minutes  \\\n",
       "0   Precious Achiuwa       PF   21  MIA     61       4     12.1   \n",
       "1       Jaylen Adams       PG   24  MIL      7       0      2.6   \n",
       "2       Steven Adams        C   27  NOP     58      58     27.7   \n",
       "3        Bam Adebayo        C   23  MIA     64      64     33.5   \n",
       "4  LaMarcus Aldridge        C   35  TOT     26      23     25.9   \n",
       "\n",
       "   Field-Per-Game  Field-Attempts  Field_Goal_Percentage  ...  \\\n",
       "0             2.0             3.7                  0.544  ...   \n",
       "1             0.1             1.1                  0.125  ...   \n",
       "2             3.3             5.3                  0.614  ...   \n",
       "3             7.1            12.5                  0.570  ...   \n",
       "4             5.4            11.4                  0.473  ...   \n",
       "\n",
       "   Defensive_Rebounds_Per_Game  Total_Rebounds_Per_Game  Assists_Per_Game  \\\n",
       "0                          2.2                      3.4               0.5   \n",
       "1                          0.4                      0.4               0.3   \n",
       "2                          5.2                      8.9               1.9   \n",
       "3                          6.7                      9.0               5.4   \n",
       "4                          3.8                      4.5               1.9   \n",
       "\n",
       "   Steals_Per_Game  Blocks_Per_Game  Turnovers_Per_Game  \\\n",
       "0              0.3              0.5                 0.7   \n",
       "1              0.0              0.0                 0.0   \n",
       "2              0.9              0.7                 1.3   \n",
       "3              1.2              1.0                 2.6   \n",
       "4              0.4              1.1                 1.0   \n",
       "\n",
       "   Personal_Fouls_Per_Game  Points_Per_Game  season  target  \n",
       "0                      1.5              5.0      21       0  \n",
       "1                      0.1              0.3      21       0  \n",
       "2                      1.9              7.6      21       0  \n",
       "3                      2.3             18.7      21       0  \n",
       "4                      1.8             13.5      21       0  \n",
       "\n",
       "[5 rows x 31 columns]"
      ]
     },
     "execution_count": 28,
     "metadata": {},
     "output_type": "execute_result"
    }
   ],
   "source": [
    "df.head()"
   ]
  },
  {
   "cell_type": "code",
   "execution_count": 29,
   "metadata": {
    "ExecuteTime": {
     "end_time": "2022-01-22T13:01:55.893628Z",
     "start_time": "2022-01-22T13:01:55.884261Z"
    }
   },
   "outputs": [
    {
     "name": "stdout",
     "output_type": "stream",
     "text": [
      "<class 'pandas.core.frame.DataFrame'>\n",
      "RangeIndex: 7490 entries, 0 to 7489\n",
      "Data columns (total 31 columns):\n",
      " #   Column                                     Non-Null Count  Dtype  \n",
      "---  ------                                     --------------  -----  \n",
      " 0   Player                                     7490 non-null   object \n",
      " 1   Position                                   7490 non-null   object \n",
      " 2   age                                        7490 non-null   int64  \n",
      " 3   Team                                       7490 non-null   object \n",
      " 4   Games                                      7490 non-null   int64  \n",
      " 5   Gstart                                     7490 non-null   int64  \n",
      " 6   Minutes                                    7490 non-null   float64\n",
      " 7   Field-Per-Game                             7490 non-null   float64\n",
      " 8   Field-Attempts                             7490 non-null   float64\n",
      " 9   Field_Goal_Percentage                      7452 non-null   float64\n",
      " 10  three_Point_Field_Goals_Per_Game           7490 non-null   float64\n",
      " 11  three_Point_Field_attemps_Goal_Percentage  7490 non-null   float64\n",
      " 12  three_Point_Field_Goal_Percentage          6631 non-null   float64\n",
      " 13  two_Point_Field_Goals_Per_Game             7490 non-null   float64\n",
      " 14  two_Point_Field_Goal_Attempts_Per_Game     7490 non-null   float64\n",
      " 15  two_Point_Field_Goal_Percentage            7406 non-null   float64\n",
      " 16  Effective_Field_Goal_Percentage            7452 non-null   float64\n",
      " 17  Free_Throws_Per_Game                       7490 non-null   float64\n",
      " 18  Free_Throws_attemps_Per_Game               7490 non-null   float64\n",
      " 19  Free_Throws_Percentage                     7125 non-null   float64\n",
      " 20  Offensive_Rebounds_Per_Game                7490 non-null   float64\n",
      " 21  Defensive_Rebounds_Per_Game                7490 non-null   float64\n",
      " 22  Total_Rebounds_Per_Game                    7490 non-null   float64\n",
      " 23  Assists_Per_Game                           7490 non-null   float64\n",
      " 24  Steals_Per_Game                            7490 non-null   float64\n",
      " 25  Blocks_Per_Game                            7490 non-null   float64\n",
      " 26  Turnovers_Per_Game                         7490 non-null   float64\n",
      " 27  Personal_Fouls_Per_Game                    7490 non-null   float64\n",
      " 28  Points_Per_Game                            7490 non-null   float64\n",
      " 29  season                                     7490 non-null   int64  \n",
      " 30  target                                     7490 non-null   int64  \n",
      "dtypes: float64(23), int64(5), object(3)\n",
      "memory usage: 1.8+ MB\n"
     ]
    }
   ],
   "source": [
    "df.info()"
   ]
  },
  {
   "cell_type": "code",
   "execution_count": 30,
   "metadata": {
    "ExecuteTime": {
     "end_time": "2022-01-22T13:01:57.754310Z",
     "start_time": "2022-01-22T13:01:57.599393Z"
    }
   },
   "outputs": [
    {
     "data": {
      "text/plain": [
       "Field_Goal_Percentage                 38\n",
       "three_Point_Field_Goal_Percentage    859\n",
       "two_Point_Field_Goal_Percentage       84\n",
       "Effective_Field_Goal_Percentage       38\n",
       "Free_Throws_Percentage               365\n",
       "dtype: int64"
      ]
     },
     "execution_count": 30,
     "metadata": {},
     "output_type": "execute_result"
    },
    {
     "data": {
      "image/png": "[encoded data removed]",
      "text/plain": [
       "<Figure size 432x288 with 1 Axes>"
      ]
     },
     "metadata": {
      "needs_background": "light"
     },
     "output_type": "display_data"
    }
   ],
   "source": [
    "mv = pd.DataFrame(df.isnull().sum().sort_values(ascending=False)) #create df of missing values\n",
    "mv.loc[mv[0] > 0].plot.barh()\n",
    "\n",
    "\n",
    "missing = df.isna().sum()\n",
    "missing[missing > 0]"
   ]
  },
  {
   "cell_type": "code",
   "execution_count": 31,
   "metadata": {
    "ExecuteTime": {
     "end_time": "2022-01-22T13:02:00.213922Z",
     "start_time": "2022-01-22T13:02:00.154737Z"
    }
   },
   "outputs": [
    {
     "data": {
      "text/html": [
       "<div>\n",
       "<style scoped>\n",
       "    .dataframe tbody tr th:only-of-type {\n",
       "        vertical-align: middle;\n",
       "    }\n",
       "\n",
       "    .dataframe tbody tr th {\n",
       "        vertical-align: top;\n",
       "    }\n",
       "\n",
       "    .dataframe thead th {\n",
       "        text-align: right;\n",
       "    }\n",
       "</style>\n",
       "<table border=\"1\" class=\"dataframe\">\n",
       "  <thead>\n",
       "    <tr style=\"text-align: right;\">\n",
       "      <th></th>\n",
       "      <th>count</th>\n",
       "      <th>mean</th>\n",
       "      <th>std</th>\n",
       "      <th>min</th>\n",
       "      <th>25%</th>\n",
       "      <th>50%</th>\n",
       "      <th>75%</th>\n",
       "      <th>max</th>\n",
       "    </tr>\n",
       "  </thead>\n",
       "  <tbody>\n",
       "    <tr>\n",
       "      <th>age</th>\n",
       "      <td>7490.0</td>\n",
       "      <td>26.384379</td>\n",
       "      <td>4.147281</td>\n",
       "      <td>19.0</td>\n",
       "      <td>23.000</td>\n",
       "      <td>26.000</td>\n",
       "      <td>29.000</td>\n",
       "      <td>43.0</td>\n",
       "    </tr>\n",
       "    <tr>\n",
       "      <th>Games</th>\n",
       "      <td>7490.0</td>\n",
       "      <td>44.520027</td>\n",
       "      <td>25.608319</td>\n",
       "      <td>1.0</td>\n",
       "      <td>22.000</td>\n",
       "      <td>47.000</td>\n",
       "      <td>67.000</td>\n",
       "      <td>83.0</td>\n",
       "    </tr>\n",
       "    <tr>\n",
       "      <th>Gstart</th>\n",
       "      <td>7490.0</td>\n",
       "      <td>20.606142</td>\n",
       "      <td>26.251091</td>\n",
       "      <td>0.0</td>\n",
       "      <td>0.000</td>\n",
       "      <td>6.000</td>\n",
       "      <td>36.000</td>\n",
       "      <td>82.0</td>\n",
       "    </tr>\n",
       "    <tr>\n",
       "      <th>Minutes</th>\n",
       "      <td>7490.0</td>\n",
       "      <td>19.448745</td>\n",
       "      <td>9.368433</td>\n",
       "      <td>0.0</td>\n",
       "      <td>12.000</td>\n",
       "      <td>19.000</td>\n",
       "      <td>27.100</td>\n",
       "      <td>42.0</td>\n",
       "    </tr>\n",
       "    <tr>\n",
       "      <th>Field-Per-Game</th>\n",
       "      <td>7490.0</td>\n",
       "      <td>2.981495</td>\n",
       "      <td>2.094391</td>\n",
       "      <td>0.0</td>\n",
       "      <td>1.400</td>\n",
       "      <td>2.500</td>\n",
       "      <td>4.200</td>\n",
       "      <td>11.2</td>\n",
       "    </tr>\n",
       "    <tr>\n",
       "      <th>Field-Attempts</th>\n",
       "      <td>7490.0</td>\n",
       "      <td>6.665834</td>\n",
       "      <td>4.423161</td>\n",
       "      <td>0.0</td>\n",
       "      <td>3.200</td>\n",
       "      <td>5.700</td>\n",
       "      <td>9.200</td>\n",
       "      <td>24.5</td>\n",
       "    </tr>\n",
       "    <tr>\n",
       "      <th>Field_Goal_Percentage</th>\n",
       "      <td>7452.0</td>\n",
       "      <td>0.437136</td>\n",
       "      <td>0.104826</td>\n",
       "      <td>0.0</td>\n",
       "      <td>0.396</td>\n",
       "      <td>0.437</td>\n",
       "      <td>0.484</td>\n",
       "      <td>1.0</td>\n",
       "    </tr>\n",
       "    <tr>\n",
       "      <th>three_Point_Field_Goals_Per_Game</th>\n",
       "      <td>7490.0</td>\n",
       "      <td>0.705113</td>\n",
       "      <td>0.739837</td>\n",
       "      <td>0.0</td>\n",
       "      <td>0.000</td>\n",
       "      <td>0.500</td>\n",
       "      <td>1.100</td>\n",
       "      <td>5.3</td>\n",
       "    </tr>\n",
       "    <tr>\n",
       "      <th>three_Point_Field_attemps_Goal_Percentage</th>\n",
       "      <td>7490.0</td>\n",
       "      <td>2.025167</td>\n",
       "      <td>1.928834</td>\n",
       "      <td>0.0</td>\n",
       "      <td>0.300</td>\n",
       "      <td>1.600</td>\n",
       "      <td>3.200</td>\n",
       "      <td>13.2</td>\n",
       "    </tr>\n",
       "    <tr>\n",
       "      <th>three_Point_Field_Goal_Percentage</th>\n",
       "      <td>6631.0</td>\n",
       "      <td>0.296158</td>\n",
       "      <td>0.148969</td>\n",
       "      <td>0.0</td>\n",
       "      <td>0.250</td>\n",
       "      <td>0.333</td>\n",
       "      <td>0.375</td>\n",
       "      <td>1.0</td>\n",
       "    </tr>\n",
       "    <tr>\n",
       "      <th>two_Point_Field_Goals_Per_Game</th>\n",
       "      <td>7490.0</td>\n",
       "      <td>2.277570</td>\n",
       "      <td>1.788697</td>\n",
       "      <td>0.0</td>\n",
       "      <td>0.900</td>\n",
       "      <td>1.800</td>\n",
       "      <td>3.200</td>\n",
       "      <td>10.2</td>\n",
       "    </tr>\n",
       "    <tr>\n",
       "      <th>two_Point_Field_Goal_Attempts_Per_Game</th>\n",
       "      <td>7490.0</td>\n",
       "      <td>4.641802</td>\n",
       "      <td>3.471114</td>\n",
       "      <td>0.0</td>\n",
       "      <td>2.000</td>\n",
       "      <td>3.700</td>\n",
       "      <td>6.400</td>\n",
       "      <td>20.4</td>\n",
       "    </tr>\n",
       "    <tr>\n",
       "      <th>two_Point_Field_Goal_Percentage</th>\n",
       "      <td>7406.0</td>\n",
       "      <td>0.478455</td>\n",
       "      <td>0.112973</td>\n",
       "      <td>0.0</td>\n",
       "      <td>0.434</td>\n",
       "      <td>0.481</td>\n",
       "      <td>0.531</td>\n",
       "      <td>1.0</td>\n",
       "    </tr>\n",
       "    <tr>\n",
       "      <th>Effective_Field_Goal_Percentage</th>\n",
       "      <td>7452.0</td>\n",
       "      <td>0.486724</td>\n",
       "      <td>0.108956</td>\n",
       "      <td>0.0</td>\n",
       "      <td>0.451</td>\n",
       "      <td>0.497</td>\n",
       "      <td>0.536</td>\n",
       "      <td>1.5</td>\n",
       "    </tr>\n",
       "    <tr>\n",
       "      <th>Free_Throws_Per_Game</th>\n",
       "      <td>7490.0</td>\n",
       "      <td>1.338825</td>\n",
       "      <td>1.295807</td>\n",
       "      <td>0.0</td>\n",
       "      <td>0.500</td>\n",
       "      <td>1.000</td>\n",
       "      <td>1.800</td>\n",
       "      <td>10.2</td>\n",
       "    </tr>\n",
       "    <tr>\n",
       "      <th>Free_Throws_attemps_Per_Game</th>\n",
       "      <td>7490.0</td>\n",
       "      <td>1.776622</td>\n",
       "      <td>1.607357</td>\n",
       "      <td>0.0</td>\n",
       "      <td>0.700</td>\n",
       "      <td>1.300</td>\n",
       "      <td>2.400</td>\n",
       "      <td>11.8</td>\n",
       "    </tr>\n",
       "    <tr>\n",
       "      <th>Free_Throws_Percentage</th>\n",
       "      <td>7125.0</td>\n",
       "      <td>0.730095</td>\n",
       "      <td>0.154081</td>\n",
       "      <td>0.0</td>\n",
       "      <td>0.667</td>\n",
       "      <td>0.757</td>\n",
       "      <td>0.827</td>\n",
       "      <td>1.0</td>\n",
       "    </tr>\n",
       "    <tr>\n",
       "      <th>Offensive_Rebounds_Per_Game</th>\n",
       "      <td>7490.0</td>\n",
       "      <td>0.848625</td>\n",
       "      <td>0.780236</td>\n",
       "      <td>0.0</td>\n",
       "      <td>0.300</td>\n",
       "      <td>0.600</td>\n",
       "      <td>1.175</td>\n",
       "      <td>6.0</td>\n",
       "    </tr>\n",
       "    <tr>\n",
       "      <th>Defensive_Rebounds_Per_Game</th>\n",
       "      <td>7490.0</td>\n",
       "      <td>2.586048</td>\n",
       "      <td>1.767294</td>\n",
       "      <td>0.0</td>\n",
       "      <td>1.300</td>\n",
       "      <td>2.200</td>\n",
       "      <td>3.400</td>\n",
       "      <td>12.0</td>\n",
       "    </tr>\n",
       "    <tr>\n",
       "      <th>Total_Rebounds_Per_Game</th>\n",
       "      <td>7490.0</td>\n",
       "      <td>3.432283</td>\n",
       "      <td>2.406015</td>\n",
       "      <td>0.0</td>\n",
       "      <td>1.700</td>\n",
       "      <td>2.900</td>\n",
       "      <td>4.600</td>\n",
       "      <td>18.0</td>\n",
       "    </tr>\n",
       "    <tr>\n",
       "      <th>Assists_Per_Game</th>\n",
       "      <td>7490.0</td>\n",
       "      <td>1.775968</td>\n",
       "      <td>1.738297</td>\n",
       "      <td>0.0</td>\n",
       "      <td>0.600</td>\n",
       "      <td>1.200</td>\n",
       "      <td>2.300</td>\n",
       "      <td>12.8</td>\n",
       "    </tr>\n",
       "    <tr>\n",
       "      <th>Steals_Per_Game</th>\n",
       "      <td>7490.0</td>\n",
       "      <td>0.613151</td>\n",
       "      <td>0.419735</td>\n",
       "      <td>0.0</td>\n",
       "      <td>0.300</td>\n",
       "      <td>0.500</td>\n",
       "      <td>0.800</td>\n",
       "      <td>2.5</td>\n",
       "    </tr>\n",
       "    <tr>\n",
       "      <th>Blocks_Per_Game</th>\n",
       "      <td>7490.0</td>\n",
       "      <td>0.386368</td>\n",
       "      <td>0.423962</td>\n",
       "      <td>0.0</td>\n",
       "      <td>0.100</td>\n",
       "      <td>0.300</td>\n",
       "      <td>0.500</td>\n",
       "      <td>6.0</td>\n",
       "    </tr>\n",
       "    <tr>\n",
       "      <th>Turnovers_Per_Game</th>\n",
       "      <td>7490.0</td>\n",
       "      <td>1.102069</td>\n",
       "      <td>0.775644</td>\n",
       "      <td>0.0</td>\n",
       "      <td>0.600</td>\n",
       "      <td>0.900</td>\n",
       "      <td>1.500</td>\n",
       "      <td>5.7</td>\n",
       "    </tr>\n",
       "    <tr>\n",
       "      <th>Personal_Fouls_Per_Game</th>\n",
       "      <td>7490.0</td>\n",
       "      <td>1.696756</td>\n",
       "      <td>0.776775</td>\n",
       "      <td>0.0</td>\n",
       "      <td>1.100</td>\n",
       "      <td>1.700</td>\n",
       "      <td>2.200</td>\n",
       "      <td>6.0</td>\n",
       "    </tr>\n",
       "    <tr>\n",
       "      <th>Points_Per_Game</th>\n",
       "      <td>7490.0</td>\n",
       "      <td>8.002951</td>\n",
       "      <td>5.755080</td>\n",
       "      <td>0.0</td>\n",
       "      <td>3.600</td>\n",
       "      <td>6.700</td>\n",
       "      <td>11.200</td>\n",
       "      <td>36.1</td>\n",
       "    </tr>\n",
       "    <tr>\n",
       "      <th>season</th>\n",
       "      <td>7490.0</td>\n",
       "      <td>15.704539</td>\n",
       "      <td>3.476475</td>\n",
       "      <td>10.0</td>\n",
       "      <td>13.000</td>\n",
       "      <td>16.000</td>\n",
       "      <td>19.000</td>\n",
       "      <td>21.0</td>\n",
       "    </tr>\n",
       "    <tr>\n",
       "      <th>target</th>\n",
       "      <td>7490.0</td>\n",
       "      <td>0.036449</td>\n",
       "      <td>0.187416</td>\n",
       "      <td>0.0</td>\n",
       "      <td>0.000</td>\n",
       "      <td>0.000</td>\n",
       "      <td>0.000</td>\n",
       "      <td>1.0</td>\n",
       "    </tr>\n",
       "  </tbody>\n",
       "</table>\n",
       "</div>"
      ],
      "text/plain": [
       "                                            count       mean        std   min  \\\n",
       "age                                        7490.0  26.384379   4.147281  19.0   \n",
       "Games                                      7490.0  44.520027  25.608319   1.0   \n",
       "Gstart                                     7490.0  20.606142  26.251091   0.0   \n",
       "Minutes                                    7490.0  19.448745   9.368433   0.0   \n",
       "Field-Per-Game                             7490.0   2.981495   2.094391   0.0   \n",
       "Field-Attempts                             7490.0   6.665834   4.423161   0.0   \n",
       "Field_Goal_Percentage                      7452.0   0.437136   0.104826   0.0   \n",
       "three_Point_Field_Goals_Per_Game           7490.0   0.705113   0.739837   0.0   \n",
       "three_Point_Field_attemps_Goal_Percentage  7490.0   2.025167   1.928834   0.0   \n",
       "three_Point_Field_Goal_Percentage          6631.0   0.296158   0.148969   0.0   \n",
       "two_Point_Field_Goals_Per_Game             7490.0   2.277570   1.788697   0.0   \n",
       "two_Point_Field_Goal_Attempts_Per_Game     7490.0   4.641802   3.471114   0.0   \n",
       "two_Point_Field_Goal_Percentage            7406.0   0.478455   0.112973   0.0   \n",
       "Effective_Field_Goal_Percentage            7452.0   0.486724   0.108956   0.0   \n",
       "Free_Throws_Per_Game                       7490.0   1.338825   1.295807   0.0   \n",
       "Free_Throws_attemps_Per_Game               7490.0   1.776622   1.607357   0.0   \n",
       "Free_Throws_Percentage                     7125.0   0.730095   0.154081   0.0   \n",
       "Offensive_Rebounds_Per_Game                7490.0   0.848625   0.780236   0.0   \n",
       "Defensive_Rebounds_Per_Game                7490.0   2.586048   1.767294   0.0   \n",
       "Total_Rebounds_Per_Game                    7490.0   3.432283   2.406015   0.0   \n",
       "Assists_Per_Game                           7490.0   1.775968   1.738297   0.0   \n",
       "Steals_Per_Game                            7490.0   0.613151   0.419735   0.0   \n",
       "Blocks_Per_Game                            7490.0   0.386368   0.423962   0.0   \n",
       "Turnovers_Per_Game                         7490.0   1.102069   0.775644   0.0   \n",
       "Personal_Fouls_Per_Game                    7490.0   1.696756   0.776775   0.0   \n",
       "Points_Per_Game                            7490.0   8.002951   5.755080   0.0   \n",
       "season                                     7490.0  15.704539   3.476475  10.0   \n",
       "target                                     7490.0   0.036449   0.187416   0.0   \n",
       "\n",
       "                                              25%     50%     75%   max  \n",
       "age                                        23.000  26.000  29.000  43.0  \n",
       "Games                                      22.000  47.000  67.000  83.0  \n",
       "Gstart                                      0.000   6.000  36.000  82.0  \n",
       "Minutes                                    12.000  19.000  27.100  42.0  \n",
       "Field-Per-Game                              1.400   2.500   4.200  11.2  \n",
       "Field-Attempts                              3.200   5.700   9.200  24.5  \n",
       "Field_Goal_Percentage                       0.396   0.437   0.484   1.0  \n",
       "three_Point_Field_Goals_Per_Game            0.000   0.500   1.100   5.3  \n",
       "three_Point_Field_attemps_Goal_Percentage   0.300   1.600   3.200  13.2  \n",
       "three_Point_Field_Goal_Percentage           0.250   0.333   0.375   1.0  \n",
       "two_Point_Field_Goals_Per_Game              0.900   1.800   3.200  10.2  \n",
       "two_Point_Field_Goal_Attempts_Per_Game      2.000   3.700   6.400  20.4  \n",
       "two_Point_Field_Goal_Percentage             0.434   0.481   0.531   1.0  \n",
       "Effective_Field_Goal_Percentage             0.451   0.497   0.536   1.5  \n",
       "Free_Throws_Per_Game                        0.500   1.000   1.800  10.2  \n",
       "Free_Throws_attemps_Per_Game                0.700   1.300   2.400  11.8  \n",
       "Free_Throws_Percentage                      0.667   0.757   0.827   1.0  \n",
       "Offensive_Rebounds_Per_Game                 0.300   0.600   1.175   6.0  \n",
       "Defensive_Rebounds_Per_Game                 1.300   2.200   3.400  12.0  \n",
       "Total_Rebounds_Per_Game                     1.700   2.900   4.600  18.0  \n",
       "Assists_Per_Game                            0.600   1.200   2.300  12.8  \n",
       "Steals_Per_Game                             0.300   0.500   0.800   2.5  \n",
       "Blocks_Per_Game                             0.100   0.300   0.500   6.0  \n",
       "Turnovers_Per_Game                          0.600   0.900   1.500   5.7  \n",
       "Personal_Fouls_Per_Game                     1.100   1.700   2.200   6.0  \n",
       "Points_Per_Game                             3.600   6.700  11.200  36.1  \n",
       "season                                     13.000  16.000  19.000  21.0  \n",
       "target                                      0.000   0.000   0.000   1.0  "
      ]
     },
     "execution_count": 31,
     "metadata": {},
     "output_type": "execute_result"
    }
   ],
   "source": [
    "df.describe().T"
   ]
  },
  {
   "cell_type": "markdown",
   "metadata": {},
   "source": [
    "#### DATAA INTEGRITY\n",
    "- age cannot be negative\n",
    "- number of point cannot be negative\n",
    "- season between 10 and 21"
   ]
  },
  {
   "cell_type": "code",
   "execution_count": 34,
   "metadata": {
    "ExecuteTime": {
     "end_time": "2022-01-22T13:03:55.571071Z",
     "start_time": "2022-01-22T13:03:55.568293Z"
    }
   },
   "outputs": [],
   "source": [
    "assert(df['age'].all() > 0)\n",
    "assert(df['Points_Per_Game'].any() > 0)"
   ]
  },
  {
   "cell_type": "markdown",
   "metadata": {},
   "source": [
    "### DEVIDE TO CATEGORICAL AND NUMERICAL"
   ]
  },
  {
   "cell_type": "code",
   "execution_count": 35,
   "metadata": {
    "ExecuteTime": {
     "end_time": "2022-01-22T13:04:21.497638Z",
     "start_time": "2022-01-22T13:04:21.492121Z"
    }
   },
   "outputs": [],
   "source": [
    "g = df.columns.to_series().groupby(df.dtypes).groups\n",
    "g = {k.name: v for k , v in g.items()}\n",
    "\n",
    "cat_feature = g['object'].to_list()\n",
    "num_feature_f = g['float64'].to_list()\n",
    "num_feature_i = g['int64'].to_list()\n",
    "num_feature = num_feature_f+num_feature_i"
   ]
  },
  {
   "cell_type": "markdown",
   "metadata": {},
   "source": [
    "#### check that the data shape remain the same"
   ]
  },
  {
   "cell_type": "code",
   "execution_count": 36,
   "metadata": {
    "ExecuteTime": {
     "end_time": "2022-01-22T13:04:46.773809Z",
     "start_time": "2022-01-22T13:04:46.770941Z"
    }
   },
   "outputs": [],
   "source": [
    "assert(len(num_feature)+len(cat_feature) == df.shape[1])"
   ]
  },
  {
   "cell_type": "markdown",
   "metadata": {},
   "source": [
    "#### check for correlation"
   ]
  },
  {
   "cell_type": "code",
   "execution_count": 37,
   "metadata": {
    "ExecuteTime": {
     "end_time": "2022-01-22T13:05:03.797099Z",
     "start_time": "2022-01-22T13:05:03.673242Z"
    }
   },
   "outputs": [
    {
     "data": {
      "text/html": [
       "<style  type=\"text/css\" >\n",
       "#T_e9f2f0fe_7b83_11ec_aace_f218987ff6derow0_col0,#T_e9f2f0fe_7b83_11ec_aace_f218987ff6derow1_col1,#T_e9f2f0fe_7b83_11ec_aace_f218987ff6derow1_col2,#T_e9f2f0fe_7b83_11ec_aace_f218987ff6derow1_col3,#T_e9f2f0fe_7b83_11ec_aace_f218987ff6derow1_col4,#T_e9f2f0fe_7b83_11ec_aace_f218987ff6derow1_col5,#T_e9f2f0fe_7b83_11ec_aace_f218987ff6derow1_col10,#T_e9f2f0fe_7b83_11ec_aace_f218987ff6derow1_col11,#T_e9f2f0fe_7b83_11ec_aace_f218987ff6derow1_col14,#T_e9f2f0fe_7b83_11ec_aace_f218987ff6derow1_col15,#T_e9f2f0fe_7b83_11ec_aace_f218987ff6derow1_col18,#T_e9f2f0fe_7b83_11ec_aace_f218987ff6derow1_col19,#T_e9f2f0fe_7b83_11ec_aace_f218987ff6derow1_col21,#T_e9f2f0fe_7b83_11ec_aace_f218987ff6derow1_col23,#T_e9f2f0fe_7b83_11ec_aace_f218987ff6derow1_col24,#T_e9f2f0fe_7b83_11ec_aace_f218987ff6derow1_col25,#T_e9f2f0fe_7b83_11ec_aace_f218987ff6derow2_col1,#T_e9f2f0fe_7b83_11ec_aace_f218987ff6derow2_col2,#T_e9f2f0fe_7b83_11ec_aace_f218987ff6derow2_col3,#T_e9f2f0fe_7b83_11ec_aace_f218987ff6derow2_col4,#T_e9f2f0fe_7b83_11ec_aace_f218987ff6derow2_col5,#T_e9f2f0fe_7b83_11ec_aace_f218987ff6derow2_col10,#T_e9f2f0fe_7b83_11ec_aace_f218987ff6derow2_col11,#T_e9f2f0fe_7b83_11ec_aace_f218987ff6derow2_col14,#T_e9f2f0fe_7b83_11ec_aace_f218987ff6derow2_col15,#T_e9f2f0fe_7b83_11ec_aace_f218987ff6derow2_col17,#T_e9f2f0fe_7b83_11ec_aace_f218987ff6derow2_col18,#T_e9f2f0fe_7b83_11ec_aace_f218987ff6derow2_col19,#T_e9f2f0fe_7b83_11ec_aace_f218987ff6derow2_col20,#T_e9f2f0fe_7b83_11ec_aace_f218987ff6derow2_col21,#T_e9f2f0fe_7b83_11ec_aace_f218987ff6derow2_col23,#T_e9f2f0fe_7b83_11ec_aace_f218987ff6derow2_col24,#T_e9f2f0fe_7b83_11ec_aace_f218987ff6derow2_col25,#T_e9f2f0fe_7b83_11ec_aace_f218987ff6derow3_col1,#T_e9f2f0fe_7b83_11ec_aace_f218987ff6derow3_col2,#T_e9f2f0fe_7b83_11ec_aace_f218987ff6derow3_col3,#T_e9f2f0fe_7b83_11ec_aace_f218987ff6derow3_col4,#T_e9f2f0fe_7b83_11ec_aace_f218987ff6derow3_col5,#T_e9f2f0fe_7b83_11ec_aace_f218987ff6derow3_col7,#T_e9f2f0fe_7b83_11ec_aace_f218987ff6derow3_col8,#T_e9f2f0fe_7b83_11ec_aace_f218987ff6derow3_col10,#T_e9f2f0fe_7b83_11ec_aace_f218987ff6derow3_col11,#T_e9f2f0fe_7b83_11ec_aace_f218987ff6derow3_col14,#T_e9f2f0fe_7b83_11ec_aace_f218987ff6derow3_col15,#T_e9f2f0fe_7b83_11ec_aace_f218987ff6derow3_col17,#T_e9f2f0fe_7b83_11ec_aace_f218987ff6derow3_col18,#T_e9f2f0fe_7b83_11ec_aace_f218987ff6derow3_col19,#T_e9f2f0fe_7b83_11ec_aace_f218987ff6derow3_col20,#T_e9f2f0fe_7b83_11ec_aace_f218987ff6derow3_col21,#T_e9f2f0fe_7b83_11ec_aace_f218987ff6derow3_col23,#T_e9f2f0fe_7b83_11ec_aace_f218987ff6derow3_col24,#T_e9f2f0fe_7b83_11ec_aace_f218987ff6derow3_col25,#T_e9f2f0fe_7b83_11ec_aace_f218987ff6derow4_col1,#T_e9f2f0fe_7b83_11ec_aace_f218987ff6derow4_col2,#T_e9f2f0fe_7b83_11ec_aace_f218987ff6derow4_col3,#T_e9f2f0fe_7b83_11ec_aace_f218987ff6derow4_col4,#T_e9f2f0fe_7b83_11ec_aace_f218987ff6derow4_col5,#T_e9f2f0fe_7b83_11ec_aace_f218987ff6derow4_col7,#T_e9f2f0fe_7b83_11ec_aace_f218987ff6derow4_col8,#T_e9f2f0fe_7b83_11ec_aace_f218987ff6derow4_col10,#T_e9f2f0fe_7b83_11ec_aace_f218987ff6derow4_col11,#T_e9f2f0fe_7b83_11ec_aace_f218987ff6derow4_col14,#T_e9f2f0fe_7b83_11ec_aace_f218987ff6derow4_col15,#T_e9f2f0fe_7b83_11ec_aace_f218987ff6derow4_col17,#T_e9f2f0fe_7b83_11ec_aace_f218987ff6derow4_col18,#T_e9f2f0fe_7b83_11ec_aace_f218987ff6derow4_col19,#T_e9f2f0fe_7b83_11ec_aace_f218987ff6derow4_col20,#T_e9f2f0fe_7b83_11ec_aace_f218987ff6derow4_col21,#T_e9f2f0fe_7b83_11ec_aace_f218987ff6derow4_col23,#T_e9f2f0fe_7b83_11ec_aace_f218987ff6derow4_col24,#T_e9f2f0fe_7b83_11ec_aace_f218987ff6derow4_col25,#T_e9f2f0fe_7b83_11ec_aace_f218987ff6derow4_col27,#T_e9f2f0fe_7b83_11ec_aace_f218987ff6derow5_col1,#T_e9f2f0fe_7b83_11ec_aace_f218987ff6derow5_col2,#T_e9f2f0fe_7b83_11ec_aace_f218987ff6derow5_col3,#T_e9f2f0fe_7b83_11ec_aace_f218987ff6derow5_col4,#T_e9f2f0fe_7b83_11ec_aace_f218987ff6derow5_col5,#T_e9f2f0fe_7b83_11ec_aace_f218987ff6derow5_col7,#T_e9f2f0fe_7b83_11ec_aace_f218987ff6derow5_col8,#T_e9f2f0fe_7b83_11ec_aace_f218987ff6derow5_col10,#T_e9f2f0fe_7b83_11ec_aace_f218987ff6derow5_col11,#T_e9f2f0fe_7b83_11ec_aace_f218987ff6derow5_col14,#T_e9f2f0fe_7b83_11ec_aace_f218987ff6derow5_col15,#T_e9f2f0fe_7b83_11ec_aace_f218987ff6derow5_col18,#T_e9f2f0fe_7b83_11ec_aace_f218987ff6derow5_col19,#T_e9f2f0fe_7b83_11ec_aace_f218987ff6derow5_col20,#T_e9f2f0fe_7b83_11ec_aace_f218987ff6derow5_col21,#T_e9f2f0fe_7b83_11ec_aace_f218987ff6derow5_col23,#T_e9f2f0fe_7b83_11ec_aace_f218987ff6derow5_col24,#T_e9f2f0fe_7b83_11ec_aace_f218987ff6derow5_col25,#T_e9f2f0fe_7b83_11ec_aace_f218987ff6derow5_col27,#T_e9f2f0fe_7b83_11ec_aace_f218987ff6derow6_col6,#T_e9f2f0fe_7b83_11ec_aace_f218987ff6derow6_col12,#T_e9f2f0fe_7b83_11ec_aace_f218987ff6derow6_col13,#T_e9f2f0fe_7b83_11ec_aace_f218987ff6derow6_col17,#T_e9f2f0fe_7b83_11ec_aace_f218987ff6derow7_col3,#T_e9f2f0fe_7b83_11ec_aace_f218987ff6derow7_col4,#T_e9f2f0fe_7b83_11ec_aace_f218987ff6derow7_col5,#T_e9f2f0fe_7b83_11ec_aace_f218987ff6derow7_col7,#T_e9f2f0fe_7b83_11ec_aace_f218987ff6derow7_col8,#T_e9f2f0fe_7b83_11ec_aace_f218987ff6derow7_col9,#T_e9f2f0fe_7b83_11ec_aace_f218987ff6derow7_col14,#T_e9f2f0fe_7b83_11ec_aace_f218987ff6derow7_col20,#T_e9f2f0fe_7b83_11ec_aace_f218987ff6derow7_col21,#T_e9f2f0fe_7b83_11ec_aace_f218987ff6derow7_col23,#T_e9f2f0fe_7b83_11ec_aace_f218987ff6derow7_col25,#T_e9f2f0fe_7b83_11ec_aace_f218987ff6derow8_col3,#T_e9f2f0fe_7b83_11ec_aace_f218987ff6derow8_col4,#T_e9f2f0fe_7b83_11ec_aace_f218987ff6derow8_col5,#T_e9f2f0fe_7b83_11ec_aace_f218987ff6derow8_col7,#T_e9f2f0fe_7b83_11ec_aace_f218987ff6derow8_col8,#T_e9f2f0fe_7b83_11ec_aace_f218987ff6derow8_col9,#T_e9f2f0fe_7b83_11ec_aace_f218987ff6derow8_col14,#T_e9f2f0fe_7b83_11ec_aace_f218987ff6derow8_col20,#T_e9f2f0fe_7b83_11ec_aace_f218987ff6derow8_col21,#T_e9f2f0fe_7b83_11ec_aace_f218987ff6derow8_col23,#T_e9f2f0fe_7b83_11ec_aace_f218987ff6derow8_col25,#T_e9f2f0fe_7b83_11ec_aace_f218987ff6derow9_col7,#T_e9f2f0fe_7b83_11ec_aace_f218987ff6derow9_col8,#T_e9f2f0fe_7b83_11ec_aace_f218987ff6derow9_col9,#T_e9f2f0fe_7b83_11ec_aace_f218987ff6derow9_col13,#T_e9f2f0fe_7b83_11ec_aace_f218987ff6derow10_col1,#T_e9f2f0fe_7b83_11ec_aace_f218987ff6derow10_col2,#T_e9f2f0fe_7b83_11ec_aace_f218987ff6derow10_col3,#T_e9f2f0fe_7b83_11ec_aace_f218987ff6derow10_col4,#T_e9f2f0fe_7b83_11ec_aace_f218987ff6derow10_col5,#T_e9f2f0fe_7b83_11ec_aace_f218987ff6derow10_col10,#T_e9f2f0fe_7b83_11ec_aace_f218987ff6derow10_col11,#T_e9f2f0fe_7b83_11ec_aace_f218987ff6derow10_col14,#T_e9f2f0fe_7b83_11ec_aace_f218987ff6derow10_col15,#T_e9f2f0fe_7b83_11ec_aace_f218987ff6derow10_col17,#T_e9f2f0fe_7b83_11ec_aace_f218987ff6derow10_col18,#T_e9f2f0fe_7b83_11ec_aace_f218987ff6derow10_col19,#T_e9f2f0fe_7b83_11ec_aace_f218987ff6derow10_col20,#T_e9f2f0fe_7b83_11ec_aace_f218987ff6derow10_col21,#T_e9f2f0fe_7b83_11ec_aace_f218987ff6derow10_col22,#T_e9f2f0fe_7b83_11ec_aace_f218987ff6derow10_col23,#T_e9f2f0fe_7b83_11ec_aace_f218987ff6derow10_col24,#T_e9f2f0fe_7b83_11ec_aace_f218987ff6derow10_col25,#T_e9f2f0fe_7b83_11ec_aace_f218987ff6derow10_col27,#T_e9f2f0fe_7b83_11ec_aace_f218987ff6derow11_col1,#T_e9f2f0fe_7b83_11ec_aace_f218987ff6derow11_col2,#T_e9f2f0fe_7b83_11ec_aace_f218987ff6derow11_col3,#T_e9f2f0fe_7b83_11ec_aace_f218987ff6derow11_col4,#T_e9f2f0fe_7b83_11ec_aace_f218987ff6derow11_col5,#T_e9f2f0fe_7b83_11ec_aace_f218987ff6derow11_col10,#T_e9f2f0fe_7b83_11ec_aace_f218987ff6derow11_col11,#T_e9f2f0fe_7b83_11ec_aace_f218987ff6derow11_col14,#T_e9f2f0fe_7b83_11ec_aace_f218987ff6derow11_col15,#T_e9f2f0fe_7b83_11ec_aace_f218987ff6derow11_col17,#T_e9f2f0fe_7b83_11ec_aace_f218987ff6derow11_col18,#T_e9f2f0fe_7b83_11ec_aace_f218987ff6derow11_col19,#T_e9f2f0fe_7b83_11ec_aace_f218987ff6derow11_col20,#T_e9f2f0fe_7b83_11ec_aace_f218987ff6derow11_col21,#T_e9f2f0fe_7b83_11ec_aace_f218987ff6derow11_col22,#T_e9f2f0fe_7b83_11ec_aace_f218987ff6derow11_col23,#T_e9f2f0fe_7b83_11ec_aace_f218987ff6derow11_col24,#T_e9f2f0fe_7b83_11ec_aace_f218987ff6derow11_col25,#T_e9f2f0fe_7b83_11ec_aace_f218987ff6derow11_col27,#T_e9f2f0fe_7b83_11ec_aace_f218987ff6derow12_col6,#T_e9f2f0fe_7b83_11ec_aace_f218987ff6derow12_col12,#T_e9f2f0fe_7b83_11ec_aace_f218987ff6derow12_col13,#T_e9f2f0fe_7b83_11ec_aace_f218987ff6derow13_col6,#T_e9f2f0fe_7b83_11ec_aace_f218987ff6derow13_col9,#T_e9f2f0fe_7b83_11ec_aace_f218987ff6derow13_col12,#T_e9f2f0fe_7b83_11ec_aace_f218987ff6derow13_col13,#T_e9f2f0fe_7b83_11ec_aace_f218987ff6derow14_col1,#T_e9f2f0fe_7b83_11ec_aace_f218987ff6derow14_col2,#T_e9f2f0fe_7b83_11ec_aace_f218987ff6derow14_col3,#T_e9f2f0fe_7b83_11ec_aace_f218987ff6derow14_col4,#T_e9f2f0fe_7b83_11ec_aace_f218987ff6derow14_col5,#T_e9f2f0fe_7b83_11ec_aace_f218987ff6derow14_col7,#T_e9f2f0fe_7b83_11ec_aace_f218987ff6derow14_col8,#T_e9f2f0fe_7b83_11ec_aace_f218987ff6derow14_col10,#T_e9f2f0fe_7b83_11ec_aace_f218987ff6derow14_col11,#T_e9f2f0fe_7b83_11ec_aace_f218987ff6derow14_col14,#T_e9f2f0fe_7b83_11ec_aace_f218987ff6derow14_col15,#T_e9f2f0fe_7b83_11ec_aace_f218987ff6derow14_col18,#T_e9f2f0fe_7b83_11ec_aace_f218987ff6derow14_col19,#T_e9f2f0fe_7b83_11ec_aace_f218987ff6derow14_col20,#T_e9f2f0fe_7b83_11ec_aace_f218987ff6derow14_col21,#T_e9f2f0fe_7b83_11ec_aace_f218987ff6derow14_col23,#T_e9f2f0fe_7b83_11ec_aace_f218987ff6derow14_col24,#T_e9f2f0fe_7b83_11ec_aace_f218987ff6derow14_col25,#T_e9f2f0fe_7b83_11ec_aace_f218987ff6derow14_col27,#T_e9f2f0fe_7b83_11ec_aace_f218987ff6derow15_col1,#T_e9f2f0fe_7b83_11ec_aace_f218987ff6derow15_col2,#T_e9f2f0fe_7b83_11ec_aace_f218987ff6derow15_col3,#T_e9f2f0fe_7b83_11ec_aace_f218987ff6derow15_col4,#T_e9f2f0fe_7b83_11ec_aace_f218987ff6derow15_col5,#T_e9f2f0fe_7b83_11ec_aace_f218987ff6derow15_col10,#T_e9f2f0fe_7b83_11ec_aace_f218987ff6derow15_col11,#T_e9f2f0fe_7b83_11ec_aace_f218987ff6derow15_col14,#T_e9f2f0fe_7b83_11ec_aace_f218987ff6derow15_col15,#T_e9f2f0fe_7b83_11ec_aace_f218987ff6derow15_col17,#T_e9f2f0fe_7b83_11ec_aace_f218987ff6derow15_col18,#T_e9f2f0fe_7b83_11ec_aace_f218987ff6derow15_col19,#T_e9f2f0fe_7b83_11ec_aace_f218987ff6derow15_col20,#T_e9f2f0fe_7b83_11ec_aace_f218987ff6derow15_col21,#T_e9f2f0fe_7b83_11ec_aace_f218987ff6derow15_col23,#T_e9f2f0fe_7b83_11ec_aace_f218987ff6derow15_col24,#T_e9f2f0fe_7b83_11ec_aace_f218987ff6derow15_col25,#T_e9f2f0fe_7b83_11ec_aace_f218987ff6derow15_col27,#T_e9f2f0fe_7b83_11ec_aace_f218987ff6derow16_col16,#T_e9f2f0fe_7b83_11ec_aace_f218987ff6derow17_col2,#T_e9f2f0fe_7b83_11ec_aace_f218987ff6derow17_col3,#T_e9f2f0fe_7b83_11ec_aace_f218987ff6derow17_col4,#T_e9f2f0fe_7b83_11ec_aace_f218987ff6derow17_col6,#T_e9f2f0fe_7b83_11ec_aace_f218987ff6derow17_col10,#T_e9f2f0fe_7b83_11ec_aace_f218987ff6derow17_col11,#T_e9f2f0fe_7b83_11ec_aace_f218987ff6derow17_col15,#T_e9f2f0fe_7b83_11ec_aace_f218987ff6derow17_col17,#T_e9f2f0fe_7b83_11ec_aace_f218987ff6derow17_col18,#T_e9f2f0fe_7b83_11ec_aace_f218987ff6derow17_col19,#T_e9f2f0fe_7b83_11ec_aace_f218987ff6derow17_col22,#T_e9f2f0fe_7b83_11ec_aace_f218987ff6derow17_col24,#T_e9f2f0fe_7b83_11ec_aace_f218987ff6derow18_col1,#T_e9f2f0fe_7b83_11ec_aace_f218987ff6derow18_col2,#T_e9f2f0fe_7b83_11ec_aace_f218987ff6derow18_col3,#T_e9f2f0fe_7b83_11ec_aace_f218987ff6derow18_col4,#T_e9f2f0fe_7b83_11ec_aace_f218987ff6derow18_col5,#T_e9f2f0fe_7b83_11ec_aace_f218987ff6derow18_col10,#T_e9f2f0fe_7b83_11ec_aace_f218987ff6derow18_col11,#T_e9f2f0fe_7b83_11ec_aace_f218987ff6derow18_col14,#T_e9f2f0fe_7b83_11ec_aace_f218987ff6derow18_col15,#T_e9f2f0fe_7b83_11ec_aace_f218987ff6derow18_col17,#T_e9f2f0fe_7b83_11ec_aace_f218987ff6derow18_col18,#T_e9f2f0fe_7b83_11ec_aace_f218987ff6derow18_col19,#T_e9f2f0fe_7b83_11ec_aace_f218987ff6derow18_col21,#T_e9f2f0fe_7b83_11ec_aace_f218987ff6derow18_col22,#T_e9f2f0fe_7b83_11ec_aace_f218987ff6derow18_col23,#T_e9f2f0fe_7b83_11ec_aace_f218987ff6derow18_col24,#T_e9f2f0fe_7b83_11ec_aace_f218987ff6derow18_col25,#T_e9f2f0fe_7b83_11ec_aace_f218987ff6derow19_col1,#T_e9f2f0fe_7b83_11ec_aace_f218987ff6derow19_col2,#T_e9f2f0fe_7b83_11ec_aace_f218987ff6derow19_col3,#T_e9f2f0fe_7b83_11ec_aace_f218987ff6derow19_col4,#T_e9f2f0fe_7b83_11ec_aace_f218987ff6derow19_col5,#T_e9f2f0fe_7b83_11ec_aace_f218987ff6derow19_col10,#T_e9f2f0fe_7b83_11ec_aace_f218987ff6derow19_col11,#T_e9f2f0fe_7b83_11ec_aace_f218987ff6derow19_col14,#T_e9f2f0fe_7b83_11ec_aace_f218987ff6derow19_col15,#T_e9f2f0fe_7b83_11ec_aace_f218987ff6derow19_col17,#T_e9f2f0fe_7b83_11ec_aace_f218987ff6derow19_col18,#T_e9f2f0fe_7b83_11ec_aace_f218987ff6derow19_col19,#T_e9f2f0fe_7b83_11ec_aace_f218987ff6derow19_col21,#T_e9f2f0fe_7b83_11ec_aace_f218987ff6derow19_col22,#T_e9f2f0fe_7b83_11ec_aace_f218987ff6derow19_col23,#T_e9f2f0fe_7b83_11ec_aace_f218987ff6derow19_col24,#T_e9f2f0fe_7b83_11ec_aace_f218987ff6derow19_col25,#T_e9f2f0fe_7b83_11ec_aace_f218987ff6derow20_col2,#T_e9f2f0fe_7b83_11ec_aace_f218987ff6derow20_col3,#T_e9f2f0fe_7b83_11ec_aace_f218987ff6derow20_col4,#T_e9f2f0fe_7b83_11ec_aace_f218987ff6derow20_col5,#T_e9f2f0fe_7b83_11ec_aace_f218987ff6derow20_col7,#T_e9f2f0fe_7b83_11ec_aace_f218987ff6derow20_col8,#T_e9f2f0fe_7b83_11ec_aace_f218987ff6derow20_col10,#T_e9f2f0fe_7b83_11ec_aace_f218987ff6derow20_col11,#T_e9f2f0fe_7b83_11ec_aace_f218987ff6derow20_col14,#T_e9f2f0fe_7b83_11ec_aace_f218987ff6derow20_col15,#T_e9f2f0fe_7b83_11ec_aace_f218987ff6derow20_col20,#T_e9f2f0fe_7b83_11ec_aace_f218987ff6derow20_col21,#T_e9f2f0fe_7b83_11ec_aace_f218987ff6derow20_col23,#T_e9f2f0fe_7b83_11ec_aace_f218987ff6derow20_col25,#T_e9f2f0fe_7b83_11ec_aace_f218987ff6derow21_col1,#T_e9f2f0fe_7b83_11ec_aace_f218987ff6derow21_col2,#T_e9f2f0fe_7b83_11ec_aace_f218987ff6derow21_col3,#T_e9f2f0fe_7b83_11ec_aace_f218987ff6derow21_col4,#T_e9f2f0fe_7b83_11ec_aace_f218987ff6derow21_col5,#T_e9f2f0fe_7b83_11ec_aace_f218987ff6derow21_col7,#T_e9f2f0fe_7b83_11ec_aace_f218987ff6derow21_col8,#T_e9f2f0fe_7b83_11ec_aace_f218987ff6derow21_col10,#T_e9f2f0fe_7b83_11ec_aace_f218987ff6derow21_col11,#T_e9f2f0fe_7b83_11ec_aace_f218987ff6derow21_col14,#T_e9f2f0fe_7b83_11ec_aace_f218987ff6derow21_col15,#T_e9f2f0fe_7b83_11ec_aace_f218987ff6derow21_col18,#T_e9f2f0fe_7b83_11ec_aace_f218987ff6derow21_col19,#T_e9f2f0fe_7b83_11ec_aace_f218987ff6derow21_col20,#T_e9f2f0fe_7b83_11ec_aace_f218987ff6derow21_col21,#T_e9f2f0fe_7b83_11ec_aace_f218987ff6derow21_col23,#T_e9f2f0fe_7b83_11ec_aace_f218987ff6derow21_col24,#T_e9f2f0fe_7b83_11ec_aace_f218987ff6derow21_col25,#T_e9f2f0fe_7b83_11ec_aace_f218987ff6derow22_col10,#T_e9f2f0fe_7b83_11ec_aace_f218987ff6derow22_col11,#T_e9f2f0fe_7b83_11ec_aace_f218987ff6derow22_col17,#T_e9f2f0fe_7b83_11ec_aace_f218987ff6derow22_col18,#T_e9f2f0fe_7b83_11ec_aace_f218987ff6derow22_col19,#T_e9f2f0fe_7b83_11ec_aace_f218987ff6derow22_col22,#T_e9f2f0fe_7b83_11ec_aace_f218987ff6derow22_col24,#T_e9f2f0fe_7b83_11ec_aace_f218987ff6derow23_col1,#T_e9f2f0fe_7b83_11ec_aace_f218987ff6derow23_col2,#T_e9f2f0fe_7b83_11ec_aace_f218987ff6derow23_col3,#T_e9f2f0fe_7b83_11ec_aace_f218987ff6derow23_col4,#T_e9f2f0fe_7b83_11ec_aace_f218987ff6derow23_col5,#T_e9f2f0fe_7b83_11ec_aace_f218987ff6derow23_col7,#T_e9f2f0fe_7b83_11ec_aace_f218987ff6derow23_col8,#T_e9f2f0fe_7b83_11ec_aace_f218987ff6derow23_col10,#T_e9f2f0fe_7b83_11ec_aace_f218987ff6derow23_col11,#T_e9f2f0fe_7b83_11ec_aace_f218987ff6derow23_col14,#T_e9f2f0fe_7b83_11ec_aace_f218987ff6derow23_col15,#T_e9f2f0fe_7b83_11ec_aace_f218987ff6derow23_col18,#T_e9f2f0fe_7b83_11ec_aace_f218987ff6derow23_col19,#T_e9f2f0fe_7b83_11ec_aace_f218987ff6derow23_col20,#T_e9f2f0fe_7b83_11ec_aace_f218987ff6derow23_col21,#T_e9f2f0fe_7b83_11ec_aace_f218987ff6derow23_col23,#T_e9f2f0fe_7b83_11ec_aace_f218987ff6derow23_col24,#T_e9f2f0fe_7b83_11ec_aace_f218987ff6derow23_col25,#T_e9f2f0fe_7b83_11ec_aace_f218987ff6derow23_col27,#T_e9f2f0fe_7b83_11ec_aace_f218987ff6derow24_col1,#T_e9f2f0fe_7b83_11ec_aace_f218987ff6derow24_col2,#T_e9f2f0fe_7b83_11ec_aace_f218987ff6derow24_col3,#T_e9f2f0fe_7b83_11ec_aace_f218987ff6derow24_col4,#T_e9f2f0fe_7b83_11ec_aace_f218987ff6derow24_col5,#T_e9f2f0fe_7b83_11ec_aace_f218987ff6derow24_col10,#T_e9f2f0fe_7b83_11ec_aace_f218987ff6derow24_col11,#T_e9f2f0fe_7b83_11ec_aace_f218987ff6derow24_col14,#T_e9f2f0fe_7b83_11ec_aace_f218987ff6derow24_col15,#T_e9f2f0fe_7b83_11ec_aace_f218987ff6derow24_col17,#T_e9f2f0fe_7b83_11ec_aace_f218987ff6derow24_col18,#T_e9f2f0fe_7b83_11ec_aace_f218987ff6derow24_col19,#T_e9f2f0fe_7b83_11ec_aace_f218987ff6derow24_col21,#T_e9f2f0fe_7b83_11ec_aace_f218987ff6derow24_col22,#T_e9f2f0fe_7b83_11ec_aace_f218987ff6derow24_col23,#T_e9f2f0fe_7b83_11ec_aace_f218987ff6derow24_col24,#T_e9f2f0fe_7b83_11ec_aace_f218987ff6derow24_col25,#T_e9f2f0fe_7b83_11ec_aace_f218987ff6derow25_col1,#T_e9f2f0fe_7b83_11ec_aace_f218987ff6derow25_col2,#T_e9f2f0fe_7b83_11ec_aace_f218987ff6derow25_col3,#T_e9f2f0fe_7b83_11ec_aace_f218987ff6derow25_col4,#T_e9f2f0fe_7b83_11ec_aace_f218987ff6derow25_col5,#T_e9f2f0fe_7b83_11ec_aace_f218987ff6derow25_col7,#T_e9f2f0fe_7b83_11ec_aace_f218987ff6derow25_col8,#T_e9f2f0fe_7b83_11ec_aace_f218987ff6derow25_col10,#T_e9f2f0fe_7b83_11ec_aace_f218987ff6derow25_col11,#T_e9f2f0fe_7b83_11ec_aace_f218987ff6derow25_col14,#T_e9f2f0fe_7b83_11ec_aace_f218987ff6derow25_col15,#T_e9f2f0fe_7b83_11ec_aace_f218987ff6derow25_col18,#T_e9f2f0fe_7b83_11ec_aace_f218987ff6derow25_col19,#T_e9f2f0fe_7b83_11ec_aace_f218987ff6derow25_col20,#T_e9f2f0fe_7b83_11ec_aace_f218987ff6derow25_col21,#T_e9f2f0fe_7b83_11ec_aace_f218987ff6derow25_col23,#T_e9f2f0fe_7b83_11ec_aace_f218987ff6derow25_col24,#T_e9f2f0fe_7b83_11ec_aace_f218987ff6derow25_col25,#T_e9f2f0fe_7b83_11ec_aace_f218987ff6derow25_col27,#T_e9f2f0fe_7b83_11ec_aace_f218987ff6derow26_col26,#T_e9f2f0fe_7b83_11ec_aace_f218987ff6derow27_col4,#T_e9f2f0fe_7b83_11ec_aace_f218987ff6derow27_col5,#T_e9f2f0fe_7b83_11ec_aace_f218987ff6derow27_col10,#T_e9f2f0fe_7b83_11ec_aace_f218987ff6derow27_col11,#T_e9f2f0fe_7b83_11ec_aace_f218987ff6derow27_col14,#T_e9f2f0fe_7b83_11ec_aace_f218987ff6derow27_col15,#T_e9f2f0fe_7b83_11ec_aace_f218987ff6derow27_col23,#T_e9f2f0fe_7b83_11ec_aace_f218987ff6derow27_col25,#T_e9f2f0fe_7b83_11ec_aace_f218987ff6derow27_col27{\n",
       "            color:  green;\n",
       "        }#T_e9f2f0fe_7b83_11ec_aace_f218987ff6derow0_col1,#T_e9f2f0fe_7b83_11ec_aace_f218987ff6derow0_col2,#T_e9f2f0fe_7b83_11ec_aace_f218987ff6derow0_col3,#T_e9f2f0fe_7b83_11ec_aace_f218987ff6derow0_col4,#T_e9f2f0fe_7b83_11ec_aace_f218987ff6derow0_col5,#T_e9f2f0fe_7b83_11ec_aace_f218987ff6derow0_col6,#T_e9f2f0fe_7b83_11ec_aace_f218987ff6derow0_col7,#T_e9f2f0fe_7b83_11ec_aace_f218987ff6derow0_col8,#T_e9f2f0fe_7b83_11ec_aace_f218987ff6derow0_col9,#T_e9f2f0fe_7b83_11ec_aace_f218987ff6derow0_col10,#T_e9f2f0fe_7b83_11ec_aace_f218987ff6derow0_col11,#T_e9f2f0fe_7b83_11ec_aace_f218987ff6derow0_col12,#T_e9f2f0fe_7b83_11ec_aace_f218987ff6derow0_col13,#T_e9f2f0fe_7b83_11ec_aace_f218987ff6derow0_col14,#T_e9f2f0fe_7b83_11ec_aace_f218987ff6derow0_col15,#T_e9f2f0fe_7b83_11ec_aace_f218987ff6derow0_col16,#T_e9f2f0fe_7b83_11ec_aace_f218987ff6derow0_col17,#T_e9f2f0fe_7b83_11ec_aace_f218987ff6derow0_col18,#T_e9f2f0fe_7b83_11ec_aace_f218987ff6derow0_col19,#T_e9f2f0fe_7b83_11ec_aace_f218987ff6derow0_col20,#T_e9f2f0fe_7b83_11ec_aace_f218987ff6derow0_col21,#T_e9f2f0fe_7b83_11ec_aace_f218987ff6derow0_col22,#T_e9f2f0fe_7b83_11ec_aace_f218987ff6derow0_col23,#T_e9f2f0fe_7b83_11ec_aace_f218987ff6derow0_col24,#T_e9f2f0fe_7b83_11ec_aace_f218987ff6derow0_col25,#T_e9f2f0fe_7b83_11ec_aace_f218987ff6derow0_col26,#T_e9f2f0fe_7b83_11ec_aace_f218987ff6derow0_col27,#T_e9f2f0fe_7b83_11ec_aace_f218987ff6derow1_col0,#T_e9f2f0fe_7b83_11ec_aace_f218987ff6derow1_col6,#T_e9f2f0fe_7b83_11ec_aace_f218987ff6derow1_col7,#T_e9f2f0fe_7b83_11ec_aace_f218987ff6derow1_col8,#T_e9f2f0fe_7b83_11ec_aace_f218987ff6derow1_col9,#T_e9f2f0fe_7b83_11ec_aace_f218987ff6derow1_col12,#T_e9f2f0fe_7b83_11ec_aace_f218987ff6derow1_col13,#T_e9f2f0fe_7b83_11ec_aace_f218987ff6derow1_col16,#T_e9f2f0fe_7b83_11ec_aace_f218987ff6derow1_col17,#T_e9f2f0fe_7b83_11ec_aace_f218987ff6derow1_col20,#T_e9f2f0fe_7b83_11ec_aace_f218987ff6derow1_col22,#T_e9f2f0fe_7b83_11ec_aace_f218987ff6derow1_col26,#T_e9f2f0fe_7b83_11ec_aace_f218987ff6derow1_col27,#T_e9f2f0fe_7b83_11ec_aace_f218987ff6derow2_col0,#T_e9f2f0fe_7b83_11ec_aace_f218987ff6derow2_col6,#T_e9f2f0fe_7b83_11ec_aace_f218987ff6derow2_col7,#T_e9f2f0fe_7b83_11ec_aace_f218987ff6derow2_col8,#T_e9f2f0fe_7b83_11ec_aace_f218987ff6derow2_col9,#T_e9f2f0fe_7b83_11ec_aace_f218987ff6derow2_col12,#T_e9f2f0fe_7b83_11ec_aace_f218987ff6derow2_col13,#T_e9f2f0fe_7b83_11ec_aace_f218987ff6derow2_col16,#T_e9f2f0fe_7b83_11ec_aace_f218987ff6derow2_col22,#T_e9f2f0fe_7b83_11ec_aace_f218987ff6derow2_col26,#T_e9f2f0fe_7b83_11ec_aace_f218987ff6derow2_col27,#T_e9f2f0fe_7b83_11ec_aace_f218987ff6derow3_col0,#T_e9f2f0fe_7b83_11ec_aace_f218987ff6derow3_col6,#T_e9f2f0fe_7b83_11ec_aace_f218987ff6derow3_col9,#T_e9f2f0fe_7b83_11ec_aace_f218987ff6derow3_col12,#T_e9f2f0fe_7b83_11ec_aace_f218987ff6derow3_col13,#T_e9f2f0fe_7b83_11ec_aace_f218987ff6derow3_col16,#T_e9f2f0fe_7b83_11ec_aace_f218987ff6derow3_col22,#T_e9f2f0fe_7b83_11ec_aace_f218987ff6derow3_col26,#T_e9f2f0fe_7b83_11ec_aace_f218987ff6derow3_col27,#T_e9f2f0fe_7b83_11ec_aace_f218987ff6derow4_col0,#T_e9f2f0fe_7b83_11ec_aace_f218987ff6derow4_col6,#T_e9f2f0fe_7b83_11ec_aace_f218987ff6derow4_col9,#T_e9f2f0fe_7b83_11ec_aace_f218987ff6derow4_col12,#T_e9f2f0fe_7b83_11ec_aace_f218987ff6derow4_col13,#T_e9f2f0fe_7b83_11ec_aace_f218987ff6derow4_col16,#T_e9f2f0fe_7b83_11ec_aace_f218987ff6derow4_col22,#T_e9f2f0fe_7b83_11ec_aace_f218987ff6derow4_col26,#T_e9f2f0fe_7b83_11ec_aace_f218987ff6derow5_col0,#T_e9f2f0fe_7b83_11ec_aace_f218987ff6derow5_col6,#T_e9f2f0fe_7b83_11ec_aace_f218987ff6derow5_col9,#T_e9f2f0fe_7b83_11ec_aace_f218987ff6derow5_col12,#T_e9f2f0fe_7b83_11ec_aace_f218987ff6derow5_col13,#T_e9f2f0fe_7b83_11ec_aace_f218987ff6derow5_col16,#T_e9f2f0fe_7b83_11ec_aace_f218987ff6derow5_col17,#T_e9f2f0fe_7b83_11ec_aace_f218987ff6derow5_col22,#T_e9f2f0fe_7b83_11ec_aace_f218987ff6derow5_col26,#T_e9f2f0fe_7b83_11ec_aace_f218987ff6derow6_col0,#T_e9f2f0fe_7b83_11ec_aace_f218987ff6derow6_col1,#T_e9f2f0fe_7b83_11ec_aace_f218987ff6derow6_col2,#T_e9f2f0fe_7b83_11ec_aace_f218987ff6derow6_col3,#T_e9f2f0fe_7b83_11ec_aace_f218987ff6derow6_col4,#T_e9f2f0fe_7b83_11ec_aace_f218987ff6derow6_col5,#T_e9f2f0fe_7b83_11ec_aace_f218987ff6derow6_col7,#T_e9f2f0fe_7b83_11ec_aace_f218987ff6derow6_col8,#T_e9f2f0fe_7b83_11ec_aace_f218987ff6derow6_col9,#T_e9f2f0fe_7b83_11ec_aace_f218987ff6derow6_col10,#T_e9f2f0fe_7b83_11ec_aace_f218987ff6derow6_col11,#T_e9f2f0fe_7b83_11ec_aace_f218987ff6derow6_col14,#T_e9f2f0fe_7b83_11ec_aace_f218987ff6derow6_col15,#T_e9f2f0fe_7b83_11ec_aace_f218987ff6derow6_col16,#T_e9f2f0fe_7b83_11ec_aace_f218987ff6derow6_col18,#T_e9f2f0fe_7b83_11ec_aace_f218987ff6derow6_col19,#T_e9f2f0fe_7b83_11ec_aace_f218987ff6derow6_col20,#T_e9f2f0fe_7b83_11ec_aace_f218987ff6derow6_col21,#T_e9f2f0fe_7b83_11ec_aace_f218987ff6derow6_col22,#T_e9f2f0fe_7b83_11ec_aace_f218987ff6derow6_col23,#T_e9f2f0fe_7b83_11ec_aace_f218987ff6derow6_col24,#T_e9f2f0fe_7b83_11ec_aace_f218987ff6derow6_col25,#T_e9f2f0fe_7b83_11ec_aace_f218987ff6derow6_col26,#T_e9f2f0fe_7b83_11ec_aace_f218987ff6derow6_col27,#T_e9f2f0fe_7b83_11ec_aace_f218987ff6derow7_col0,#T_e9f2f0fe_7b83_11ec_aace_f218987ff6derow7_col1,#T_e9f2f0fe_7b83_11ec_aace_f218987ff6derow7_col2,#T_e9f2f0fe_7b83_11ec_aace_f218987ff6derow7_col6,#T_e9f2f0fe_7b83_11ec_aace_f218987ff6derow7_col10,#T_e9f2f0fe_7b83_11ec_aace_f218987ff6derow7_col11,#T_e9f2f0fe_7b83_11ec_aace_f218987ff6derow7_col12,#T_e9f2f0fe_7b83_11ec_aace_f218987ff6derow7_col13,#T_e9f2f0fe_7b83_11ec_aace_f218987ff6derow7_col15,#T_e9f2f0fe_7b83_11ec_aace_f218987ff6derow7_col16,#T_e9f2f0fe_7b83_11ec_aace_f218987ff6derow7_col17,#T_e9f2f0fe_7b83_11ec_aace_f218987ff6derow7_col18,#T_e9f2f0fe_7b83_11ec_aace_f218987ff6derow7_col19,#T_e9f2f0fe_7b83_11ec_aace_f218987ff6derow7_col22,#T_e9f2f0fe_7b83_11ec_aace_f218987ff6derow7_col24,#T_e9f2f0fe_7b83_11ec_aace_f218987ff6derow7_col26,#T_e9f2f0fe_7b83_11ec_aace_f218987ff6derow7_col27,#T_e9f2f0fe_7b83_11ec_aace_f218987ff6derow8_col0,#T_e9f2f0fe_7b83_11ec_aace_f218987ff6derow8_col1,#T_e9f2f0fe_7b83_11ec_aace_f218987ff6derow8_col2,#T_e9f2f0fe_7b83_11ec_aace_f218987ff6derow8_col6,#T_e9f2f0fe_7b83_11ec_aace_f218987ff6derow8_col10,#T_e9f2f0fe_7b83_11ec_aace_f218987ff6derow8_col11,#T_e9f2f0fe_7b83_11ec_aace_f218987ff6derow8_col12,#T_e9f2f0fe_7b83_11ec_aace_f218987ff6derow8_col13,#T_e9f2f0fe_7b83_11ec_aace_f218987ff6derow8_col15,#T_e9f2f0fe_7b83_11ec_aace_f218987ff6derow8_col16,#T_e9f2f0fe_7b83_11ec_aace_f218987ff6derow8_col17,#T_e9f2f0fe_7b83_11ec_aace_f218987ff6derow8_col18,#T_e9f2f0fe_7b83_11ec_aace_f218987ff6derow8_col19,#T_e9f2f0fe_7b83_11ec_aace_f218987ff6derow8_col22,#T_e9f2f0fe_7b83_11ec_aace_f218987ff6derow8_col24,#T_e9f2f0fe_7b83_11ec_aace_f218987ff6derow8_col26,#T_e9f2f0fe_7b83_11ec_aace_f218987ff6derow8_col27,#T_e9f2f0fe_7b83_11ec_aace_f218987ff6derow9_col0,#T_e9f2f0fe_7b83_11ec_aace_f218987ff6derow9_col1,#T_e9f2f0fe_7b83_11ec_aace_f218987ff6derow9_col2,#T_e9f2f0fe_7b83_11ec_aace_f218987ff6derow9_col3,#T_e9f2f0fe_7b83_11ec_aace_f218987ff6derow9_col4,#T_e9f2f0fe_7b83_11ec_aace_f218987ff6derow9_col5,#T_e9f2f0fe_7b83_11ec_aace_f218987ff6derow9_col6,#T_e9f2f0fe_7b83_11ec_aace_f218987ff6derow9_col10,#T_e9f2f0fe_7b83_11ec_aace_f218987ff6derow9_col11,#T_e9f2f0fe_7b83_11ec_aace_f218987ff6derow9_col12,#T_e9f2f0fe_7b83_11ec_aace_f218987ff6derow9_col14,#T_e9f2f0fe_7b83_11ec_aace_f218987ff6derow9_col15,#T_e9f2f0fe_7b83_11ec_aace_f218987ff6derow9_col16,#T_e9f2f0fe_7b83_11ec_aace_f218987ff6derow9_col17,#T_e9f2f0fe_7b83_11ec_aace_f218987ff6derow9_col18,#T_e9f2f0fe_7b83_11ec_aace_f218987ff6derow9_col19,#T_e9f2f0fe_7b83_11ec_aace_f218987ff6derow9_col20,#T_e9f2f0fe_7b83_11ec_aace_f218987ff6derow9_col21,#T_e9f2f0fe_7b83_11ec_aace_f218987ff6derow9_col22,#T_e9f2f0fe_7b83_11ec_aace_f218987ff6derow9_col23,#T_e9f2f0fe_7b83_11ec_aace_f218987ff6derow9_col24,#T_e9f2f0fe_7b83_11ec_aace_f218987ff6derow9_col25,#T_e9f2f0fe_7b83_11ec_aace_f218987ff6derow9_col26,#T_e9f2f0fe_7b83_11ec_aace_f218987ff6derow9_col27,#T_e9f2f0fe_7b83_11ec_aace_f218987ff6derow10_col0,#T_e9f2f0fe_7b83_11ec_aace_f218987ff6derow10_col6,#T_e9f2f0fe_7b83_11ec_aace_f218987ff6derow10_col7,#T_e9f2f0fe_7b83_11ec_aace_f218987ff6derow10_col8,#T_e9f2f0fe_7b83_11ec_aace_f218987ff6derow10_col9,#T_e9f2f0fe_7b83_11ec_aace_f218987ff6derow10_col12,#T_e9f2f0fe_7b83_11ec_aace_f218987ff6derow10_col13,#T_e9f2f0fe_7b83_11ec_aace_f218987ff6derow10_col16,#T_e9f2f0fe_7b83_11ec_aace_f218987ff6derow10_col26,#T_e9f2f0fe_7b83_11ec_aace_f218987ff6derow11_col0,#T_e9f2f0fe_7b83_11ec_aace_f218987ff6derow11_col6,#T_e9f2f0fe_7b83_11ec_aace_f218987ff6derow11_col7,#T_e9f2f0fe_7b83_11ec_aace_f218987ff6derow11_col8,#T_e9f2f0fe_7b83_11ec_aace_f218987ff6derow11_col9,#T_e9f2f0fe_7b83_11ec_aace_f218987ff6derow11_col12,#T_e9f2f0fe_7b83_11ec_aace_f218987ff6derow11_col13,#T_e9f2f0fe_7b83_11ec_aace_f218987ff6derow11_col16,#T_e9f2f0fe_7b83_11ec_aace_f218987ff6derow11_col26,#T_e9f2f0fe_7b83_11ec_aace_f218987ff6derow12_col0,#T_e9f2f0fe_7b83_11ec_aace_f218987ff6derow12_col1,#T_e9f2f0fe_7b83_11ec_aace_f218987ff6derow12_col2,#T_e9f2f0fe_7b83_11ec_aace_f218987ff6derow12_col3,#T_e9f2f0fe_7b83_11ec_aace_f218987ff6derow12_col4,#T_e9f2f0fe_7b83_11ec_aace_f218987ff6derow12_col5,#T_e9f2f0fe_7b83_11ec_aace_f218987ff6derow12_col7,#T_e9f2f0fe_7b83_11ec_aace_f218987ff6derow12_col8,#T_e9f2f0fe_7b83_11ec_aace_f218987ff6derow12_col9,#T_e9f2f0fe_7b83_11ec_aace_f218987ff6derow12_col10,#T_e9f2f0fe_7b83_11ec_aace_f218987ff6derow12_col11,#T_e9f2f0fe_7b83_11ec_aace_f218987ff6derow12_col14,#T_e9f2f0fe_7b83_11ec_aace_f218987ff6derow12_col15,#T_e9f2f0fe_7b83_11ec_aace_f218987ff6derow12_col16,#T_e9f2f0fe_7b83_11ec_aace_f218987ff6derow12_col17,#T_e9f2f0fe_7b83_11ec_aace_f218987ff6derow12_col18,#T_e9f2f0fe_7b83_11ec_aace_f218987ff6derow12_col19,#T_e9f2f0fe_7b83_11ec_aace_f218987ff6derow12_col20,#T_e9f2f0fe_7b83_11ec_aace_f218987ff6derow12_col21,#T_e9f2f0fe_7b83_11ec_aace_f218987ff6derow12_col22,#T_e9f2f0fe_7b83_11ec_aace_f218987ff6derow12_col23,#T_e9f2f0fe_7b83_11ec_aace_f218987ff6derow12_col24,#T_e9f2f0fe_7b83_11ec_aace_f218987ff6derow12_col25,#T_e9f2f0fe_7b83_11ec_aace_f218987ff6derow12_col26,#T_e9f2f0fe_7b83_11ec_aace_f218987ff6derow12_col27,#T_e9f2f0fe_7b83_11ec_aace_f218987ff6derow13_col0,#T_e9f2f0fe_7b83_11ec_aace_f218987ff6derow13_col1,#T_e9f2f0fe_7b83_11ec_aace_f218987ff6derow13_col2,#T_e9f2f0fe_7b83_11ec_aace_f218987ff6derow13_col3,#T_e9f2f0fe_7b83_11ec_aace_f218987ff6derow13_col4,#T_e9f2f0fe_7b83_11ec_aace_f218987ff6derow13_col5,#T_e9f2f0fe_7b83_11ec_aace_f218987ff6derow13_col7,#T_e9f2f0fe_7b83_11ec_aace_f218987ff6derow13_col8,#T_e9f2f0fe_7b83_11ec_aace_f218987ff6derow13_col10,#T_e9f2f0fe_7b83_11ec_aace_f218987ff6derow13_col11,#T_e9f2f0fe_7b83_11ec_aace_f218987ff6derow13_col14,#T_e9f2f0fe_7b83_11ec_aace_f218987ff6derow13_col15,#T_e9f2f0fe_7b83_11ec_aace_f218987ff6derow13_col16,#T_e9f2f0fe_7b83_11ec_aace_f218987ff6derow13_col17,#T_e9f2f0fe_7b83_11ec_aace_f218987ff6derow13_col18,#T_e9f2f0fe_7b83_11ec_aace_f218987ff6derow13_col19,#T_e9f2f0fe_7b83_11ec_aace_f218987ff6derow13_col20,#T_e9f2f0fe_7b83_11ec_aace_f218987ff6derow13_col21,#T_e9f2f0fe_7b83_11ec_aace_f218987ff6derow13_col22,#T_e9f2f0fe_7b83_11ec_aace_f218987ff6derow13_col23,#T_e9f2f0fe_7b83_11ec_aace_f218987ff6derow13_col24,#T_e9f2f0fe_7b83_11ec_aace_f218987ff6derow13_col25,#T_e9f2f0fe_7b83_11ec_aace_f218987ff6derow13_col26,#T_e9f2f0fe_7b83_11ec_aace_f218987ff6derow13_col27,#T_e9f2f0fe_7b83_11ec_aace_f218987ff6derow14_col0,#T_e9f2f0fe_7b83_11ec_aace_f218987ff6derow14_col6,#T_e9f2f0fe_7b83_11ec_aace_f218987ff6derow14_col9,#T_e9f2f0fe_7b83_11ec_aace_f218987ff6derow14_col12,#T_e9f2f0fe_7b83_11ec_aace_f218987ff6derow14_col13,#T_e9f2f0fe_7b83_11ec_aace_f218987ff6derow14_col16,#T_e9f2f0fe_7b83_11ec_aace_f218987ff6derow14_col17,#T_e9f2f0fe_7b83_11ec_aace_f218987ff6derow14_col22,#T_e9f2f0fe_7b83_11ec_aace_f218987ff6derow14_col26,#T_e9f2f0fe_7b83_11ec_aace_f218987ff6derow15_col0,#T_e9f2f0fe_7b83_11ec_aace_f218987ff6derow15_col6,#T_e9f2f0fe_7b83_11ec_aace_f218987ff6derow15_col7,#T_e9f2f0fe_7b83_11ec_aace_f218987ff6derow15_col8,#T_e9f2f0fe_7b83_11ec_aace_f218987ff6derow15_col9,#T_e9f2f0fe_7b83_11ec_aace_f218987ff6derow15_col12,#T_e9f2f0fe_7b83_11ec_aace_f218987ff6derow15_col13,#T_e9f2f0fe_7b83_11ec_aace_f218987ff6derow15_col16,#T_e9f2f0fe_7b83_11ec_aace_f218987ff6derow15_col22,#T_e9f2f0fe_7b83_11ec_aace_f218987ff6derow15_col26,#T_e9f2f0fe_7b83_11ec_aace_f218987ff6derow16_col0,#T_e9f2f0fe_7b83_11ec_aace_f218987ff6derow16_col1,#T_e9f2f0fe_7b83_11ec_aace_f218987ff6derow16_col2,#T_e9f2f0fe_7b83_11ec_aace_f218987ff6derow16_col3,#T_e9f2f0fe_7b83_11ec_aace_f218987ff6derow16_col4,#T_e9f2f0fe_7b83_11ec_aace_f218987ff6derow16_col5,#T_e9f2f0fe_7b83_11ec_aace_f218987ff6derow16_col6,#T_e9f2f0fe_7b83_11ec_aace_f218987ff6derow16_col7,#T_e9f2f0fe_7b83_11ec_aace_f218987ff6derow16_col8,#T_e9f2f0fe_7b83_11ec_aace_f218987ff6derow16_col9,#T_e9f2f0fe_7b83_11ec_aace_f218987ff6derow16_col10,#T_e9f2f0fe_7b83_11ec_aace_f218987ff6derow16_col11,#T_e9f2f0fe_7b83_11ec_aace_f218987ff6derow16_col12,#T_e9f2f0fe_7b83_11ec_aace_f218987ff6derow16_col13,#T_e9f2f0fe_7b83_11ec_aace_f218987ff6derow16_col14,#T_e9f2f0fe_7b83_11ec_aace_f218987ff6derow16_col15,#T_e9f2f0fe_7b83_11ec_aace_f218987ff6derow16_col17,#T_e9f2f0fe_7b83_11ec_aace_f218987ff6derow16_col18,#T_e9f2f0fe_7b83_11ec_aace_f218987ff6derow16_col19,#T_e9f2f0fe_7b83_11ec_aace_f218987ff6derow16_col20,#T_e9f2f0fe_7b83_11ec_aace_f218987ff6derow16_col21,#T_e9f2f0fe_7b83_11ec_aace_f218987ff6derow16_col22,#T_e9f2f0fe_7b83_11ec_aace_f218987ff6derow16_col23,#T_e9f2f0fe_7b83_11ec_aace_f218987ff6derow16_col24,#T_e9f2f0fe_7b83_11ec_aace_f218987ff6derow16_col25,#T_e9f2f0fe_7b83_11ec_aace_f218987ff6derow16_col26,#T_e9f2f0fe_7b83_11ec_aace_f218987ff6derow16_col27,#T_e9f2f0fe_7b83_11ec_aace_f218987ff6derow17_col0,#T_e9f2f0fe_7b83_11ec_aace_f218987ff6derow17_col1,#T_e9f2f0fe_7b83_11ec_aace_f218987ff6derow17_col5,#T_e9f2f0fe_7b83_11ec_aace_f218987ff6derow17_col7,#T_e9f2f0fe_7b83_11ec_aace_f218987ff6derow17_col8,#T_e9f2f0fe_7b83_11ec_aace_f218987ff6derow17_col9,#T_e9f2f0fe_7b83_11ec_aace_f218987ff6derow17_col12,#T_e9f2f0fe_7b83_11ec_aace_f218987ff6derow17_col13,#T_e9f2f0fe_7b83_11ec_aace_f218987ff6derow17_col14,#T_e9f2f0fe_7b83_11ec_aace_f218987ff6derow17_col16,#T_e9f2f0fe_7b83_11ec_aace_f218987ff6derow17_col20,#T_e9f2f0fe_7b83_11ec_aace_f218987ff6derow17_col21,#T_e9f2f0fe_7b83_11ec_aace_f218987ff6derow17_col23,#T_e9f2f0fe_7b83_11ec_aace_f218987ff6derow17_col25,#T_e9f2f0fe_7b83_11ec_aace_f218987ff6derow17_col26,#T_e9f2f0fe_7b83_11ec_aace_f218987ff6derow17_col27,#T_e9f2f0fe_7b83_11ec_aace_f218987ff6derow18_col0,#T_e9f2f0fe_7b83_11ec_aace_f218987ff6derow18_col6,#T_e9f2f0fe_7b83_11ec_aace_f218987ff6derow18_col7,#T_e9f2f0fe_7b83_11ec_aace_f218987ff6derow18_col8,#T_e9f2f0fe_7b83_11ec_aace_f218987ff6derow18_col9,#T_e9f2f0fe_7b83_11ec_aace_f218987ff6derow18_col12,#T_e9f2f0fe_7b83_11ec_aace_f218987ff6derow18_col13,#T_e9f2f0fe_7b83_11ec_aace_f218987ff6derow18_col16,#T_e9f2f0fe_7b83_11ec_aace_f218987ff6derow18_col20,#T_e9f2f0fe_7b83_11ec_aace_f218987ff6derow18_col26,#T_e9f2f0fe_7b83_11ec_aace_f218987ff6derow18_col27,#T_e9f2f0fe_7b83_11ec_aace_f218987ff6derow19_col0,#T_e9f2f0fe_7b83_11ec_aace_f218987ff6derow19_col6,#T_e9f2f0fe_7b83_11ec_aace_f218987ff6derow19_col7,#T_e9f2f0fe_7b83_11ec_aace_f218987ff6derow19_col8,#T_e9f2f0fe_7b83_11ec_aace_f218987ff6derow19_col9,#T_e9f2f0fe_7b83_11ec_aace_f218987ff6derow19_col12,#T_e9f2f0fe_7b83_11ec_aace_f218987ff6derow19_col13,#T_e9f2f0fe_7b83_11ec_aace_f218987ff6derow19_col16,#T_e9f2f0fe_7b83_11ec_aace_f218987ff6derow19_col20,#T_e9f2f0fe_7b83_11ec_aace_f218987ff6derow19_col26,#T_e9f2f0fe_7b83_11ec_aace_f218987ff6derow19_col27,#T_e9f2f0fe_7b83_11ec_aace_f218987ff6derow20_col0,#T_e9f2f0fe_7b83_11ec_aace_f218987ff6derow20_col1,#T_e9f2f0fe_7b83_11ec_aace_f218987ff6derow20_col6,#T_e9f2f0fe_7b83_11ec_aace_f218987ff6derow20_col9,#T_e9f2f0fe_7b83_11ec_aace_f218987ff6derow20_col12,#T_e9f2f0fe_7b83_11ec_aace_f218987ff6derow20_col13,#T_e9f2f0fe_7b83_11ec_aace_f218987ff6derow20_col16,#T_e9f2f0fe_7b83_11ec_aace_f218987ff6derow20_col17,#T_e9f2f0fe_7b83_11ec_aace_f218987ff6derow20_col18,#T_e9f2f0fe_7b83_11ec_aace_f218987ff6derow20_col19,#T_e9f2f0fe_7b83_11ec_aace_f218987ff6derow20_col22,#T_e9f2f0fe_7b83_11ec_aace_f218987ff6derow20_col24,#T_e9f2f0fe_7b83_11ec_aace_f218987ff6derow20_col26,#T_e9f2f0fe_7b83_11ec_aace_f218987ff6derow20_col27,#T_e9f2f0fe_7b83_11ec_aace_f218987ff6derow21_col0,#T_e9f2f0fe_7b83_11ec_aace_f218987ff6derow21_col6,#T_e9f2f0fe_7b83_11ec_aace_f218987ff6derow21_col9,#T_e9f2f0fe_7b83_11ec_aace_f218987ff6derow21_col12,#T_e9f2f0fe_7b83_11ec_aace_f218987ff6derow21_col13,#T_e9f2f0fe_7b83_11ec_aace_f218987ff6derow21_col16,#T_e9f2f0fe_7b83_11ec_aace_f218987ff6derow21_col17,#T_e9f2f0fe_7b83_11ec_aace_f218987ff6derow21_col22,#T_e9f2f0fe_7b83_11ec_aace_f218987ff6derow21_col26,#T_e9f2f0fe_7b83_11ec_aace_f218987ff6derow21_col27,#T_e9f2f0fe_7b83_11ec_aace_f218987ff6derow22_col0,#T_e9f2f0fe_7b83_11ec_aace_f218987ff6derow22_col1,#T_e9f2f0fe_7b83_11ec_aace_f218987ff6derow22_col2,#T_e9f2f0fe_7b83_11ec_aace_f218987ff6derow22_col3,#T_e9f2f0fe_7b83_11ec_aace_f218987ff6derow22_col4,#T_e9f2f0fe_7b83_11ec_aace_f218987ff6derow22_col5,#T_e9f2f0fe_7b83_11ec_aace_f218987ff6derow22_col6,#T_e9f2f0fe_7b83_11ec_aace_f218987ff6derow22_col7,#T_e9f2f0fe_7b83_11ec_aace_f218987ff6derow22_col8,#T_e9f2f0fe_7b83_11ec_aace_f218987ff6derow22_col9,#T_e9f2f0fe_7b83_11ec_aace_f218987ff6derow22_col12,#T_e9f2f0fe_7b83_11ec_aace_f218987ff6derow22_col13,#T_e9f2f0fe_7b83_11ec_aace_f218987ff6derow22_col14,#T_e9f2f0fe_7b83_11ec_aace_f218987ff6derow22_col15,#T_e9f2f0fe_7b83_11ec_aace_f218987ff6derow22_col16,#T_e9f2f0fe_7b83_11ec_aace_f218987ff6derow22_col20,#T_e9f2f0fe_7b83_11ec_aace_f218987ff6derow22_col21,#T_e9f2f0fe_7b83_11ec_aace_f218987ff6derow22_col23,#T_e9f2f0fe_7b83_11ec_aace_f218987ff6derow22_col25,#T_e9f2f0fe_7b83_11ec_aace_f218987ff6derow22_col26,#T_e9f2f0fe_7b83_11ec_aace_f218987ff6derow22_col27,#T_e9f2f0fe_7b83_11ec_aace_f218987ff6derow23_col0,#T_e9f2f0fe_7b83_11ec_aace_f218987ff6derow23_col6,#T_e9f2f0fe_7b83_11ec_aace_f218987ff6derow23_col9,#T_e9f2f0fe_7b83_11ec_aace_f218987ff6derow23_col12,#T_e9f2f0fe_7b83_11ec_aace_f218987ff6derow23_col13,#T_e9f2f0fe_7b83_11ec_aace_f218987ff6derow23_col16,#T_e9f2f0fe_7b83_11ec_aace_f218987ff6derow23_col17,#T_e9f2f0fe_7b83_11ec_aace_f218987ff6derow23_col22,#T_e9f2f0fe_7b83_11ec_aace_f218987ff6derow23_col26,#T_e9f2f0fe_7b83_11ec_aace_f218987ff6derow24_col0,#T_e9f2f0fe_7b83_11ec_aace_f218987ff6derow24_col6,#T_e9f2f0fe_7b83_11ec_aace_f218987ff6derow24_col7,#T_e9f2f0fe_7b83_11ec_aace_f218987ff6derow24_col8,#T_e9f2f0fe_7b83_11ec_aace_f218987ff6derow24_col9,#T_e9f2f0fe_7b83_11ec_aace_f218987ff6derow24_col12,#T_e9f2f0fe_7b83_11ec_aace_f218987ff6derow24_col13,#T_e9f2f0fe_7b83_11ec_aace_f218987ff6derow24_col16,#T_e9f2f0fe_7b83_11ec_aace_f218987ff6derow24_col20,#T_e9f2f0fe_7b83_11ec_aace_f218987ff6derow24_col26,#T_e9f2f0fe_7b83_11ec_aace_f218987ff6derow24_col27,#T_e9f2f0fe_7b83_11ec_aace_f218987ff6derow25_col0,#T_e9f2f0fe_7b83_11ec_aace_f218987ff6derow25_col6,#T_e9f2f0fe_7b83_11ec_aace_f218987ff6derow25_col9,#T_e9f2f0fe_7b83_11ec_aace_f218987ff6derow25_col12,#T_e9f2f0fe_7b83_11ec_aace_f218987ff6derow25_col13,#T_e9f2f0fe_7b83_11ec_aace_f218987ff6derow25_col16,#T_e9f2f0fe_7b83_11ec_aace_f218987ff6derow25_col17,#T_e9f2f0fe_7b83_11ec_aace_f218987ff6derow25_col22,#T_e9f2f0fe_7b83_11ec_aace_f218987ff6derow25_col26,#T_e9f2f0fe_7b83_11ec_aace_f218987ff6derow26_col0,#T_e9f2f0fe_7b83_11ec_aace_f218987ff6derow26_col1,#T_e9f2f0fe_7b83_11ec_aace_f218987ff6derow26_col2,#T_e9f2f0fe_7b83_11ec_aace_f218987ff6derow26_col3,#T_e9f2f0fe_7b83_11ec_aace_f218987ff6derow26_col4,#T_e9f2f0fe_7b83_11ec_aace_f218987ff6derow26_col5,#T_e9f2f0fe_7b83_11ec_aace_f218987ff6derow26_col6,#T_e9f2f0fe_7b83_11ec_aace_f218987ff6derow26_col7,#T_e9f2f0fe_7b83_11ec_aace_f218987ff6derow26_col8,#T_e9f2f0fe_7b83_11ec_aace_f218987ff6derow26_col9,#T_e9f2f0fe_7b83_11ec_aace_f218987ff6derow26_col10,#T_e9f2f0fe_7b83_11ec_aace_f218987ff6derow26_col11,#T_e9f2f0fe_7b83_11ec_aace_f218987ff6derow26_col12,#T_e9f2f0fe_7b83_11ec_aace_f218987ff6derow26_col13,#T_e9f2f0fe_7b83_11ec_aace_f218987ff6derow26_col14,#T_e9f2f0fe_7b83_11ec_aace_f218987ff6derow26_col15,#T_e9f2f0fe_7b83_11ec_aace_f218987ff6derow26_col16,#T_e9f2f0fe_7b83_11ec_aace_f218987ff6derow26_col17,#T_e9f2f0fe_7b83_11ec_aace_f218987ff6derow26_col18,#T_e9f2f0fe_7b83_11ec_aace_f218987ff6derow26_col19,#T_e9f2f0fe_7b83_11ec_aace_f218987ff6derow26_col20,#T_e9f2f0fe_7b83_11ec_aace_f218987ff6derow26_col21,#T_e9f2f0fe_7b83_11ec_aace_f218987ff6derow26_col22,#T_e9f2f0fe_7b83_11ec_aace_f218987ff6derow26_col23,#T_e9f2f0fe_7b83_11ec_aace_f218987ff6derow26_col24,#T_e9f2f0fe_7b83_11ec_aace_f218987ff6derow26_col25,#T_e9f2f0fe_7b83_11ec_aace_f218987ff6derow26_col27,#T_e9f2f0fe_7b83_11ec_aace_f218987ff6derow27_col0,#T_e9f2f0fe_7b83_11ec_aace_f218987ff6derow27_col1,#T_e9f2f0fe_7b83_11ec_aace_f218987ff6derow27_col2,#T_e9f2f0fe_7b83_11ec_aace_f218987ff6derow27_col3,#T_e9f2f0fe_7b83_11ec_aace_f218987ff6derow27_col6,#T_e9f2f0fe_7b83_11ec_aace_f218987ff6derow27_col7,#T_e9f2f0fe_7b83_11ec_aace_f218987ff6derow27_col8,#T_e9f2f0fe_7b83_11ec_aace_f218987ff6derow27_col9,#T_e9f2f0fe_7b83_11ec_aace_f218987ff6derow27_col12,#T_e9f2f0fe_7b83_11ec_aace_f218987ff6derow27_col13,#T_e9f2f0fe_7b83_11ec_aace_f218987ff6derow27_col16,#T_e9f2f0fe_7b83_11ec_aace_f218987ff6derow27_col17,#T_e9f2f0fe_7b83_11ec_aace_f218987ff6derow27_col18,#T_e9f2f0fe_7b83_11ec_aace_f218987ff6derow27_col19,#T_e9f2f0fe_7b83_11ec_aace_f218987ff6derow27_col20,#T_e9f2f0fe_7b83_11ec_aace_f218987ff6derow27_col21,#T_e9f2f0fe_7b83_11ec_aace_f218987ff6derow27_col22,#T_e9f2f0fe_7b83_11ec_aace_f218987ff6derow27_col24,#T_e9f2f0fe_7b83_11ec_aace_f218987ff6derow27_col26{\n",
       "            color:  black;\n",
       "        }</style><table id=\"T_e9f2f0fe_7b83_11ec_aace_f218987ff6de\" ><thead>    <tr>        <th class=\"blank level0\" ></th>        <th class=\"col_heading level0 col0\" >age</th>        <th class=\"col_heading level0 col1\" >Games</th>        <th class=\"col_heading level0 col2\" >Gstart</th>        <th class=\"col_heading level0 col3\" >Minutes</th>        <th class=\"col_heading level0 col4\" >Field-Per-Game</th>        <th class=\"col_heading level0 col5\" >Field-Attempts</th>        <th class=\"col_heading level0 col6\" >Field_Goal_Percentage</th>        <th class=\"col_heading level0 col7\" >three_Point_Field_Goals_Per_Game</th>        <th class=\"col_heading level0 col8\" >three_Point_Field_attemps_Goal_Percentage</th>        <th class=\"col_heading level0 col9\" >three_Point_Field_Goal_Percentage</th>        <th class=\"col_heading level0 col10\" >two_Point_Field_Goals_Per_Game</th>        <th class=\"col_heading level0 col11\" >two_Point_Field_Goal_Attempts_Per_Game</th>        <th class=\"col_heading level0 col12\" >two_Point_Field_Goal_Percentage</th>        <th class=\"col_heading level0 col13\" >Effective_Field_Goal_Percentage</th>        <th class=\"col_heading level0 col14\" >Free_Throws_Per_Game</th>        <th class=\"col_heading level0 col15\" >Free_Throws_attemps_Per_Game</th>        <th class=\"col_heading level0 col16\" >Free_Throws_Percentage</th>        <th class=\"col_heading level0 col17\" >Offensive_Rebounds_Per_Game</th>        <th class=\"col_heading level0 col18\" >Defensive_Rebounds_Per_Game</th>        <th class=\"col_heading level0 col19\" >Total_Rebounds_Per_Game</th>        <th class=\"col_heading level0 col20\" >Assists_Per_Game</th>        <th class=\"col_heading level0 col21\" >Steals_Per_Game</th>        <th class=\"col_heading level0 col22\" >Blocks_Per_Game</th>        <th class=\"col_heading level0 col23\" >Turnovers_Per_Game</th>        <th class=\"col_heading level0 col24\" >Personal_Fouls_Per_Game</th>        <th class=\"col_heading level0 col25\" >Points_Per_Game</th>        <th class=\"col_heading level0 col26\" >season</th>        <th class=\"col_heading level0 col27\" >target</th>    </tr></thead><tbody>\n",
       "                <tr>\n",
       "                        <th id=\"T_e9f2f0fe_7b83_11ec_aace_f218987ff6delevel0_row0\" class=\"row_heading level0 row0\" >age</th>\n",
       "                        <td id=\"T_e9f2f0fe_7b83_11ec_aace_f218987ff6derow0_col0\" class=\"data row0 col0\" >1.000000</td>\n",
       "                        <td id=\"T_e9f2f0fe_7b83_11ec_aace_f218987ff6derow0_col1\" class=\"data row0 col1\" >0.048582</td>\n",
       "                        <td id=\"T_e9f2f0fe_7b83_11ec_aace_f218987ff6derow0_col2\" class=\"data row0 col2\" >0.047809</td>\n",
       "                        <td id=\"T_e9f2f0fe_7b83_11ec_aace_f218987ff6derow0_col3\" class=\"data row0 col3\" >0.110593</td>\n",
       "                        <td id=\"T_e9f2f0fe_7b83_11ec_aace_f218987ff6derow0_col4\" class=\"data row0 col4\" >0.035682</td>\n",
       "                        <td id=\"T_e9f2f0fe_7b83_11ec_aace_f218987ff6derow0_col5\" class=\"data row0 col5\" >0.041771</td>\n",
       "                        <td id=\"T_e9f2f0fe_7b83_11ec_aace_f218987ff6derow0_col6\" class=\"data row0 col6\" >0.001774</td>\n",
       "                        <td id=\"T_e9f2f0fe_7b83_11ec_aace_f218987ff6derow0_col7\" class=\"data row0 col7\" >0.110624</td>\n",
       "                        <td id=\"T_e9f2f0fe_7b83_11ec_aace_f218987ff6derow0_col8\" class=\"data row0 col8\" >0.097416</td>\n",
       "                        <td id=\"T_e9f2f0fe_7b83_11ec_aace_f218987ff6derow0_col9\" class=\"data row0 col9\" >0.073807</td>\n",
       "                        <td id=\"T_e9f2f0fe_7b83_11ec_aace_f218987ff6derow0_col10\" class=\"data row0 col10\" >-0.003955</td>\n",
       "                        <td id=\"T_e9f2f0fe_7b83_11ec_aace_f218987ff6derow0_col11\" class=\"data row0 col11\" >-0.000740</td>\n",
       "                        <td id=\"T_e9f2f0fe_7b83_11ec_aace_f218987ff6derow0_col12\" class=\"data row0 col12\" >-0.020074</td>\n",
       "                        <td id=\"T_e9f2f0fe_7b83_11ec_aace_f218987ff6derow0_col13\" class=\"data row0 col13\" >0.047774</td>\n",
       "                        <td id=\"T_e9f2f0fe_7b83_11ec_aace_f218987ff6derow0_col14\" class=\"data row0 col14\" >0.014220</td>\n",
       "                        <td id=\"T_e9f2f0fe_7b83_11ec_aace_f218987ff6derow0_col15\" class=\"data row0 col15\" >-0.004865</td>\n",
       "                        <td id=\"T_e9f2f0fe_7b83_11ec_aace_f218987ff6derow0_col16\" class=\"data row0 col16\" >0.091334</td>\n",
       "                        <td id=\"T_e9f2f0fe_7b83_11ec_aace_f218987ff6derow0_col17\" class=\"data row0 col17\" >-0.024895</td>\n",
       "                        <td id=\"T_e9f2f0fe_7b83_11ec_aace_f218987ff6derow0_col18\" class=\"data row0 col18\" >0.075144</td>\n",
       "                        <td id=\"T_e9f2f0fe_7b83_11ec_aace_f218987ff6derow0_col19\" class=\"data row0 col19\" >0.047103</td>\n",
       "                        <td id=\"T_e9f2f0fe_7b83_11ec_aace_f218987ff6derow0_col20\" class=\"data row0 col20\" >0.109626</td>\n",
       "                        <td id=\"T_e9f2f0fe_7b83_11ec_aace_f218987ff6derow0_col21\" class=\"data row0 col21\" >0.043473</td>\n",
       "                        <td id=\"T_e9f2f0fe_7b83_11ec_aace_f218987ff6derow0_col22\" class=\"data row0 col22\" >-0.012884</td>\n",
       "                        <td id=\"T_e9f2f0fe_7b83_11ec_aace_f218987ff6derow0_col23\" class=\"data row0 col23\" >0.034845</td>\n",
       "                        <td id=\"T_e9f2f0fe_7b83_11ec_aace_f218987ff6derow0_col24\" class=\"data row0 col24\" >0.064401</td>\n",
       "                        <td id=\"T_e9f2f0fe_7b83_11ec_aace_f218987ff6derow0_col25\" class=\"data row0 col25\" >0.043412</td>\n",
       "                        <td id=\"T_e9f2f0fe_7b83_11ec_aace_f218987ff6derow0_col26\" class=\"data row0 col26\" >-0.070195</td>\n",
       "                        <td id=\"T_e9f2f0fe_7b83_11ec_aace_f218987ff6derow0_col27\" class=\"data row0 col27\" >0.026124</td>\n",
       "            </tr>\n",
       "            <tr>\n",
       "                        <th id=\"T_e9f2f0fe_7b83_11ec_aace_f218987ff6delevel0_row1\" class=\"row_heading level0 row1\" >Games</th>\n",
       "                        <td id=\"T_e9f2f0fe_7b83_11ec_aace_f218987ff6derow1_col0\" class=\"data row1 col0\" >0.048582</td>\n",
       "                        <td id=\"T_e9f2f0fe_7b83_11ec_aace_f218987ff6derow1_col1\" class=\"data row1 col1\" >1.000000</td>\n",
       "                        <td id=\"T_e9f2f0fe_7b83_11ec_aace_f218987ff6derow1_col2\" class=\"data row1 col2\" >0.636958</td>\n",
       "                        <td id=\"T_e9f2f0fe_7b83_11ec_aace_f218987ff6derow1_col3\" class=\"data row1 col3\" >0.615478</td>\n",
       "                        <td id=\"T_e9f2f0fe_7b83_11ec_aace_f218987ff6derow1_col4\" class=\"data row1 col4\" >0.525124</td>\n",
       "                        <td id=\"T_e9f2f0fe_7b83_11ec_aace_f218987ff6derow1_col5\" class=\"data row1 col5\" >0.501300</td>\n",
       "                        <td id=\"T_e9f2f0fe_7b83_11ec_aace_f218987ff6derow1_col6\" class=\"data row1 col6\" >0.255762</td>\n",
       "                        <td id=\"T_e9f2f0fe_7b83_11ec_aace_f218987ff6derow1_col7\" class=\"data row1 col7\" >0.317361</td>\n",
       "                        <td id=\"T_e9f2f0fe_7b83_11ec_aace_f218987ff6derow1_col8\" class=\"data row1 col8\" >0.298110</td>\n",
       "                        <td id=\"T_e9f2f0fe_7b83_11ec_aace_f218987ff6derow1_col9\" class=\"data row1 col9\" >0.114966</td>\n",
       "                        <td id=\"T_e9f2f0fe_7b83_11ec_aace_f218987ff6derow1_col10\" class=\"data row1 col10\" >0.483524</td>\n",
       "                        <td id=\"T_e9f2f0fe_7b83_11ec_aace_f218987ff6derow1_col11\" class=\"data row1 col11\" >0.472893</td>\n",
       "                        <td id=\"T_e9f2f0fe_7b83_11ec_aace_f218987ff6derow1_col12\" class=\"data row1 col12\" >0.193092</td>\n",
       "                        <td id=\"T_e9f2f0fe_7b83_11ec_aace_f218987ff6derow1_col13\" class=\"data row1 col13\" >0.278509</td>\n",
       "                        <td id=\"T_e9f2f0fe_7b83_11ec_aace_f218987ff6derow1_col14\" class=\"data row1 col14\" >0.402243</td>\n",
       "                        <td id=\"T_e9f2f0fe_7b83_11ec_aace_f218987ff6derow1_col15\" class=\"data row1 col15\" >0.404241</td>\n",
       "                        <td id=\"T_e9f2f0fe_7b83_11ec_aace_f218987ff6derow1_col16\" class=\"data row1 col16\" >0.183980</td>\n",
       "                        <td id=\"T_e9f2f0fe_7b83_11ec_aace_f218987ff6derow1_col17\" class=\"data row1 col17\" >0.311076</td>\n",
       "                        <td id=\"T_e9f2f0fe_7b83_11ec_aace_f218987ff6derow1_col18\" class=\"data row1 col18\" >0.462977</td>\n",
       "                        <td id=\"T_e9f2f0fe_7b83_11ec_aace_f218987ff6derow1_col19\" class=\"data row1 col19\" >0.441025</td>\n",
       "                        <td id=\"T_e9f2f0fe_7b83_11ec_aace_f218987ff6derow1_col20\" class=\"data row1 col20\" >0.349116</td>\n",
       "                        <td id=\"T_e9f2f0fe_7b83_11ec_aace_f218987ff6derow1_col21\" class=\"data row1 col21\" >0.436830</td>\n",
       "                        <td id=\"T_e9f2f0fe_7b83_11ec_aace_f218987ff6derow1_col22\" class=\"data row1 col22\" >0.283710</td>\n",
       "                        <td id=\"T_e9f2f0fe_7b83_11ec_aace_f218987ff6derow1_col23\" class=\"data row1 col23\" >0.417747</td>\n",
       "                        <td id=\"T_e9f2f0fe_7b83_11ec_aace_f218987ff6derow1_col24\" class=\"data row1 col24\" >0.483960</td>\n",
       "                        <td id=\"T_e9f2f0fe_7b83_11ec_aace_f218987ff6derow1_col25\" class=\"data row1 col25\" >0.513933</td>\n",
       "                        <td id=\"T_e9f2f0fe_7b83_11ec_aace_f218987ff6derow1_col26\" class=\"data row1 col26\" >-0.099259</td>\n",
       "                        <td id=\"T_e9f2f0fe_7b83_11ec_aace_f218987ff6derow1_col27\" class=\"data row1 col27\" >0.190025</td>\n",
       "            </tr>\n",
       "            <tr>\n",
       "                        <th id=\"T_e9f2f0fe_7b83_11ec_aace_f218987ff6delevel0_row2\" class=\"row_heading level0 row2\" >Gstart</th>\n",
       "                        <td id=\"T_e9f2f0fe_7b83_11ec_aace_f218987ff6derow2_col0\" class=\"data row2 col0\" >0.047809</td>\n",
       "                        <td id=\"T_e9f2f0fe_7b83_11ec_aace_f218987ff6derow2_col1\" class=\"data row2 col1\" >0.636958</td>\n",
       "                        <td id=\"T_e9f2f0fe_7b83_11ec_aace_f218987ff6derow2_col2\" class=\"data row2 col2\" >1.000000</td>\n",
       "                        <td id=\"T_e9f2f0fe_7b83_11ec_aace_f218987ff6derow2_col3\" class=\"data row2 col3\" >0.776404</td>\n",
       "                        <td id=\"T_e9f2f0fe_7b83_11ec_aace_f218987ff6derow2_col4\" class=\"data row2 col4\" >0.722414</td>\n",
       "                        <td id=\"T_e9f2f0fe_7b83_11ec_aace_f218987ff6derow2_col5\" class=\"data row2 col5\" >0.698944</td>\n",
       "                        <td id=\"T_e9f2f0fe_7b83_11ec_aace_f218987ff6derow2_col6\" class=\"data row2 col6\" >0.205418</td>\n",
       "                        <td id=\"T_e9f2f0fe_7b83_11ec_aace_f218987ff6derow2_col7\" class=\"data row2 col7\" >0.378553</td>\n",
       "                        <td id=\"T_e9f2f0fe_7b83_11ec_aace_f218987ff6derow2_col8\" class=\"data row2 col8\" >0.369180</td>\n",
       "                        <td id=\"T_e9f2f0fe_7b83_11ec_aace_f218987ff6derow2_col9\" class=\"data row2 col9\" >0.089100</td>\n",
       "                        <td id=\"T_e9f2f0fe_7b83_11ec_aace_f218987ff6derow2_col10\" class=\"data row2 col10\" >0.689408</td>\n",
       "                        <td id=\"T_e9f2f0fe_7b83_11ec_aace_f218987ff6derow2_col11\" class=\"data row2 col11\" >0.685364</td>\n",
       "                        <td id=\"T_e9f2f0fe_7b83_11ec_aace_f218987ff6derow2_col12\" class=\"data row2 col12\" >0.148914</td>\n",
       "                        <td id=\"T_e9f2f0fe_7b83_11ec_aace_f218987ff6derow2_col13\" class=\"data row2 col13\" >0.198607</td>\n",
       "                        <td id=\"T_e9f2f0fe_7b83_11ec_aace_f218987ff6derow2_col14\" class=\"data row2 col14\" >0.599220</td>\n",
       "                        <td id=\"T_e9f2f0fe_7b83_11ec_aace_f218987ff6derow2_col15\" class=\"data row2 col15\" >0.607121</td>\n",
       "                        <td id=\"T_e9f2f0fe_7b83_11ec_aace_f218987ff6derow2_col16\" class=\"data row2 col16\" >0.154955</td>\n",
       "                        <td id=\"T_e9f2f0fe_7b83_11ec_aace_f218987ff6derow2_col17\" class=\"data row2 col17\" >0.413865</td>\n",
       "                        <td id=\"T_e9f2f0fe_7b83_11ec_aace_f218987ff6derow2_col18\" class=\"data row2 col18\" >0.639766</td>\n",
       "                        <td id=\"T_e9f2f0fe_7b83_11ec_aace_f218987ff6derow2_col19\" class=\"data row2 col19\" >0.604236</td>\n",
       "                        <td id=\"T_e9f2f0fe_7b83_11ec_aace_f218987ff6derow2_col20\" class=\"data row2 col20\" >0.511414</td>\n",
       "                        <td id=\"T_e9f2f0fe_7b83_11ec_aace_f218987ff6derow2_col21\" class=\"data row2 col21\" >0.581633</td>\n",
       "                        <td id=\"T_e9f2f0fe_7b83_11ec_aace_f218987ff6derow2_col22\" class=\"data row2 col22\" >0.386652</td>\n",
       "                        <td id=\"T_e9f2f0fe_7b83_11ec_aace_f218987ff6derow2_col23\" class=\"data row2 col23\" >0.619873</td>\n",
       "                        <td id=\"T_e9f2f0fe_7b83_11ec_aace_f218987ff6derow2_col24\" class=\"data row2 col24\" >0.551269</td>\n",
       "                        <td id=\"T_e9f2f0fe_7b83_11ec_aace_f218987ff6derow2_col25\" class=\"data row2 col25\" >0.709571</td>\n",
       "                        <td id=\"T_e9f2f0fe_7b83_11ec_aace_f218987ff6derow2_col26\" class=\"data row2 col26\" >-0.056332</td>\n",
       "                        <td id=\"T_e9f2f0fe_7b83_11ec_aace_f218987ff6derow2_col27\" class=\"data row2 col27\" >0.359249</td>\n",
       "            </tr>\n",
       "            <tr>\n",
       "                        <th id=\"T_e9f2f0fe_7b83_11ec_aace_f218987ff6delevel0_row3\" class=\"row_heading level0 row3\" >Minutes</th>\n",
       "                        <td id=\"T_e9f2f0fe_7b83_11ec_aace_f218987ff6derow3_col0\" class=\"data row3 col0\" >0.110593</td>\n",
       "                        <td id=\"T_e9f2f0fe_7b83_11ec_aace_f218987ff6derow3_col1\" class=\"data row3 col1\" >0.615478</td>\n",
       "                        <td id=\"T_e9f2f0fe_7b83_11ec_aace_f218987ff6derow3_col2\" class=\"data row3 col2\" >0.776404</td>\n",
       "                        <td id=\"T_e9f2f0fe_7b83_11ec_aace_f218987ff6derow3_col3\" class=\"data row3 col3\" >1.000000</td>\n",
       "                        <td id=\"T_e9f2f0fe_7b83_11ec_aace_f218987ff6derow3_col4\" class=\"data row3 col4\" >0.889354</td>\n",
       "                        <td id=\"T_e9f2f0fe_7b83_11ec_aace_f218987ff6derow3_col5\" class=\"data row3 col5\" >0.897177</td>\n",
       "                        <td id=\"T_e9f2f0fe_7b83_11ec_aace_f218987ff6derow3_col6\" class=\"data row3 col6\" >0.215626</td>\n",
       "                        <td id=\"T_e9f2f0fe_7b83_11ec_aace_f218987ff6derow3_col7\" class=\"data row3 col7\" >0.580346</td>\n",
       "                        <td id=\"T_e9f2f0fe_7b83_11ec_aace_f218987ff6derow3_col8\" class=\"data row3 col8\" >0.587490</td>\n",
       "                        <td id=\"T_e9f2f0fe_7b83_11ec_aace_f218987ff6derow3_col9\" class=\"data row3 col9\" >0.191515</td>\n",
       "                        <td id=\"T_e9f2f0fe_7b83_11ec_aace_f218987ff6derow3_col10\" class=\"data row3 col10\" >0.801559</td>\n",
       "                        <td id=\"T_e9f2f0fe_7b83_11ec_aace_f218987ff6derow3_col11\" class=\"data row3 col11\" >0.816822</td>\n",
       "                        <td id=\"T_e9f2f0fe_7b83_11ec_aace_f218987ff6derow3_col12\" class=\"data row3 col12\" >0.164070</td>\n",
       "                        <td id=\"T_e9f2f0fe_7b83_11ec_aace_f218987ff6derow3_col13\" class=\"data row3 col13\" >0.256832</td>\n",
       "                        <td id=\"T_e9f2f0fe_7b83_11ec_aace_f218987ff6derow3_col14\" class=\"data row3 col14\" >0.729655</td>\n",
       "                        <td id=\"T_e9f2f0fe_7b83_11ec_aace_f218987ff6derow3_col15\" class=\"data row3 col15\" >0.729869</td>\n",
       "                        <td id=\"T_e9f2f0fe_7b83_11ec_aace_f218987ff6derow3_col16\" class=\"data row3 col16\" >0.272004</td>\n",
       "                        <td id=\"T_e9f2f0fe_7b83_11ec_aace_f218987ff6derow3_col17\" class=\"data row3 col17\" >0.418266</td>\n",
       "                        <td id=\"T_e9f2f0fe_7b83_11ec_aace_f218987ff6derow3_col18\" class=\"data row3 col18\" >0.724358</td>\n",
       "                        <td id=\"T_e9f2f0fe_7b83_11ec_aace_f218987ff6derow3_col19\" class=\"data row3 col19\" >0.667837</td>\n",
       "                        <td id=\"T_e9f2f0fe_7b83_11ec_aace_f218987ff6derow3_col20\" class=\"data row3 col20\" >0.665487</td>\n",
       "                        <td id=\"T_e9f2f0fe_7b83_11ec_aace_f218987ff6derow3_col21\" class=\"data row3 col21\" >0.748096</td>\n",
       "                        <td id=\"T_e9f2f0fe_7b83_11ec_aace_f218987ff6derow3_col22\" class=\"data row3 col22\" >0.383962</td>\n",
       "                        <td id=\"T_e9f2f0fe_7b83_11ec_aace_f218987ff6derow3_col23\" class=\"data row3 col23\" >0.780273</td>\n",
       "                        <td id=\"T_e9f2f0fe_7b83_11ec_aace_f218987ff6derow3_col24\" class=\"data row3 col24\" >0.718612</td>\n",
       "                        <td id=\"T_e9f2f0fe_7b83_11ec_aace_f218987ff6derow3_col25\" class=\"data row3 col25\" >0.886403</td>\n",
       "                        <td id=\"T_e9f2f0fe_7b83_11ec_aace_f218987ff6derow3_col26\" class=\"data row3 col26\" >-0.028980</td>\n",
       "                        <td id=\"T_e9f2f0fe_7b83_11ec_aace_f218987ff6derow3_col27\" class=\"data row3 col27\" >0.317602</td>\n",
       "            </tr>\n",
       "            <tr>\n",
       "                        <th id=\"T_e9f2f0fe_7b83_11ec_aace_f218987ff6delevel0_row4\" class=\"row_heading level0 row4\" >Field-Per-Game</th>\n",
       "                        <td id=\"T_e9f2f0fe_7b83_11ec_aace_f218987ff6derow4_col0\" class=\"data row4 col0\" >0.035682</td>\n",
       "                        <td id=\"T_e9f2f0fe_7b83_11ec_aace_f218987ff6derow4_col1\" class=\"data row4 col1\" >0.525124</td>\n",
       "                        <td id=\"T_e9f2f0fe_7b83_11ec_aace_f218987ff6derow4_col2\" class=\"data row4 col2\" >0.722414</td>\n",
       "                        <td id=\"T_e9f2f0fe_7b83_11ec_aace_f218987ff6derow4_col3\" class=\"data row4 col3\" >0.889354</td>\n",
       "                        <td id=\"T_e9f2f0fe_7b83_11ec_aace_f218987ff6derow4_col4\" class=\"data row4 col4\" >1.000000</td>\n",
       "                        <td id=\"T_e9f2f0fe_7b83_11ec_aace_f218987ff6derow4_col5\" class=\"data row4 col5\" >0.977134</td>\n",
       "                        <td id=\"T_e9f2f0fe_7b83_11ec_aace_f218987ff6derow4_col6\" class=\"data row4 col6\" >0.289251</td>\n",
       "                        <td id=\"T_e9f2f0fe_7b83_11ec_aace_f218987ff6derow4_col7\" class=\"data row4 col7\" >0.559530</td>\n",
       "                        <td id=\"T_e9f2f0fe_7b83_11ec_aace_f218987ff6derow4_col8\" class=\"data row4 col8\" >0.558805</td>\n",
       "                        <td id=\"T_e9f2f0fe_7b83_11ec_aace_f218987ff6derow4_col9\" class=\"data row4 col9\" >0.177021</td>\n",
       "                        <td id=\"T_e9f2f0fe_7b83_11ec_aace_f218987ff6derow4_col10\" class=\"data row4 col10\" >0.939599</td>\n",
       "                        <td id=\"T_e9f2f0fe_7b83_11ec_aace_f218987ff6derow4_col11\" class=\"data row4 col11\" >0.934637</td>\n",
       "                        <td id=\"T_e9f2f0fe_7b83_11ec_aace_f218987ff6derow4_col12\" class=\"data row4 col12\" >0.227342</td>\n",
       "                        <td id=\"T_e9f2f0fe_7b83_11ec_aace_f218987ff6derow4_col13\" class=\"data row4 col13\" >0.295148</td>\n",
       "                        <td id=\"T_e9f2f0fe_7b83_11ec_aace_f218987ff6derow4_col14\" class=\"data row4 col14\" >0.838045</td>\n",
       "                        <td id=\"T_e9f2f0fe_7b83_11ec_aace_f218987ff6derow4_col15\" class=\"data row4 col15\" >0.833585</td>\n",
       "                        <td id=\"T_e9f2f0fe_7b83_11ec_aace_f218987ff6derow4_col16\" class=\"data row4 col16\" >0.273738</td>\n",
       "                        <td id=\"T_e9f2f0fe_7b83_11ec_aace_f218987ff6derow4_col17\" class=\"data row4 col17\" >0.418544</td>\n",
       "                        <td id=\"T_e9f2f0fe_7b83_11ec_aace_f218987ff6derow4_col18\" class=\"data row4 col18\" >0.714918</td>\n",
       "                        <td id=\"T_e9f2f0fe_7b83_11ec_aace_f218987ff6derow4_col19\" class=\"data row4 col19\" >0.660940</td>\n",
       "                        <td id=\"T_e9f2f0fe_7b83_11ec_aace_f218987ff6derow4_col20\" class=\"data row4 col20\" >0.643607</td>\n",
       "                        <td id=\"T_e9f2f0fe_7b83_11ec_aace_f218987ff6derow4_col21\" class=\"data row4 col21\" >0.656716</td>\n",
       "                        <td id=\"T_e9f2f0fe_7b83_11ec_aace_f218987ff6derow4_col22\" class=\"data row4 col22\" >0.379729</td>\n",
       "                        <td id=\"T_e9f2f0fe_7b83_11ec_aace_f218987ff6derow4_col23\" class=\"data row4 col23\" >0.812390</td>\n",
       "                        <td id=\"T_e9f2f0fe_7b83_11ec_aace_f218987ff6derow4_col24\" class=\"data row4 col24\" >0.614660</td>\n",
       "                        <td id=\"T_e9f2f0fe_7b83_11ec_aace_f218987ff6derow4_col25\" class=\"data row4 col25\" >0.988518</td>\n",
       "                        <td id=\"T_e9f2f0fe_7b83_11ec_aace_f218987ff6derow4_col26\" class=\"data row4 col26\" >0.033943</td>\n",
       "                        <td id=\"T_e9f2f0fe_7b83_11ec_aace_f218987ff6derow4_col27\" class=\"data row4 col27\" >0.454977</td>\n",
       "            </tr>\n",
       "            <tr>\n",
       "                        <th id=\"T_e9f2f0fe_7b83_11ec_aace_f218987ff6delevel0_row5\" class=\"row_heading level0 row5\" >Field-Attempts</th>\n",
       "                        <td id=\"T_e9f2f0fe_7b83_11ec_aace_f218987ff6derow5_col0\" class=\"data row5 col0\" >0.041771</td>\n",
       "                        <td id=\"T_e9f2f0fe_7b83_11ec_aace_f218987ff6derow5_col1\" class=\"data row5 col1\" >0.501300</td>\n",
       "                        <td id=\"T_e9f2f0fe_7b83_11ec_aace_f218987ff6derow5_col2\" class=\"data row5 col2\" >0.698944</td>\n",
       "                        <td id=\"T_e9f2f0fe_7b83_11ec_aace_f218987ff6derow5_col3\" class=\"data row5 col3\" >0.897177</td>\n",
       "                        <td id=\"T_e9f2f0fe_7b83_11ec_aace_f218987ff6derow5_col4\" class=\"data row5 col4\" >0.977134</td>\n",
       "                        <td id=\"T_e9f2f0fe_7b83_11ec_aace_f218987ff6derow5_col5\" class=\"data row5 col5\" >1.000000</td>\n",
       "                        <td id=\"T_e9f2f0fe_7b83_11ec_aace_f218987ff6derow5_col6\" class=\"data row5 col6\" >0.145648</td>\n",
       "                        <td id=\"T_e9f2f0fe_7b83_11ec_aace_f218987ff6derow5_col7\" class=\"data row5 col7\" >0.640607</td>\n",
       "                        <td id=\"T_e9f2f0fe_7b83_11ec_aace_f218987ff6derow5_col8\" class=\"data row5 col8\" >0.658398</td>\n",
       "                        <td id=\"T_e9f2f0fe_7b83_11ec_aace_f218987ff6derow5_col9\" class=\"data row5 col9\" >0.197854</td>\n",
       "                        <td id=\"T_e9f2f0fe_7b83_11ec_aace_f218987ff6derow5_col10\" class=\"data row5 col10\" >0.879551</td>\n",
       "                        <td id=\"T_e9f2f0fe_7b83_11ec_aace_f218987ff6derow5_col11\" class=\"data row5 col11\" >0.908437</td>\n",
       "                        <td id=\"T_e9f2f0fe_7b83_11ec_aace_f218987ff6derow5_col12\" class=\"data row5 col12\" >0.109111</td>\n",
       "                        <td id=\"T_e9f2f0fe_7b83_11ec_aace_f218987ff6derow5_col13\" class=\"data row5 col13\" >0.185507</td>\n",
       "                        <td id=\"T_e9f2f0fe_7b83_11ec_aace_f218987ff6derow5_col14\" class=\"data row5 col14\" >0.830066</td>\n",
       "                        <td id=\"T_e9f2f0fe_7b83_11ec_aace_f218987ff6derow5_col15\" class=\"data row5 col15\" >0.811664</td>\n",
       "                        <td id=\"T_e9f2f0fe_7b83_11ec_aace_f218987ff6derow5_col16\" class=\"data row5 col16\" >0.313132</td>\n",
       "                        <td id=\"T_e9f2f0fe_7b83_11ec_aace_f218987ff6derow5_col17\" class=\"data row5 col17\" >0.313273</td>\n",
       "                        <td id=\"T_e9f2f0fe_7b83_11ec_aace_f218987ff6derow5_col18\" class=\"data row5 col18\" >0.650463</td>\n",
       "                        <td id=\"T_e9f2f0fe_7b83_11ec_aace_f218987ff6derow5_col19\" class=\"data row5 col19\" >0.579485</td>\n",
       "                        <td id=\"T_e9f2f0fe_7b83_11ec_aace_f218987ff6derow5_col20\" class=\"data row5 col20\" >0.683514</td>\n",
       "                        <td id=\"T_e9f2f0fe_7b83_11ec_aace_f218987ff6derow5_col21\" class=\"data row5 col21\" >0.677134</td>\n",
       "                        <td id=\"T_e9f2f0fe_7b83_11ec_aace_f218987ff6derow5_col22\" class=\"data row5 col22\" >0.288761</td>\n",
       "                        <td id=\"T_e9f2f0fe_7b83_11ec_aace_f218987ff6derow5_col23\" class=\"data row5 col23\" >0.824714</td>\n",
       "                        <td id=\"T_e9f2f0fe_7b83_11ec_aace_f218987ff6derow5_col24\" class=\"data row5 col24\" >0.581321</td>\n",
       "                        <td id=\"T_e9f2f0fe_7b83_11ec_aace_f218987ff6derow5_col25\" class=\"data row5 col25\" >0.980565</td>\n",
       "                        <td id=\"T_e9f2f0fe_7b83_11ec_aace_f218987ff6derow5_col26\" class=\"data row5 col26\" >0.027029</td>\n",
       "                        <td id=\"T_e9f2f0fe_7b83_11ec_aace_f218987ff6derow5_col27\" class=\"data row5 col27\" >0.430405</td>\n",
       "            </tr>\n",
       "            <tr>\n",
       "                        <th id=\"T_e9f2f0fe_7b83_11ec_aace_f218987ff6delevel0_row6\" class=\"row_heading level0 row6\" >Field_Goal_Percentage</th>\n",
       "                        <td id=\"T_e9f2f0fe_7b83_11ec_aace_f218987ff6derow6_col0\" class=\"data row6 col0\" >0.001774</td>\n",
       "                        <td id=\"T_e9f2f0fe_7b83_11ec_aace_f218987ff6derow6_col1\" class=\"data row6 col1\" >0.255762</td>\n",
       "                        <td id=\"T_e9f2f0fe_7b83_11ec_aace_f218987ff6derow6_col2\" class=\"data row6 col2\" >0.205418</td>\n",
       "                        <td id=\"T_e9f2f0fe_7b83_11ec_aace_f218987ff6derow6_col3\" class=\"data row6 col3\" >0.215626</td>\n",
       "                        <td id=\"T_e9f2f0fe_7b83_11ec_aace_f218987ff6derow6_col4\" class=\"data row6 col4\" >0.289251</td>\n",
       "                        <td id=\"T_e9f2f0fe_7b83_11ec_aace_f218987ff6derow6_col5\" class=\"data row6 col5\" >0.145648</td>\n",
       "                        <td id=\"T_e9f2f0fe_7b83_11ec_aace_f218987ff6derow6_col6\" class=\"data row6 col6\" >1.000000</td>\n",
       "                        <td id=\"T_e9f2f0fe_7b83_11ec_aace_f218987ff6derow6_col7\" class=\"data row6 col7\" >-0.061253</td>\n",
       "                        <td id=\"T_e9f2f0fe_7b83_11ec_aace_f218987ff6derow6_col8\" class=\"data row6 col8\" >-0.130460</td>\n",
       "                        <td id=\"T_e9f2f0fe_7b83_11ec_aace_f218987ff6derow6_col9\" class=\"data row6 col9\" >0.149764</td>\n",
       "                        <td id=\"T_e9f2f0fe_7b83_11ec_aace_f218987ff6derow6_col10\" class=\"data row6 col10\" >0.363433</td>\n",
       "                        <td id=\"T_e9f2f0fe_7b83_11ec_aace_f218987ff6derow6_col11\" class=\"data row6 col11\" >0.257736</td>\n",
       "                        <td id=\"T_e9f2f0fe_7b83_11ec_aace_f218987ff6derow6_col12\" class=\"data row6 col12\" >0.827736</td>\n",
       "                        <td id=\"T_e9f2f0fe_7b83_11ec_aace_f218987ff6derow6_col13\" class=\"data row6 col13\" >0.914157</td>\n",
       "                        <td id=\"T_e9f2f0fe_7b83_11ec_aace_f218987ff6derow6_col14\" class=\"data row6 col14\" >0.186138</td>\n",
       "                        <td id=\"T_e9f2f0fe_7b83_11ec_aace_f218987ff6derow6_col15\" class=\"data row6 col15\" >0.226768</td>\n",
       "                        <td id=\"T_e9f2f0fe_7b83_11ec_aace_f218987ff6derow6_col16\" class=\"data row6 col16\" >-0.073415</td>\n",
       "                        <td id=\"T_e9f2f0fe_7b83_11ec_aace_f218987ff6derow6_col17\" class=\"data row6 col17\" >0.412521</td>\n",
       "                        <td id=\"T_e9f2f0fe_7b83_11ec_aace_f218987ff6derow6_col18\" class=\"data row6 col18\" >0.338486</td>\n",
       "                        <td id=\"T_e9f2f0fe_7b83_11ec_aace_f218987ff6derow6_col19\" class=\"data row6 col19\" >0.382535</td>\n",
       "                        <td id=\"T_e9f2f0fe_7b83_11ec_aace_f218987ff6derow6_col20\" class=\"data row6 col20\" >0.034260</td>\n",
       "                        <td id=\"T_e9f2f0fe_7b83_11ec_aace_f218987ff6derow6_col21\" class=\"data row6 col21\" >0.116130</td>\n",
       "                        <td id=\"T_e9f2f0fe_7b83_11ec_aace_f218987ff6derow6_col22\" class=\"data row6 col22\" >0.365796</td>\n",
       "                        <td id=\"T_e9f2f0fe_7b83_11ec_aace_f218987ff6derow6_col23\" class=\"data row6 col23\" >0.151558</td>\n",
       "                        <td id=\"T_e9f2f0fe_7b83_11ec_aace_f218987ff6derow6_col24\" class=\"data row6 col24\" >0.325068</td>\n",
       "                        <td id=\"T_e9f2f0fe_7b83_11ec_aace_f218987ff6derow6_col25\" class=\"data row6 col25\" >0.244845</td>\n",
       "                        <td id=\"T_e9f2f0fe_7b83_11ec_aace_f218987ff6derow6_col26\" class=\"data row6 col26\" >0.026749</td>\n",
       "                        <td id=\"T_e9f2f0fe_7b83_11ec_aace_f218987ff6derow6_col27\" class=\"data row6 col27\" >0.083336</td>\n",
       "            </tr>\n",
       "            <tr>\n",
       "                        <th id=\"T_e9f2f0fe_7b83_11ec_aace_f218987ff6delevel0_row7\" class=\"row_heading level0 row7\" >three_Point_Field_Goals_Per_Game</th>\n",
       "                        <td id=\"T_e9f2f0fe_7b83_11ec_aace_f218987ff6derow7_col0\" class=\"data row7 col0\" >0.110624</td>\n",
       "                        <td id=\"T_e9f2f0fe_7b83_11ec_aace_f218987ff6derow7_col1\" class=\"data row7 col1\" >0.317361</td>\n",
       "                        <td id=\"T_e9f2f0fe_7b83_11ec_aace_f218987ff6derow7_col2\" class=\"data row7 col2\" >0.378553</td>\n",
       "                        <td id=\"T_e9f2f0fe_7b83_11ec_aace_f218987ff6derow7_col3\" class=\"data row7 col3\" >0.580346</td>\n",
       "                        <td id=\"T_e9f2f0fe_7b83_11ec_aace_f218987ff6derow7_col4\" class=\"data row7 col4\" >0.559530</td>\n",
       "                        <td id=\"T_e9f2f0fe_7b83_11ec_aace_f218987ff6derow7_col5\" class=\"data row7 col5\" >0.640607</td>\n",
       "                        <td id=\"T_e9f2f0fe_7b83_11ec_aace_f218987ff6derow7_col6\" class=\"data row7 col6\" >-0.061253</td>\n",
       "                        <td id=\"T_e9f2f0fe_7b83_11ec_aace_f218987ff6derow7_col7\" class=\"data row7 col7\" >1.000000</td>\n",
       "                        <td id=\"T_e9f2f0fe_7b83_11ec_aace_f218987ff6derow7_col8\" class=\"data row7 col8\" >0.979134</td>\n",
       "                        <td id=\"T_e9f2f0fe_7b83_11ec_aace_f218987ff6derow7_col9\" class=\"data row7 col9\" >0.493682</td>\n",
       "                        <td id=\"T_e9f2f0fe_7b83_11ec_aace_f218987ff6derow7_col10\" class=\"data row7 col10\" >0.242756</td>\n",
       "                        <td id=\"T_e9f2f0fe_7b83_11ec_aace_f218987ff6derow7_col11\" class=\"data row7 col11\" >0.272387</td>\n",
       "                        <td id=\"T_e9f2f0fe_7b83_11ec_aace_f218987ff6derow7_col12\" class=\"data row7 col12\" >-0.006265</td>\n",
       "                        <td id=\"T_e9f2f0fe_7b83_11ec_aace_f218987ff6derow7_col13\" class=\"data row7 col13\" >0.219582</td>\n",
       "                        <td id=\"T_e9f2f0fe_7b83_11ec_aace_f218987ff6derow7_col14\" class=\"data row7 col14\" >0.405866</td>\n",
       "                        <td id=\"T_e9f2f0fe_7b83_11ec_aace_f218987ff6derow7_col15\" class=\"data row7 col15\" >0.335304</td>\n",
       "                        <td id=\"T_e9f2f0fe_7b83_11ec_aace_f218987ff6derow7_col16\" class=\"data row7 col16\" >0.374184</td>\n",
       "                        <td id=\"T_e9f2f0fe_7b83_11ec_aace_f218987ff6derow7_col17\" class=\"data row7 col17\" >-0.204624</td>\n",
       "                        <td id=\"T_e9f2f0fe_7b83_11ec_aace_f218987ff6derow7_col18\" class=\"data row7 col18\" >0.206226</td>\n",
       "                        <td id=\"T_e9f2f0fe_7b83_11ec_aace_f218987ff6derow7_col19\" class=\"data row7 col19\" >0.085155</td>\n",
       "                        <td id=\"T_e9f2f0fe_7b83_11ec_aace_f218987ff6derow7_col20\" class=\"data row7 col20\" >0.478822</td>\n",
       "                        <td id=\"T_e9f2f0fe_7b83_11ec_aace_f218987ff6derow7_col21\" class=\"data row7 col21\" >0.448089</td>\n",
       "                        <td id=\"T_e9f2f0fe_7b83_11ec_aace_f218987ff6derow7_col22\" class=\"data row7 col22\" >-0.094273</td>\n",
       "                        <td id=\"T_e9f2f0fe_7b83_11ec_aace_f218987ff6derow7_col23\" class=\"data row7 col23\" >0.430758</td>\n",
       "                        <td id=\"T_e9f2f0fe_7b83_11ec_aace_f218987ff6derow7_col24\" class=\"data row7 col24\" >0.249848</td>\n",
       "                        <td id=\"T_e9f2f0fe_7b83_11ec_aace_f218987ff6derow7_col25\" class=\"data row7 col25\" >0.626928</td>\n",
       "                        <td id=\"T_e9f2f0fe_7b83_11ec_aace_f218987ff6derow7_col26\" class=\"data row7 col26\" >0.209695</td>\n",
       "                        <td id=\"T_e9f2f0fe_7b83_11ec_aace_f218987ff6derow7_col27\" class=\"data row7 col27\" >0.221979</td>\n",
       "            </tr>\n",
       "            <tr>\n",
       "                        <th id=\"T_e9f2f0fe_7b83_11ec_aace_f218987ff6delevel0_row8\" class=\"row_heading level0 row8\" >three_Point_Field_attemps_Goal_Percentage</th>\n",
       "                        <td id=\"T_e9f2f0fe_7b83_11ec_aace_f218987ff6derow8_col0\" class=\"data row8 col0\" >0.097416</td>\n",
       "                        <td id=\"T_e9f2f0fe_7b83_11ec_aace_f218987ff6derow8_col1\" class=\"data row8 col1\" >0.298110</td>\n",
       "                        <td id=\"T_e9f2f0fe_7b83_11ec_aace_f218987ff6derow8_col2\" class=\"data row8 col2\" >0.369180</td>\n",
       "                        <td id=\"T_e9f2f0fe_7b83_11ec_aace_f218987ff6derow8_col3\" class=\"data row8 col3\" >0.587490</td>\n",
       "                        <td id=\"T_e9f2f0fe_7b83_11ec_aace_f218987ff6derow8_col4\" class=\"data row8 col4\" >0.558805</td>\n",
       "                        <td id=\"T_e9f2f0fe_7b83_11ec_aace_f218987ff6derow8_col5\" class=\"data row8 col5\" >0.658398</td>\n",
       "                        <td id=\"T_e9f2f0fe_7b83_11ec_aace_f218987ff6derow8_col6\" class=\"data row8 col6\" >-0.130460</td>\n",
       "                        <td id=\"T_e9f2f0fe_7b83_11ec_aace_f218987ff6derow8_col7\" class=\"data row8 col7\" >0.979134</td>\n",
       "                        <td id=\"T_e9f2f0fe_7b83_11ec_aace_f218987ff6derow8_col8\" class=\"data row8 col8\" >1.000000</td>\n",
       "                        <td id=\"T_e9f2f0fe_7b83_11ec_aace_f218987ff6derow8_col9\" class=\"data row8 col9\" >0.419393</td>\n",
       "                        <td id=\"T_e9f2f0fe_7b83_11ec_aace_f218987ff6derow8_col10\" class=\"data row8 col10\" >0.250086</td>\n",
       "                        <td id=\"T_e9f2f0fe_7b83_11ec_aace_f218987ff6derow8_col11\" class=\"data row8 col11\" >0.283638</td>\n",
       "                        <td id=\"T_e9f2f0fe_7b83_11ec_aace_f218987ff6derow8_col12\" class=\"data row8 col12\" >-0.010947</td>\n",
       "                        <td id=\"T_e9f2f0fe_7b83_11ec_aace_f218987ff6derow8_col13\" class=\"data row8 col13\" >0.137220</td>\n",
       "                        <td id=\"T_e9f2f0fe_7b83_11ec_aace_f218987ff6derow8_col14\" class=\"data row8 col14\" >0.422059</td>\n",
       "                        <td id=\"T_e9f2f0fe_7b83_11ec_aace_f218987ff6derow8_col15\" class=\"data row8 col15\" >0.352009</td>\n",
       "                        <td id=\"T_e9f2f0fe_7b83_11ec_aace_f218987ff6derow8_col16\" class=\"data row8 col16\" >0.374743</td>\n",
       "                        <td id=\"T_e9f2f0fe_7b83_11ec_aace_f218987ff6derow8_col17\" class=\"data row8 col17\" >-0.218485</td>\n",
       "                        <td id=\"T_e9f2f0fe_7b83_11ec_aace_f218987ff6derow8_col18\" class=\"data row8 col18\" >0.203628</td>\n",
       "                        <td id=\"T_e9f2f0fe_7b83_11ec_aace_f218987ff6derow8_col19\" class=\"data row8 col19\" >0.078772</td>\n",
       "                        <td id=\"T_e9f2f0fe_7b83_11ec_aace_f218987ff6derow8_col20\" class=\"data row8 col20\" >0.502869</td>\n",
       "                        <td id=\"T_e9f2f0fe_7b83_11ec_aace_f218987ff6derow8_col21\" class=\"data row8 col21\" >0.468210</td>\n",
       "                        <td id=\"T_e9f2f0fe_7b83_11ec_aace_f218987ff6derow8_col22\" class=\"data row8 col22\" >-0.105695</td>\n",
       "                        <td id=\"T_e9f2f0fe_7b83_11ec_aace_f218987ff6derow8_col23\" class=\"data row8 col23\" >0.454662</td>\n",
       "                        <td id=\"T_e9f2f0fe_7b83_11ec_aace_f218987ff6derow8_col24\" class=\"data row8 col24\" >0.251035</td>\n",
       "                        <td id=\"T_e9f2f0fe_7b83_11ec_aace_f218987ff6derow8_col25\" class=\"data row8 col25\" >0.627472</td>\n",
       "                        <td id=\"T_e9f2f0fe_7b83_11ec_aace_f218987ff6derow8_col26\" class=\"data row8 col26\" >0.226495</td>\n",
       "                        <td id=\"T_e9f2f0fe_7b83_11ec_aace_f218987ff6derow8_col27\" class=\"data row8 col27\" >0.219719</td>\n",
       "            </tr>\n",
       "            <tr>\n",
       "                        <th id=\"T_e9f2f0fe_7b83_11ec_aace_f218987ff6delevel0_row9\" class=\"row_heading level0 row9\" >three_Point_Field_Goal_Percentage</th>\n",
       "                        <td id=\"T_e9f2f0fe_7b83_11ec_aace_f218987ff6derow9_col0\" class=\"data row9 col0\" >0.073807</td>\n",
       "                        <td id=\"T_e9f2f0fe_7b83_11ec_aace_f218987ff6derow9_col1\" class=\"data row9 col1\" >0.114966</td>\n",
       "                        <td id=\"T_e9f2f0fe_7b83_11ec_aace_f218987ff6derow9_col2\" class=\"data row9 col2\" >0.089100</td>\n",
       "                        <td id=\"T_e9f2f0fe_7b83_11ec_aace_f218987ff6derow9_col3\" class=\"data row9 col3\" >0.191515</td>\n",
       "                        <td id=\"T_e9f2f0fe_7b83_11ec_aace_f218987ff6derow9_col4\" class=\"data row9 col4\" >0.177021</td>\n",
       "                        <td id=\"T_e9f2f0fe_7b83_11ec_aace_f218987ff6derow9_col5\" class=\"data row9 col5\" >0.197854</td>\n",
       "                        <td id=\"T_e9f2f0fe_7b83_11ec_aace_f218987ff6derow9_col6\" class=\"data row9 col6\" >0.149764</td>\n",
       "                        <td id=\"T_e9f2f0fe_7b83_11ec_aace_f218987ff6derow9_col7\" class=\"data row9 col7\" >0.493682</td>\n",
       "                        <td id=\"T_e9f2f0fe_7b83_11ec_aace_f218987ff6derow9_col8\" class=\"data row9 col8\" >0.419393</td>\n",
       "                        <td id=\"T_e9f2f0fe_7b83_11ec_aace_f218987ff6derow9_col9\" class=\"data row9 col9\" >1.000000</td>\n",
       "                        <td id=\"T_e9f2f0fe_7b83_11ec_aace_f218987ff6derow9_col10\" class=\"data row9 col10\" >0.003615</td>\n",
       "                        <td id=\"T_e9f2f0fe_7b83_11ec_aace_f218987ff6derow9_col11\" class=\"data row9 col11\" >0.020944</td>\n",
       "                        <td id=\"T_e9f2f0fe_7b83_11ec_aace_f218987ff6derow9_col12\" class=\"data row9 col12\" >-0.059981</td>\n",
       "                        <td id=\"T_e9f2f0fe_7b83_11ec_aace_f218987ff6derow9_col13\" class=\"data row9 col13\" >0.424491</td>\n",
       "                        <td id=\"T_e9f2f0fe_7b83_11ec_aace_f218987ff6derow9_col14\" class=\"data row9 col14\" >0.082949</td>\n",
       "                        <td id=\"T_e9f2f0fe_7b83_11ec_aace_f218987ff6derow9_col15\" class=\"data row9 col15\" >0.036639</td>\n",
       "                        <td id=\"T_e9f2f0fe_7b83_11ec_aace_f218987ff6derow9_col16\" class=\"data row9 col16\" >0.247517</td>\n",
       "                        <td id=\"T_e9f2f0fe_7b83_11ec_aace_f218987ff6derow9_col17\" class=\"data row9 col17\" >-0.242039</td>\n",
       "                        <td id=\"T_e9f2f0fe_7b83_11ec_aace_f218987ff6derow9_col18\" class=\"data row9 col18\" >-0.014967</td>\n",
       "                        <td id=\"T_e9f2f0fe_7b83_11ec_aace_f218987ff6derow9_col19\" class=\"data row9 col19\" >-0.087990</td>\n",
       "                        <td id=\"T_e9f2f0fe_7b83_11ec_aace_f218987ff6derow9_col20\" class=\"data row9 col20\" >0.179627</td>\n",
       "                        <td id=\"T_e9f2f0fe_7b83_11ec_aace_f218987ff6derow9_col21\" class=\"data row9 col21\" >0.133992</td>\n",
       "                        <td id=\"T_e9f2f0fe_7b83_11ec_aace_f218987ff6derow9_col22\" class=\"data row9 col22\" >-0.146091</td>\n",
       "                        <td id=\"T_e9f2f0fe_7b83_11ec_aace_f218987ff6derow9_col23\" class=\"data row9 col23\" >0.101464</td>\n",
       "                        <td id=\"T_e9f2f0fe_7b83_11ec_aace_f218987ff6derow9_col24\" class=\"data row9 col24\" >0.014534</td>\n",
       "                        <td id=\"T_e9f2f0fe_7b83_11ec_aace_f218987ff6derow9_col25\" class=\"data row9 col25\" >0.211069</td>\n",
       "                        <td id=\"T_e9f2f0fe_7b83_11ec_aace_f218987ff6derow9_col26\" class=\"data row9 col26\" >0.103255</td>\n",
       "                        <td id=\"T_e9f2f0fe_7b83_11ec_aace_f218987ff6derow9_col27\" class=\"data row9 col27\" >0.044034</td>\n",
       "            </tr>\n",
       "            <tr>\n",
       "                        <th id=\"T_e9f2f0fe_7b83_11ec_aace_f218987ff6delevel0_row10\" class=\"row_heading level0 row10\" >two_Point_Field_Goals_Per_Game</th>\n",
       "                        <td id=\"T_e9f2f0fe_7b83_11ec_aace_f218987ff6derow10_col0\" class=\"data row10 col0\" >-0.003955</td>\n",
       "                        <td id=\"T_e9f2f0fe_7b83_11ec_aace_f218987ff6derow10_col1\" class=\"data row10 col1\" >0.483524</td>\n",
       "                        <td id=\"T_e9f2f0fe_7b83_11ec_aace_f218987ff6derow10_col2\" class=\"data row10 col2\" >0.689408</td>\n",
       "                        <td id=\"T_e9f2f0fe_7b83_11ec_aace_f218987ff6derow10_col3\" class=\"data row10 col3\" >0.801559</td>\n",
       "                        <td id=\"T_e9f2f0fe_7b83_11ec_aace_f218987ff6derow10_col4\" class=\"data row10 col4\" >0.939599</td>\n",
       "                        <td id=\"T_e9f2f0fe_7b83_11ec_aace_f218987ff6derow10_col5\" class=\"data row10 col5\" >0.879551</td>\n",
       "                        <td id=\"T_e9f2f0fe_7b83_11ec_aace_f218987ff6derow10_col6\" class=\"data row10 col6\" >0.363433</td>\n",
       "                        <td id=\"T_e9f2f0fe_7b83_11ec_aace_f218987ff6derow10_col7\" class=\"data row10 col7\" >0.242756</td>\n",
       "                        <td id=\"T_e9f2f0fe_7b83_11ec_aace_f218987ff6derow10_col8\" class=\"data row10 col8\" >0.250086</td>\n",
       "                        <td id=\"T_e9f2f0fe_7b83_11ec_aace_f218987ff6derow10_col9\" class=\"data row10 col9\" >0.003615</td>\n",
       "                        <td id=\"T_e9f2f0fe_7b83_11ec_aace_f218987ff6derow10_col10\" class=\"data row10 col10\" >1.000000</td>\n",
       "                        <td id=\"T_e9f2f0fe_7b83_11ec_aace_f218987ff6derow10_col11\" class=\"data row10 col11\" >0.981771</td>\n",
       "                        <td id=\"T_e9f2f0fe_7b83_11ec_aace_f218987ff6derow10_col12\" class=\"data row10 col12\" >0.268082</td>\n",
       "                        <td id=\"T_e9f2f0fe_7b83_11ec_aace_f218987ff6derow10_col13\" class=\"data row10 col13\" >0.254168</td>\n",
       "                        <td id=\"T_e9f2f0fe_7b83_11ec_aace_f218987ff6derow10_col14\" class=\"data row10 col14\" >0.813637</td>\n",
       "                        <td id=\"T_e9f2f0fe_7b83_11ec_aace_f218987ff6derow10_col15\" class=\"data row10 col15\" >0.837478</td>\n",
       "                        <td id=\"T_e9f2f0fe_7b83_11ec_aace_f218987ff6derow10_col16\" class=\"data row10 col16\" >0.162594</td>\n",
       "                        <td id=\"T_e9f2f0fe_7b83_11ec_aace_f218987ff6derow10_col17\" class=\"data row10 col17\" >0.574428</td>\n",
       "                        <td id=\"T_e9f2f0fe_7b83_11ec_aace_f218987ff6derow10_col18\" class=\"data row10 col18\" >0.751811</td>\n",
       "                        <td id=\"T_e9f2f0fe_7b83_11ec_aace_f218987ff6derow10_col19\" class=\"data row10 col19\" >0.738581</td>\n",
       "                        <td id=\"T_e9f2f0fe_7b83_11ec_aace_f218987ff6derow10_col20\" class=\"data row10 col20\" >0.555808</td>\n",
       "                        <td id=\"T_e9f2f0fe_7b83_11ec_aace_f218987ff6derow10_col21\" class=\"data row10 col21\" >0.583674</td>\n",
       "                        <td id=\"T_e9f2f0fe_7b83_11ec_aace_f218987ff6derow10_col22\" class=\"data row10 col22\" >0.483107</td>\n",
       "                        <td id=\"T_e9f2f0fe_7b83_11ec_aace_f218987ff6derow10_col23\" class=\"data row10 col23\" >0.773215</td>\n",
       "                        <td id=\"T_e9f2f0fe_7b83_11ec_aace_f218987ff6derow10_col24\" class=\"data row10 col24\" >0.616381</td>\n",
       "                        <td id=\"T_e9f2f0fe_7b83_11ec_aace_f218987ff6derow10_col25\" class=\"data row10 col25\" >0.898506</td>\n",
       "                        <td id=\"T_e9f2f0fe_7b83_11ec_aace_f218987ff6derow10_col26\" class=\"data row10 col26\" >-0.046712</td>\n",
       "                        <td id=\"T_e9f2f0fe_7b83_11ec_aace_f218987ff6derow10_col27\" class=\"data row10 col27\" >0.440870</td>\n",
       "            </tr>\n",
       "            <tr>\n",
       "                        <th id=\"T_e9f2f0fe_7b83_11ec_aace_f218987ff6delevel0_row11\" class=\"row_heading level0 row11\" >two_Point_Field_Goal_Attempts_Per_Game</th>\n",
       "                        <td id=\"T_e9f2f0fe_7b83_11ec_aace_f218987ff6derow11_col0\" class=\"data row11 col0\" >-0.000740</td>\n",
       "                        <td id=\"T_e9f2f0fe_7b83_11ec_aace_f218987ff6derow11_col1\" class=\"data row11 col1\" >0.472893</td>\n",
       "                        <td id=\"T_e9f2f0fe_7b83_11ec_aace_f218987ff6derow11_col2\" class=\"data row11 col2\" >0.685364</td>\n",
       "                        <td id=\"T_e9f2f0fe_7b83_11ec_aace_f218987ff6derow11_col3\" class=\"data row11 col3\" >0.816822</td>\n",
       "                        <td id=\"T_e9f2f0fe_7b83_11ec_aace_f218987ff6derow11_col4\" class=\"data row11 col4\" >0.934637</td>\n",
       "                        <td id=\"T_e9f2f0fe_7b83_11ec_aace_f218987ff6derow11_col5\" class=\"data row11 col5\" >0.908437</td>\n",
       "                        <td id=\"T_e9f2f0fe_7b83_11ec_aace_f218987ff6derow11_col6\" class=\"data row11 col6\" >0.257736</td>\n",
       "                        <td id=\"T_e9f2f0fe_7b83_11ec_aace_f218987ff6derow11_col7\" class=\"data row11 col7\" >0.272387</td>\n",
       "                        <td id=\"T_e9f2f0fe_7b83_11ec_aace_f218987ff6derow11_col8\" class=\"data row11 col8\" >0.283638</td>\n",
       "                        <td id=\"T_e9f2f0fe_7b83_11ec_aace_f218987ff6derow11_col9\" class=\"data row11 col9\" >0.020944</td>\n",
       "                        <td id=\"T_e9f2f0fe_7b83_11ec_aace_f218987ff6derow11_col10\" class=\"data row11 col10\" >0.981771</td>\n",
       "                        <td id=\"T_e9f2f0fe_7b83_11ec_aace_f218987ff6derow11_col11\" class=\"data row11 col11\" >1.000000</td>\n",
       "                        <td id=\"T_e9f2f0fe_7b83_11ec_aace_f218987ff6derow11_col12\" class=\"data row11 col12\" >0.144807</td>\n",
       "                        <td id=\"T_e9f2f0fe_7b83_11ec_aace_f218987ff6derow11_col13\" class=\"data row11 col13\" >0.159588</td>\n",
       "                        <td id=\"T_e9f2f0fe_7b83_11ec_aace_f218987ff6derow11_col14\" class=\"data row11 col14\" >0.823285</td>\n",
       "                        <td id=\"T_e9f2f0fe_7b83_11ec_aace_f218987ff6derow11_col15\" class=\"data row11 col15\" >0.838693</td>\n",
       "                        <td id=\"T_e9f2f0fe_7b83_11ec_aace_f218987ff6derow11_col16\" class=\"data row11 col16\" >0.186474</td>\n",
       "                        <td id=\"T_e9f2f0fe_7b83_11ec_aace_f218987ff6derow11_col17\" class=\"data row11 col17\" >0.520368</td>\n",
       "                        <td id=\"T_e9f2f0fe_7b83_11ec_aace_f218987ff6derow11_col18\" class=\"data row11 col18\" >0.715739</td>\n",
       "                        <td id=\"T_e9f2f0fe_7b83_11ec_aace_f218987ff6derow11_col19\" class=\"data row11 col19\" >0.694586</td>\n",
       "                        <td id=\"T_e9f2f0fe_7b83_11ec_aace_f218987ff6derow11_col20\" class=\"data row11 col20\" >0.591593</td>\n",
       "                        <td id=\"T_e9f2f0fe_7b83_11ec_aace_f218987ff6derow11_col21\" class=\"data row11 col21\" >0.602626</td>\n",
       "                        <td id=\"T_e9f2f0fe_7b83_11ec_aace_f218987ff6derow11_col22\" class=\"data row11 col22\" >0.426736</td>\n",
       "                        <td id=\"T_e9f2f0fe_7b83_11ec_aace_f218987ff6derow11_col23\" class=\"data row11 col23\" >0.798251</td>\n",
       "                        <td id=\"T_e9f2f0fe_7b83_11ec_aace_f218987ff6derow11_col24\" class=\"data row11 col24\" >0.601236</td>\n",
       "                        <td id=\"T_e9f2f0fe_7b83_11ec_aace_f218987ff6derow11_col25\" class=\"data row11 col25\" >0.900888</td>\n",
       "                        <td id=\"T_e9f2f0fe_7b83_11ec_aace_f218987ff6derow11_col26\" class=\"data row11 col26\" >-0.091086</td>\n",
       "                        <td id=\"T_e9f2f0fe_7b83_11ec_aace_f218987ff6derow11_col27\" class=\"data row11 col27\" >0.426298</td>\n",
       "            </tr>\n",
       "            <tr>\n",
       "                        <th id=\"T_e9f2f0fe_7b83_11ec_aace_f218987ff6delevel0_row12\" class=\"row_heading level0 row12\" >two_Point_Field_Goal_Percentage</th>\n",
       "                        <td id=\"T_e9f2f0fe_7b83_11ec_aace_f218987ff6derow12_col0\" class=\"data row12 col0\" >-0.020074</td>\n",
       "                        <td id=\"T_e9f2f0fe_7b83_11ec_aace_f218987ff6derow12_col1\" class=\"data row12 col1\" >0.193092</td>\n",
       "                        <td id=\"T_e9f2f0fe_7b83_11ec_aace_f218987ff6derow12_col2\" class=\"data row12 col2\" >0.148914</td>\n",
       "                        <td id=\"T_e9f2f0fe_7b83_11ec_aace_f218987ff6derow12_col3\" class=\"data row12 col3\" >0.164070</td>\n",
       "                        <td id=\"T_e9f2f0fe_7b83_11ec_aace_f218987ff6derow12_col4\" class=\"data row12 col4\" >0.227342</td>\n",
       "                        <td id=\"T_e9f2f0fe_7b83_11ec_aace_f218987ff6derow12_col5\" class=\"data row12 col5\" >0.109111</td>\n",
       "                        <td id=\"T_e9f2f0fe_7b83_11ec_aace_f218987ff6derow12_col6\" class=\"data row12 col6\" >0.827736</td>\n",
       "                        <td id=\"T_e9f2f0fe_7b83_11ec_aace_f218987ff6derow12_col7\" class=\"data row12 col7\" >-0.006265</td>\n",
       "                        <td id=\"T_e9f2f0fe_7b83_11ec_aace_f218987ff6derow12_col8\" class=\"data row12 col8\" >-0.010947</td>\n",
       "                        <td id=\"T_e9f2f0fe_7b83_11ec_aace_f218987ff6derow12_col9\" class=\"data row12 col9\" >-0.059981</td>\n",
       "                        <td id=\"T_e9f2f0fe_7b83_11ec_aace_f218987ff6derow12_col10\" class=\"data row12 col10\" >0.268082</td>\n",
       "                        <td id=\"T_e9f2f0fe_7b83_11ec_aace_f218987ff6derow12_col11\" class=\"data row12 col11\" >0.144807</td>\n",
       "                        <td id=\"T_e9f2f0fe_7b83_11ec_aace_f218987ff6derow12_col12\" class=\"data row12 col12\" >1.000000</td>\n",
       "                        <td id=\"T_e9f2f0fe_7b83_11ec_aace_f218987ff6derow12_col13\" class=\"data row12 col13\" >0.774813</td>\n",
       "                        <td id=\"T_e9f2f0fe_7b83_11ec_aace_f218987ff6derow12_col14\" class=\"data row12 col14\" >0.128946</td>\n",
       "                        <td id=\"T_e9f2f0fe_7b83_11ec_aace_f218987ff6derow12_col15\" class=\"data row12 col15\" >0.153846</td>\n",
       "                        <td id=\"T_e9f2f0fe_7b83_11ec_aace_f218987ff6derow12_col16\" class=\"data row12 col16\" >-0.023693</td>\n",
       "                        <td id=\"T_e9f2f0fe_7b83_11ec_aace_f218987ff6derow12_col17\" class=\"data row12 col17\" >0.274087</td>\n",
       "                        <td id=\"T_e9f2f0fe_7b83_11ec_aace_f218987ff6derow12_col18\" class=\"data row12 col18\" >0.254455</td>\n",
       "                        <td id=\"T_e9f2f0fe_7b83_11ec_aace_f218987ff6derow12_col19\" class=\"data row12 col19\" >0.275999</td>\n",
       "                        <td id=\"T_e9f2f0fe_7b83_11ec_aace_f218987ff6derow12_col20\" class=\"data row12 col20\" >0.020786</td>\n",
       "                        <td id=\"T_e9f2f0fe_7b83_11ec_aace_f218987ff6derow12_col21\" class=\"data row12 col21\" >0.100357</td>\n",
       "                        <td id=\"T_e9f2f0fe_7b83_11ec_aace_f218987ff6derow12_col22\" class=\"data row12 col22\" >0.266307</td>\n",
       "                        <td id=\"T_e9f2f0fe_7b83_11ec_aace_f218987ff6derow12_col23\" class=\"data row12 col23\" >0.097362</td>\n",
       "                        <td id=\"T_e9f2f0fe_7b83_11ec_aace_f218987ff6derow12_col24\" class=\"data row12 col24\" >0.241359</td>\n",
       "                        <td id=\"T_e9f2f0fe_7b83_11ec_aace_f218987ff6derow12_col25\" class=\"data row12 col25\" >0.193831</td>\n",
       "                        <td id=\"T_e9f2f0fe_7b83_11ec_aace_f218987ff6derow12_col26\" class=\"data row12 col26\" >0.147000</td>\n",
       "                        <td id=\"T_e9f2f0fe_7b83_11ec_aace_f218987ff6derow12_col27\" class=\"data row12 col27\" >0.066937</td>\n",
       "            </tr>\n",
       "            <tr>\n",
       "                        <th id=\"T_e9f2f0fe_7b83_11ec_aace_f218987ff6delevel0_row13\" class=\"row_heading level0 row13\" >Effective_Field_Goal_Percentage</th>\n",
       "                        <td id=\"T_e9f2f0fe_7b83_11ec_aace_f218987ff6derow13_col0\" class=\"data row13 col0\" >0.047774</td>\n",
       "                        <td id=\"T_e9f2f0fe_7b83_11ec_aace_f218987ff6derow13_col1\" class=\"data row13 col1\" >0.278509</td>\n",
       "                        <td id=\"T_e9f2f0fe_7b83_11ec_aace_f218987ff6derow13_col2\" class=\"data row13 col2\" >0.198607</td>\n",
       "                        <td id=\"T_e9f2f0fe_7b83_11ec_aace_f218987ff6derow13_col3\" class=\"data row13 col3\" >0.256832</td>\n",
       "                        <td id=\"T_e9f2f0fe_7b83_11ec_aace_f218987ff6derow13_col4\" class=\"data row13 col4\" >0.295148</td>\n",
       "                        <td id=\"T_e9f2f0fe_7b83_11ec_aace_f218987ff6derow13_col5\" class=\"data row13 col5\" >0.185507</td>\n",
       "                        <td id=\"T_e9f2f0fe_7b83_11ec_aace_f218987ff6derow13_col6\" class=\"data row13 col6\" >0.914157</td>\n",
       "                        <td id=\"T_e9f2f0fe_7b83_11ec_aace_f218987ff6derow13_col7\" class=\"data row13 col7\" >0.219582</td>\n",
       "                        <td id=\"T_e9f2f0fe_7b83_11ec_aace_f218987ff6derow13_col8\" class=\"data row13 col8\" >0.137220</td>\n",
       "                        <td id=\"T_e9f2f0fe_7b83_11ec_aace_f218987ff6derow13_col9\" class=\"data row13 col9\" >0.424491</td>\n",
       "                        <td id=\"T_e9f2f0fe_7b83_11ec_aace_f218987ff6derow13_col10\" class=\"data row13 col10\" >0.254168</td>\n",
       "                        <td id=\"T_e9f2f0fe_7b83_11ec_aace_f218987ff6derow13_col11\" class=\"data row13 col11\" >0.159588</td>\n",
       "                        <td id=\"T_e9f2f0fe_7b83_11ec_aace_f218987ff6derow13_col12\" class=\"data row13 col12\" >0.774813</td>\n",
       "                        <td id=\"T_e9f2f0fe_7b83_11ec_aace_f218987ff6derow13_col13\" class=\"data row13 col13\" >1.000000</td>\n",
       "                        <td id=\"T_e9f2f0fe_7b83_11ec_aace_f218987ff6derow13_col14\" class=\"data row13 col14\" >0.154166</td>\n",
       "                        <td id=\"T_e9f2f0fe_7b83_11ec_aace_f218987ff6derow13_col15\" class=\"data row13 col15\" >0.167263</td>\n",
       "                        <td id=\"T_e9f2f0fe_7b83_11ec_aace_f218987ff6derow13_col16\" class=\"data row13 col16\" >0.070736</td>\n",
       "                        <td id=\"T_e9f2f0fe_7b83_11ec_aace_f218987ff6derow13_col17\" class=\"data row13 col17\" >0.226936</td>\n",
       "                        <td id=\"T_e9f2f0fe_7b83_11ec_aace_f218987ff6derow13_col18\" class=\"data row13 col18\" >0.267375</td>\n",
       "                        <td id=\"T_e9f2f0fe_7b83_11ec_aace_f218987ff6derow13_col19\" class=\"data row13 col19\" >0.270101</td>\n",
       "                        <td id=\"T_e9f2f0fe_7b83_11ec_aace_f218987ff6derow13_col20\" class=\"data row13 col20\" >0.079725</td>\n",
       "                        <td id=\"T_e9f2f0fe_7b83_11ec_aace_f218987ff6derow13_col21\" class=\"data row13 col21\" >0.148458</td>\n",
       "                        <td id=\"T_e9f2f0fe_7b83_11ec_aace_f218987ff6derow13_col22\" class=\"data row13 col22\" >0.237653</td>\n",
       "                        <td id=\"T_e9f2f0fe_7b83_11ec_aace_f218987ff6derow13_col23\" class=\"data row13 col23\" >0.134606</td>\n",
       "                        <td id=\"T_e9f2f0fe_7b83_11ec_aace_f218987ff6derow13_col24\" class=\"data row13 col24\" >0.276349</td>\n",
       "                        <td id=\"T_e9f2f0fe_7b83_11ec_aace_f218987ff6derow13_col25\" class=\"data row13 col25\" >0.278068</td>\n",
       "                        <td id=\"T_e9f2f0fe_7b83_11ec_aace_f218987ff6derow13_col26\" class=\"data row13 col26\" >0.124609</td>\n",
       "                        <td id=\"T_e9f2f0fe_7b83_11ec_aace_f218987ff6derow13_col27\" class=\"data row13 col27\" >0.072615</td>\n",
       "            </tr>\n",
       "            <tr>\n",
       "                        <th id=\"T_e9f2f0fe_7b83_11ec_aace_f218987ff6delevel0_row14\" class=\"row_heading level0 row14\" >Free_Throws_Per_Game</th>\n",
       "                        <td id=\"T_e9f2f0fe_7b83_11ec_aace_f218987ff6derow14_col0\" class=\"data row14 col0\" >0.014220</td>\n",
       "                        <td id=\"T_e9f2f0fe_7b83_11ec_aace_f218987ff6derow14_col1\" class=\"data row14 col1\" >0.402243</td>\n",
       "                        <td id=\"T_e9f2f0fe_7b83_11ec_aace_f218987ff6derow14_col2\" class=\"data row14 col2\" >0.599220</td>\n",
       "                        <td id=\"T_e9f2f0fe_7b83_11ec_aace_f218987ff6derow14_col3\" class=\"data row14 col3\" >0.729655</td>\n",
       "                        <td id=\"T_e9f2f0fe_7b83_11ec_aace_f218987ff6derow14_col4\" class=\"data row14 col4\" >0.838045</td>\n",
       "                        <td id=\"T_e9f2f0fe_7b83_11ec_aace_f218987ff6derow14_col5\" class=\"data row14 col5\" >0.830066</td>\n",
       "                        <td id=\"T_e9f2f0fe_7b83_11ec_aace_f218987ff6derow14_col6\" class=\"data row14 col6\" >0.186138</td>\n",
       "                        <td id=\"T_e9f2f0fe_7b83_11ec_aace_f218987ff6derow14_col7\" class=\"data row14 col7\" >0.405866</td>\n",
       "                        <td id=\"T_e9f2f0fe_7b83_11ec_aace_f218987ff6derow14_col8\" class=\"data row14 col8\" >0.422059</td>\n",
       "                        <td id=\"T_e9f2f0fe_7b83_11ec_aace_f218987ff6derow14_col9\" class=\"data row14 col9\" >0.082949</td>\n",
       "                        <td id=\"T_e9f2f0fe_7b83_11ec_aace_f218987ff6derow14_col10\" class=\"data row14 col10\" >0.813637</td>\n",
       "                        <td id=\"T_e9f2f0fe_7b83_11ec_aace_f218987ff6derow14_col11\" class=\"data row14 col11\" >0.823285</td>\n",
       "                        <td id=\"T_e9f2f0fe_7b83_11ec_aace_f218987ff6derow14_col12\" class=\"data row14 col12\" >0.128946</td>\n",
       "                        <td id=\"T_e9f2f0fe_7b83_11ec_aace_f218987ff6derow14_col13\" class=\"data row14 col13\" >0.154166</td>\n",
       "                        <td id=\"T_e9f2f0fe_7b83_11ec_aace_f218987ff6derow14_col14\" class=\"data row14 col14\" >1.000000</td>\n",
       "                        <td id=\"T_e9f2f0fe_7b83_11ec_aace_f218987ff6derow14_col15\" class=\"data row14 col15\" >0.980645</td>\n",
       "                        <td id=\"T_e9f2f0fe_7b83_11ec_aace_f218987ff6derow14_col16\" class=\"data row14 col16\" >0.300282</td>\n",
       "                        <td id=\"T_e9f2f0fe_7b83_11ec_aace_f218987ff6derow14_col17\" class=\"data row14 col17\" >0.348796</td>\n",
       "                        <td id=\"T_e9f2f0fe_7b83_11ec_aace_f218987ff6derow14_col18\" class=\"data row14 col18\" >0.600631</td>\n",
       "                        <td id=\"T_e9f2f0fe_7b83_11ec_aace_f218987ff6derow14_col19\" class=\"data row14 col19\" >0.554395</td>\n",
       "                        <td id=\"T_e9f2f0fe_7b83_11ec_aace_f218987ff6derow14_col20\" class=\"data row14 col20\" >0.601359</td>\n",
       "                        <td id=\"T_e9f2f0fe_7b83_11ec_aace_f218987ff6derow14_col21\" class=\"data row14 col21\" >0.567774</td>\n",
       "                        <td id=\"T_e9f2f0fe_7b83_11ec_aace_f218987ff6derow14_col22\" class=\"data row14 col22\" >0.310342</td>\n",
       "                        <td id=\"T_e9f2f0fe_7b83_11ec_aace_f218987ff6derow14_col23\" class=\"data row14 col23\" >0.777252</td>\n",
       "                        <td id=\"T_e9f2f0fe_7b83_11ec_aace_f218987ff6derow14_col24\" class=\"data row14 col24\" >0.498454</td>\n",
       "                        <td id=\"T_e9f2f0fe_7b83_11ec_aace_f218987ff6derow14_col25\" class=\"data row14 col25\" >0.887229</td>\n",
       "                        <td id=\"T_e9f2f0fe_7b83_11ec_aace_f218987ff6derow14_col26\" class=\"data row14 col26\" >-0.026757</td>\n",
       "                        <td id=\"T_e9f2f0fe_7b83_11ec_aace_f218987ff6derow14_col27\" class=\"data row14 col27\" >0.513433</td>\n",
       "            </tr>\n",
       "            <tr>\n",
       "                        <th id=\"T_e9f2f0fe_7b83_11ec_aace_f218987ff6delevel0_row15\" class=\"row_heading level0 row15\" >Free_Throws_attemps_Per_Game</th>\n",
       "                        <td id=\"T_e9f2f0fe_7b83_11ec_aace_f218987ff6derow15_col0\" class=\"data row15 col0\" >-0.004865</td>\n",
       "                        <td id=\"T_e9f2f0fe_7b83_11ec_aace_f218987ff6derow15_col1\" class=\"data row15 col1\" >0.404241</td>\n",
       "                        <td id=\"T_e9f2f0fe_7b83_11ec_aace_f218987ff6derow15_col2\" class=\"data row15 col2\" >0.607121</td>\n",
       "                        <td id=\"T_e9f2f0fe_7b83_11ec_aace_f218987ff6derow15_col3\" class=\"data row15 col3\" >0.729869</td>\n",
       "                        <td id=\"T_e9f2f0fe_7b83_11ec_aace_f218987ff6derow15_col4\" class=\"data row15 col4\" >0.833585</td>\n",
       "                        <td id=\"T_e9f2f0fe_7b83_11ec_aace_f218987ff6derow15_col5\" class=\"data row15 col5\" >0.811664</td>\n",
       "                        <td id=\"T_e9f2f0fe_7b83_11ec_aace_f218987ff6derow15_col6\" class=\"data row15 col6\" >0.226768</td>\n",
       "                        <td id=\"T_e9f2f0fe_7b83_11ec_aace_f218987ff6derow15_col7\" class=\"data row15 col7\" >0.335304</td>\n",
       "                        <td id=\"T_e9f2f0fe_7b83_11ec_aace_f218987ff6derow15_col8\" class=\"data row15 col8\" >0.352009</td>\n",
       "                        <td id=\"T_e9f2f0fe_7b83_11ec_aace_f218987ff6derow15_col9\" class=\"data row15 col9\" >0.036639</td>\n",
       "                        <td id=\"T_e9f2f0fe_7b83_11ec_aace_f218987ff6derow15_col10\" class=\"data row15 col10\" >0.837478</td>\n",
       "                        <td id=\"T_e9f2f0fe_7b83_11ec_aace_f218987ff6derow15_col11\" class=\"data row15 col11\" >0.838693</td>\n",
       "                        <td id=\"T_e9f2f0fe_7b83_11ec_aace_f218987ff6derow15_col12\" class=\"data row15 col12\" >0.153846</td>\n",
       "                        <td id=\"T_e9f2f0fe_7b83_11ec_aace_f218987ff6derow15_col13\" class=\"data row15 col13\" >0.167263</td>\n",
       "                        <td id=\"T_e9f2f0fe_7b83_11ec_aace_f218987ff6derow15_col14\" class=\"data row15 col14\" >0.980645</td>\n",
       "                        <td id=\"T_e9f2f0fe_7b83_11ec_aace_f218987ff6derow15_col15\" class=\"data row15 col15\" >1.000000</td>\n",
       "                        <td id=\"T_e9f2f0fe_7b83_11ec_aace_f218987ff6derow15_col16\" class=\"data row15 col16\" >0.175315</td>\n",
       "                        <td id=\"T_e9f2f0fe_7b83_11ec_aace_f218987ff6derow15_col17\" class=\"data row15 col17\" >0.435395</td>\n",
       "                        <td id=\"T_e9f2f0fe_7b83_11ec_aace_f218987ff6derow15_col18\" class=\"data row15 col18\" >0.654678</td>\n",
       "                        <td id=\"T_e9f2f0fe_7b83_11ec_aace_f218987ff6derow15_col19\" class=\"data row15 col19\" >0.622181</td>\n",
       "                        <td id=\"T_e9f2f0fe_7b83_11ec_aace_f218987ff6derow15_col20\" class=\"data row15 col20\" >0.573368</td>\n",
       "                        <td id=\"T_e9f2f0fe_7b83_11ec_aace_f218987ff6derow15_col21\" class=\"data row15 col21\" >0.569337</td>\n",
       "                        <td id=\"T_e9f2f0fe_7b83_11ec_aace_f218987ff6derow15_col22\" class=\"data row15 col22\" >0.380977</td>\n",
       "                        <td id=\"T_e9f2f0fe_7b83_11ec_aace_f218987ff6derow15_col23\" class=\"data row15 col23\" >0.781767</td>\n",
       "                        <td id=\"T_e9f2f0fe_7b83_11ec_aace_f218987ff6derow15_col24\" class=\"data row15 col24\" >0.536784</td>\n",
       "                        <td id=\"T_e9f2f0fe_7b83_11ec_aace_f218987ff6derow15_col25\" class=\"data row15 col25\" >0.870691</td>\n",
       "                        <td id=\"T_e9f2f0fe_7b83_11ec_aace_f218987ff6derow15_col26\" class=\"data row15 col26\" >-0.039487</td>\n",
       "                        <td id=\"T_e9f2f0fe_7b83_11ec_aace_f218987ff6derow15_col27\" class=\"data row15 col27\" >0.505484</td>\n",
       "            </tr>\n",
       "            <tr>\n",
       "                        <th id=\"T_e9f2f0fe_7b83_11ec_aace_f218987ff6delevel0_row16\" class=\"row_heading level0 row16\" >Free_Throws_Percentage</th>\n",
       "                        <td id=\"T_e9f2f0fe_7b83_11ec_aace_f218987ff6derow16_col0\" class=\"data row16 col0\" >0.091334</td>\n",
       "                        <td id=\"T_e9f2f0fe_7b83_11ec_aace_f218987ff6derow16_col1\" class=\"data row16 col1\" >0.183980</td>\n",
       "                        <td id=\"T_e9f2f0fe_7b83_11ec_aace_f218987ff6derow16_col2\" class=\"data row16 col2\" >0.154955</td>\n",
       "                        <td id=\"T_e9f2f0fe_7b83_11ec_aace_f218987ff6derow16_col3\" class=\"data row16 col3\" >0.272004</td>\n",
       "                        <td id=\"T_e9f2f0fe_7b83_11ec_aace_f218987ff6derow16_col4\" class=\"data row16 col4\" >0.273738</td>\n",
       "                        <td id=\"T_e9f2f0fe_7b83_11ec_aace_f218987ff6derow16_col5\" class=\"data row16 col5\" >0.313132</td>\n",
       "                        <td id=\"T_e9f2f0fe_7b83_11ec_aace_f218987ff6derow16_col6\" class=\"data row16 col6\" >-0.073415</td>\n",
       "                        <td id=\"T_e9f2f0fe_7b83_11ec_aace_f218987ff6derow16_col7\" class=\"data row16 col7\" >0.374184</td>\n",
       "                        <td id=\"T_e9f2f0fe_7b83_11ec_aace_f218987ff6derow16_col8\" class=\"data row16 col8\" >0.374743</td>\n",
       "                        <td id=\"T_e9f2f0fe_7b83_11ec_aace_f218987ff6derow16_col9\" class=\"data row16 col9\" >0.247517</td>\n",
       "                        <td id=\"T_e9f2f0fe_7b83_11ec_aace_f218987ff6derow16_col10\" class=\"data row16 col10\" >0.162594</td>\n",
       "                        <td id=\"T_e9f2f0fe_7b83_11ec_aace_f218987ff6derow16_col11\" class=\"data row16 col11\" >0.186474</td>\n",
       "                        <td id=\"T_e9f2f0fe_7b83_11ec_aace_f218987ff6derow16_col12\" class=\"data row16 col12\" >-0.023693</td>\n",
       "                        <td id=\"T_e9f2f0fe_7b83_11ec_aace_f218987ff6derow16_col13\" class=\"data row16 col13\" >0.070736</td>\n",
       "                        <td id=\"T_e9f2f0fe_7b83_11ec_aace_f218987ff6derow16_col14\" class=\"data row16 col14\" >0.300282</td>\n",
       "                        <td id=\"T_e9f2f0fe_7b83_11ec_aace_f218987ff6derow16_col15\" class=\"data row16 col15\" >0.175315</td>\n",
       "                        <td id=\"T_e9f2f0fe_7b83_11ec_aace_f218987ff6derow16_col16\" class=\"data row16 col16\" >1.000000</td>\n",
       "                        <td id=\"T_e9f2f0fe_7b83_11ec_aace_f218987ff6derow16_col17\" class=\"data row16 col17\" >-0.155119</td>\n",
       "                        <td id=\"T_e9f2f0fe_7b83_11ec_aace_f218987ff6derow16_col18\" class=\"data row16 col18\" >0.037593</td>\n",
       "                        <td id=\"T_e9f2f0fe_7b83_11ec_aace_f218987ff6derow16_col19\" class=\"data row16 col19\" >-0.023300</td>\n",
       "                        <td id=\"T_e9f2f0fe_7b83_11ec_aace_f218987ff6derow16_col20\" class=\"data row16 col20\" >0.247446</td>\n",
       "                        <td id=\"T_e9f2f0fe_7b83_11ec_aace_f218987ff6derow16_col21\" class=\"data row16 col21\" >0.180777</td>\n",
       "                        <td id=\"T_e9f2f0fe_7b83_11ec_aace_f218987ff6derow16_col22\" class=\"data row16 col22\" >-0.130308</td>\n",
       "                        <td id=\"T_e9f2f0fe_7b83_11ec_aace_f218987ff6derow16_col23\" class=\"data row16 col23\" >0.200380</td>\n",
       "                        <td id=\"T_e9f2f0fe_7b83_11ec_aace_f218987ff6derow16_col24\" class=\"data row16 col24\" >0.061312</td>\n",
       "                        <td id=\"T_e9f2f0fe_7b83_11ec_aace_f218987ff6derow16_col25\" class=\"data row16 col25\" >0.316348</td>\n",
       "                        <td id=\"T_e9f2f0fe_7b83_11ec_aace_f218987ff6derow16_col26\" class=\"data row16 col26\" >0.082521</td>\n",
       "                        <td id=\"T_e9f2f0fe_7b83_11ec_aace_f218987ff6derow16_col27\" class=\"data row16 col27\" >0.093284</td>\n",
       "            </tr>\n",
       "            <tr>\n",
       "                        <th id=\"T_e9f2f0fe_7b83_11ec_aace_f218987ff6delevel0_row17\" class=\"row_heading level0 row17\" >Offensive_Rebounds_Per_Game</th>\n",
       "                        <td id=\"T_e9f2f0fe_7b83_11ec_aace_f218987ff6derow17_col0\" class=\"data row17 col0\" >-0.024895</td>\n",
       "                        <td id=\"T_e9f2f0fe_7b83_11ec_aace_f218987ff6derow17_col1\" class=\"data row17 col1\" >0.311076</td>\n",
       "                        <td id=\"T_e9f2f0fe_7b83_11ec_aace_f218987ff6derow17_col2\" class=\"data row17 col2\" >0.413865</td>\n",
       "                        <td id=\"T_e9f2f0fe_7b83_11ec_aace_f218987ff6derow17_col3\" class=\"data row17 col3\" >0.418266</td>\n",
       "                        <td id=\"T_e9f2f0fe_7b83_11ec_aace_f218987ff6derow17_col4\" class=\"data row17 col4\" >0.418544</td>\n",
       "                        <td id=\"T_e9f2f0fe_7b83_11ec_aace_f218987ff6derow17_col5\" class=\"data row17 col5\" >0.313273</td>\n",
       "                        <td id=\"T_e9f2f0fe_7b83_11ec_aace_f218987ff6derow17_col6\" class=\"data row17 col6\" >0.412521</td>\n",
       "                        <td id=\"T_e9f2f0fe_7b83_11ec_aace_f218987ff6derow17_col7\" class=\"data row17 col7\" >-0.204624</td>\n",
       "                        <td id=\"T_e9f2f0fe_7b83_11ec_aace_f218987ff6derow17_col8\" class=\"data row17 col8\" >-0.218485</td>\n",
       "                        <td id=\"T_e9f2f0fe_7b83_11ec_aace_f218987ff6derow17_col9\" class=\"data row17 col9\" >-0.242039</td>\n",
       "                        <td id=\"T_e9f2f0fe_7b83_11ec_aace_f218987ff6derow17_col10\" class=\"data row17 col10\" >0.574428</td>\n",
       "                        <td id=\"T_e9f2f0fe_7b83_11ec_aace_f218987ff6derow17_col11\" class=\"data row17 col11\" >0.520368</td>\n",
       "                        <td id=\"T_e9f2f0fe_7b83_11ec_aace_f218987ff6derow17_col12\" class=\"data row17 col12\" >0.274087</td>\n",
       "                        <td id=\"T_e9f2f0fe_7b83_11ec_aace_f218987ff6derow17_col13\" class=\"data row17 col13\" >0.226936</td>\n",
       "                        <td id=\"T_e9f2f0fe_7b83_11ec_aace_f218987ff6derow17_col14\" class=\"data row17 col14\" >0.348796</td>\n",
       "                        <td id=\"T_e9f2f0fe_7b83_11ec_aace_f218987ff6derow17_col15\" class=\"data row17 col15\" >0.435395</td>\n",
       "                        <td id=\"T_e9f2f0fe_7b83_11ec_aace_f218987ff6derow17_col16\" class=\"data row17 col16\" >-0.155119</td>\n",
       "                        <td id=\"T_e9f2f0fe_7b83_11ec_aace_f218987ff6derow17_col17\" class=\"data row17 col17\" >1.000000</td>\n",
       "                        <td id=\"T_e9f2f0fe_7b83_11ec_aace_f218987ff6derow17_col18\" class=\"data row17 col18\" >0.744850</td>\n",
       "                        <td id=\"T_e9f2f0fe_7b83_11ec_aace_f218987ff6derow17_col19\" class=\"data row17 col19\" >0.871187</td>\n",
       "                        <td id=\"T_e9f2f0fe_7b83_11ec_aace_f218987ff6derow17_col20\" class=\"data row17 col20\" >0.009446</td>\n",
       "                        <td id=\"T_e9f2f0fe_7b83_11ec_aace_f218987ff6derow17_col21\" class=\"data row17 col21\" >0.223307</td>\n",
       "                        <td id=\"T_e9f2f0fe_7b83_11ec_aace_f218987ff6derow17_col22\" class=\"data row17 col22\" >0.673811</td>\n",
       "                        <td id=\"T_e9f2f0fe_7b83_11ec_aace_f218987ff6derow17_col23\" class=\"data row17 col23\" >0.300229</td>\n",
       "                        <td id=\"T_e9f2f0fe_7b83_11ec_aace_f218987ff6derow17_col24\" class=\"data row17 col24\" >0.579639</td>\n",
       "                        <td id=\"T_e9f2f0fe_7b83_11ec_aace_f218987ff6derow17_col25\" class=\"data row17 col25\" >0.357088</td>\n",
       "                        <td id=\"T_e9f2f0fe_7b83_11ec_aace_f218987ff6derow17_col26\" class=\"data row17 col26\" >-0.058724</td>\n",
       "                        <td id=\"T_e9f2f0fe_7b83_11ec_aace_f218987ff6derow17_col27\" class=\"data row17 col27\" >0.164299</td>\n",
       "            </tr>\n",
       "            <tr>\n",
       "                        <th id=\"T_e9f2f0fe_7b83_11ec_aace_f218987ff6delevel0_row18\" class=\"row_heading level0 row18\" >Defensive_Rebounds_Per_Game</th>\n",
       "                        <td id=\"T_e9f2f0fe_7b83_11ec_aace_f218987ff6derow18_col0\" class=\"data row18 col0\" >0.075144</td>\n",
       "                        <td id=\"T_e9f2f0fe_7b83_11ec_aace_f218987ff6derow18_col1\" class=\"data row18 col1\" >0.462977</td>\n",
       "                        <td id=\"T_e9f2f0fe_7b83_11ec_aace_f218987ff6derow18_col2\" class=\"data row18 col2\" >0.639766</td>\n",
       "                        <td id=\"T_e9f2f0fe_7b83_11ec_aace_f218987ff6derow18_col3\" class=\"data row18 col3\" >0.724358</td>\n",
       "                        <td id=\"T_e9f2f0fe_7b83_11ec_aace_f218987ff6derow18_col4\" class=\"data row18 col4\" >0.714918</td>\n",
       "                        <td id=\"T_e9f2f0fe_7b83_11ec_aace_f218987ff6derow18_col5\" class=\"data row18 col5\" >0.650463</td>\n",
       "                        <td id=\"T_e9f2f0fe_7b83_11ec_aace_f218987ff6derow18_col6\" class=\"data row18 col6\" >0.338486</td>\n",
       "                        <td id=\"T_e9f2f0fe_7b83_11ec_aace_f218987ff6derow18_col7\" class=\"data row18 col7\" >0.206226</td>\n",
       "                        <td id=\"T_e9f2f0fe_7b83_11ec_aace_f218987ff6derow18_col8\" class=\"data row18 col8\" >0.203628</td>\n",
       "                        <td id=\"T_e9f2f0fe_7b83_11ec_aace_f218987ff6derow18_col9\" class=\"data row18 col9\" >-0.014967</td>\n",
       "                        <td id=\"T_e9f2f0fe_7b83_11ec_aace_f218987ff6derow18_col10\" class=\"data row18 col10\" >0.751811</td>\n",
       "                        <td id=\"T_e9f2f0fe_7b83_11ec_aace_f218987ff6derow18_col11\" class=\"data row18 col11\" >0.715739</td>\n",
       "                        <td id=\"T_e9f2f0fe_7b83_11ec_aace_f218987ff6derow18_col12\" class=\"data row18 col12\" >0.254455</td>\n",
       "                        <td id=\"T_e9f2f0fe_7b83_11ec_aace_f218987ff6derow18_col13\" class=\"data row18 col13\" >0.267375</td>\n",
       "                        <td id=\"T_e9f2f0fe_7b83_11ec_aace_f218987ff6derow18_col14\" class=\"data row18 col14\" >0.600631</td>\n",
       "                        <td id=\"T_e9f2f0fe_7b83_11ec_aace_f218987ff6derow18_col15\" class=\"data row18 col15\" >0.654678</td>\n",
       "                        <td id=\"T_e9f2f0fe_7b83_11ec_aace_f218987ff6derow18_col16\" class=\"data row18 col16\" >0.037593</td>\n",
       "                        <td id=\"T_e9f2f0fe_7b83_11ec_aace_f218987ff6derow18_col17\" class=\"data row18 col17\" >0.744850</td>\n",
       "                        <td id=\"T_e9f2f0fe_7b83_11ec_aace_f218987ff6derow18_col18\" class=\"data row18 col18\" >1.000000</td>\n",
       "                        <td id=\"T_e9f2f0fe_7b83_11ec_aace_f218987ff6derow18_col19\" class=\"data row18 col19\" >0.976212</td>\n",
       "                        <td id=\"T_e9f2f0fe_7b83_11ec_aace_f218987ff6derow18_col20\" class=\"data row18 col20\" >0.347429</td>\n",
       "                        <td id=\"T_e9f2f0fe_7b83_11ec_aace_f218987ff6derow18_col21\" class=\"data row18 col21\" >0.485826</td>\n",
       "                        <td id=\"T_e9f2f0fe_7b83_11ec_aace_f218987ff6derow18_col22\" class=\"data row18 col22\" >0.648903</td>\n",
       "                        <td id=\"T_e9f2f0fe_7b83_11ec_aace_f218987ff6derow18_col23\" class=\"data row18 col23\" >0.595460</td>\n",
       "                        <td id=\"T_e9f2f0fe_7b83_11ec_aace_f218987ff6derow18_col24\" class=\"data row18 col24\" >0.685132</td>\n",
       "                        <td id=\"T_e9f2f0fe_7b83_11ec_aace_f218987ff6derow18_col25\" class=\"data row18 col25\" >0.682282</td>\n",
       "                        <td id=\"T_e9f2f0fe_7b83_11ec_aace_f218987ff6derow18_col26\" class=\"data row18 col26\" >0.055049</td>\n",
       "                        <td id=\"T_e9f2f0fe_7b83_11ec_aace_f218987ff6derow18_col27\" class=\"data row18 col27\" >0.350134</td>\n",
       "            </tr>\n",
       "            <tr>\n",
       "                        <th id=\"T_e9f2f0fe_7b83_11ec_aace_f218987ff6delevel0_row19\" class=\"row_heading level0 row19\" >Total_Rebounds_Per_Game</th>\n",
       "                        <td id=\"T_e9f2f0fe_7b83_11ec_aace_f218987ff6derow19_col0\" class=\"data row19 col0\" >0.047103</td>\n",
       "                        <td id=\"T_e9f2f0fe_7b83_11ec_aace_f218987ff6derow19_col1\" class=\"data row19 col1\" >0.441025</td>\n",
       "                        <td id=\"T_e9f2f0fe_7b83_11ec_aace_f218987ff6derow19_col2\" class=\"data row19 col2\" >0.604236</td>\n",
       "                        <td id=\"T_e9f2f0fe_7b83_11ec_aace_f218987ff6derow19_col3\" class=\"data row19 col3\" >0.667837</td>\n",
       "                        <td id=\"T_e9f2f0fe_7b83_11ec_aace_f218987ff6derow19_col4\" class=\"data row19 col4\" >0.660940</td>\n",
       "                        <td id=\"T_e9f2f0fe_7b83_11ec_aace_f218987ff6derow19_col5\" class=\"data row19 col5\" >0.579485</td>\n",
       "                        <td id=\"T_e9f2f0fe_7b83_11ec_aace_f218987ff6derow19_col6\" class=\"data row19 col6\" >0.382535</td>\n",
       "                        <td id=\"T_e9f2f0fe_7b83_11ec_aace_f218987ff6derow19_col7\" class=\"data row19 col7\" >0.085155</td>\n",
       "                        <td id=\"T_e9f2f0fe_7b83_11ec_aace_f218987ff6derow19_col8\" class=\"data row19 col8\" >0.078772</td>\n",
       "                        <td id=\"T_e9f2f0fe_7b83_11ec_aace_f218987ff6derow19_col9\" class=\"data row19 col9\" >-0.087990</td>\n",
       "                        <td id=\"T_e9f2f0fe_7b83_11ec_aace_f218987ff6derow19_col10\" class=\"data row19 col10\" >0.738581</td>\n",
       "                        <td id=\"T_e9f2f0fe_7b83_11ec_aace_f218987ff6derow19_col11\" class=\"data row19 col11\" >0.694586</td>\n",
       "                        <td id=\"T_e9f2f0fe_7b83_11ec_aace_f218987ff6derow19_col12\" class=\"data row19 col12\" >0.275999</td>\n",
       "                        <td id=\"T_e9f2f0fe_7b83_11ec_aace_f218987ff6derow19_col13\" class=\"data row19 col13\" >0.270101</td>\n",
       "                        <td id=\"T_e9f2f0fe_7b83_11ec_aace_f218987ff6derow19_col14\" class=\"data row19 col14\" >0.554395</td>\n",
       "                        <td id=\"T_e9f2f0fe_7b83_11ec_aace_f218987ff6derow19_col15\" class=\"data row19 col15\" >0.622181</td>\n",
       "                        <td id=\"T_e9f2f0fe_7b83_11ec_aace_f218987ff6derow19_col16\" class=\"data row19 col16\" >-0.023300</td>\n",
       "                        <td id=\"T_e9f2f0fe_7b83_11ec_aace_f218987ff6derow19_col17\" class=\"data row19 col17\" >0.871187</td>\n",
       "                        <td id=\"T_e9f2f0fe_7b83_11ec_aace_f218987ff6derow19_col18\" class=\"data row19 col18\" >0.976212</td>\n",
       "                        <td id=\"T_e9f2f0fe_7b83_11ec_aace_f218987ff6derow19_col19\" class=\"data row19 col19\" >1.000000</td>\n",
       "                        <td id=\"T_e9f2f0fe_7b83_11ec_aace_f218987ff6derow19_col20\" class=\"data row19 col20\" >0.258413</td>\n",
       "                        <td id=\"T_e9f2f0fe_7b83_11ec_aace_f218987ff6derow19_col21\" class=\"data row19 col21\" >0.429425</td>\n",
       "                        <td id=\"T_e9f2f0fe_7b83_11ec_aace_f218987ff6derow19_col22\" class=\"data row19 col22\" >0.695401</td>\n",
       "                        <td id=\"T_e9f2f0fe_7b83_11ec_aace_f218987ff6derow19_col23\" class=\"data row19 col23\" >0.534903</td>\n",
       "                        <td id=\"T_e9f2f0fe_7b83_11ec_aace_f218987ff6derow19_col24\" class=\"data row19 col24\" >0.691349</td>\n",
       "                        <td id=\"T_e9f2f0fe_7b83_11ec_aace_f218987ff6derow19_col25\" class=\"data row19 col25\" >0.617047</td>\n",
       "                        <td id=\"T_e9f2f0fe_7b83_11ec_aace_f218987ff6derow19_col26\" class=\"data row19 col26\" >0.021368</td>\n",
       "                        <td id=\"T_e9f2f0fe_7b83_11ec_aace_f218987ff6derow19_col27\" class=\"data row19 col27\" >0.310273</td>\n",
       "            </tr>\n",
       "            <tr>\n",
       "                        <th id=\"T_e9f2f0fe_7b83_11ec_aace_f218987ff6delevel0_row20\" class=\"row_heading level0 row20\" >Assists_Per_Game</th>\n",
       "                        <td id=\"T_e9f2f0fe_7b83_11ec_aace_f218987ff6derow20_col0\" class=\"data row20 col0\" >0.109626</td>\n",
       "                        <td id=\"T_e9f2f0fe_7b83_11ec_aace_f218987ff6derow20_col1\" class=\"data row20 col1\" >0.349116</td>\n",
       "                        <td id=\"T_e9f2f0fe_7b83_11ec_aace_f218987ff6derow20_col2\" class=\"data row20 col2\" >0.511414</td>\n",
       "                        <td id=\"T_e9f2f0fe_7b83_11ec_aace_f218987ff6derow20_col3\" class=\"data row20 col3\" >0.665487</td>\n",
       "                        <td id=\"T_e9f2f0fe_7b83_11ec_aace_f218987ff6derow20_col4\" class=\"data row20 col4\" >0.643607</td>\n",
       "                        <td id=\"T_e9f2f0fe_7b83_11ec_aace_f218987ff6derow20_col5\" class=\"data row20 col5\" >0.683514</td>\n",
       "                        <td id=\"T_e9f2f0fe_7b83_11ec_aace_f218987ff6derow20_col6\" class=\"data row20 col6\" >0.034260</td>\n",
       "                        <td id=\"T_e9f2f0fe_7b83_11ec_aace_f218987ff6derow20_col7\" class=\"data row20 col7\" >0.478822</td>\n",
       "                        <td id=\"T_e9f2f0fe_7b83_11ec_aace_f218987ff6derow20_col8\" class=\"data row20 col8\" >0.502869</td>\n",
       "                        <td id=\"T_e9f2f0fe_7b83_11ec_aace_f218987ff6derow20_col9\" class=\"data row20 col9\" >0.179627</td>\n",
       "                        <td id=\"T_e9f2f0fe_7b83_11ec_aace_f218987ff6derow20_col10\" class=\"data row20 col10\" >0.555808</td>\n",
       "                        <td id=\"T_e9f2f0fe_7b83_11ec_aace_f218987ff6derow20_col11\" class=\"data row20 col11\" >0.591593</td>\n",
       "                        <td id=\"T_e9f2f0fe_7b83_11ec_aace_f218987ff6derow20_col12\" class=\"data row20 col12\" >0.020786</td>\n",
       "                        <td id=\"T_e9f2f0fe_7b83_11ec_aace_f218987ff6derow20_col13\" class=\"data row20 col13\" >0.079725</td>\n",
       "                        <td id=\"T_e9f2f0fe_7b83_11ec_aace_f218987ff6derow20_col14\" class=\"data row20 col14\" >0.601359</td>\n",
       "                        <td id=\"T_e9f2f0fe_7b83_11ec_aace_f218987ff6derow20_col15\" class=\"data row20 col15\" >0.573368</td>\n",
       "                        <td id=\"T_e9f2f0fe_7b83_11ec_aace_f218987ff6derow20_col16\" class=\"data row20 col16\" >0.247446</td>\n",
       "                        <td id=\"T_e9f2f0fe_7b83_11ec_aace_f218987ff6derow20_col17\" class=\"data row20 col17\" >0.009446</td>\n",
       "                        <td id=\"T_e9f2f0fe_7b83_11ec_aace_f218987ff6derow20_col18\" class=\"data row20 col18\" >0.347429</td>\n",
       "                        <td id=\"T_e9f2f0fe_7b83_11ec_aace_f218987ff6derow20_col19\" class=\"data row20 col19\" >0.258413</td>\n",
       "                        <td id=\"T_e9f2f0fe_7b83_11ec_aace_f218987ff6derow20_col20\" class=\"data row20 col20\" >1.000000</td>\n",
       "                        <td id=\"T_e9f2f0fe_7b83_11ec_aace_f218987ff6derow20_col21\" class=\"data row20 col21\" >0.660169</td>\n",
       "                        <td id=\"T_e9f2f0fe_7b83_11ec_aace_f218987ff6derow20_col22\" class=\"data row20 col22\" >0.020452</td>\n",
       "                        <td id=\"T_e9f2f0fe_7b83_11ec_aace_f218987ff6derow20_col23\" class=\"data row20 col23\" >0.813126</td>\n",
       "                        <td id=\"T_e9f2f0fe_7b83_11ec_aace_f218987ff6derow20_col24\" class=\"data row20 col24\" >0.350133</td>\n",
       "                        <td id=\"T_e9f2f0fe_7b83_11ec_aace_f218987ff6derow20_col25\" class=\"data row20 col25\" >0.665333</td>\n",
       "                        <td id=\"T_e9f2f0fe_7b83_11ec_aace_f218987ff6derow20_col26\" class=\"data row20 col26\" >0.033628</td>\n",
       "                        <td id=\"T_e9f2f0fe_7b83_11ec_aace_f218987ff6derow20_col27\" class=\"data row20 col27\" >0.380916</td>\n",
       "            </tr>\n",
       "            <tr>\n",
       "                        <th id=\"T_e9f2f0fe_7b83_11ec_aace_f218987ff6delevel0_row21\" class=\"row_heading level0 row21\" >Steals_Per_Game</th>\n",
       "                        <td id=\"T_e9f2f0fe_7b83_11ec_aace_f218987ff6derow21_col0\" class=\"data row21 col0\" >0.043473</td>\n",
       "                        <td id=\"T_e9f2f0fe_7b83_11ec_aace_f218987ff6derow21_col1\" class=\"data row21 col1\" >0.436830</td>\n",
       "                        <td id=\"T_e9f2f0fe_7b83_11ec_aace_f218987ff6derow21_col2\" class=\"data row21 col2\" >0.581633</td>\n",
       "                        <td id=\"T_e9f2f0fe_7b83_11ec_aace_f218987ff6derow21_col3\" class=\"data row21 col3\" >0.748096</td>\n",
       "                        <td id=\"T_e9f2f0fe_7b83_11ec_aace_f218987ff6derow21_col4\" class=\"data row21 col4\" >0.656716</td>\n",
       "                        <td id=\"T_e9f2f0fe_7b83_11ec_aace_f218987ff6derow21_col5\" class=\"data row21 col5\" >0.677134</td>\n",
       "                        <td id=\"T_e9f2f0fe_7b83_11ec_aace_f218987ff6derow21_col6\" class=\"data row21 col6\" >0.116130</td>\n",
       "                        <td id=\"T_e9f2f0fe_7b83_11ec_aace_f218987ff6derow21_col7\" class=\"data row21 col7\" >0.448089</td>\n",
       "                        <td id=\"T_e9f2f0fe_7b83_11ec_aace_f218987ff6derow21_col8\" class=\"data row21 col8\" >0.468210</td>\n",
       "                        <td id=\"T_e9f2f0fe_7b83_11ec_aace_f218987ff6derow21_col9\" class=\"data row21 col9\" >0.133992</td>\n",
       "                        <td id=\"T_e9f2f0fe_7b83_11ec_aace_f218987ff6derow21_col10\" class=\"data row21 col10\" >0.583674</td>\n",
       "                        <td id=\"T_e9f2f0fe_7b83_11ec_aace_f218987ff6derow21_col11\" class=\"data row21 col11\" >0.602626</td>\n",
       "                        <td id=\"T_e9f2f0fe_7b83_11ec_aace_f218987ff6derow21_col12\" class=\"data row21 col12\" >0.100357</td>\n",
       "                        <td id=\"T_e9f2f0fe_7b83_11ec_aace_f218987ff6derow21_col13\" class=\"data row21 col13\" >0.148458</td>\n",
       "                        <td id=\"T_e9f2f0fe_7b83_11ec_aace_f218987ff6derow21_col14\" class=\"data row21 col14\" >0.567774</td>\n",
       "                        <td id=\"T_e9f2f0fe_7b83_11ec_aace_f218987ff6derow21_col15\" class=\"data row21 col15\" >0.569337</td>\n",
       "                        <td id=\"T_e9f2f0fe_7b83_11ec_aace_f218987ff6derow21_col16\" class=\"data row21 col16\" >0.180777</td>\n",
       "                        <td id=\"T_e9f2f0fe_7b83_11ec_aace_f218987ff6derow21_col17\" class=\"data row21 col17\" >0.223307</td>\n",
       "                        <td id=\"T_e9f2f0fe_7b83_11ec_aace_f218987ff6derow21_col18\" class=\"data row21 col18\" >0.485826</td>\n",
       "                        <td id=\"T_e9f2f0fe_7b83_11ec_aace_f218987ff6derow21_col19\" class=\"data row21 col19\" >0.429425</td>\n",
       "                        <td id=\"T_e9f2f0fe_7b83_11ec_aace_f218987ff6derow21_col20\" class=\"data row21 col20\" >0.660169</td>\n",
       "                        <td id=\"T_e9f2f0fe_7b83_11ec_aace_f218987ff6derow21_col21\" class=\"data row21 col21\" >1.000000</td>\n",
       "                        <td id=\"T_e9f2f0fe_7b83_11ec_aace_f218987ff6derow21_col22\" class=\"data row21 col22\" >0.217204</td>\n",
       "                        <td id=\"T_e9f2f0fe_7b83_11ec_aace_f218987ff6derow21_col23\" class=\"data row21 col23\" >0.668569</td>\n",
       "                        <td id=\"T_e9f2f0fe_7b83_11ec_aace_f218987ff6derow21_col24\" class=\"data row21 col24\" >0.527408</td>\n",
       "                        <td id=\"T_e9f2f0fe_7b83_11ec_aace_f218987ff6derow21_col25\" class=\"data row21 col25\" >0.663326</td>\n",
       "                        <td id=\"T_e9f2f0fe_7b83_11ec_aace_f218987ff6derow21_col26\" class=\"data row21 col26\" >0.000156</td>\n",
       "                        <td id=\"T_e9f2f0fe_7b83_11ec_aace_f218987ff6derow21_col27\" class=\"data row21 col27\" >0.293673</td>\n",
       "            </tr>\n",
       "            <tr>\n",
       "                        <th id=\"T_e9f2f0fe_7b83_11ec_aace_f218987ff6delevel0_row22\" class=\"row_heading level0 row22\" >Blocks_Per_Game</th>\n",
       "                        <td id=\"T_e9f2f0fe_7b83_11ec_aace_f218987ff6derow22_col0\" class=\"data row22 col0\" >-0.012884</td>\n",
       "                        <td id=\"T_e9f2f0fe_7b83_11ec_aace_f218987ff6derow22_col1\" class=\"data row22 col1\" >0.283710</td>\n",
       "                        <td id=\"T_e9f2f0fe_7b83_11ec_aace_f218987ff6derow22_col2\" class=\"data row22 col2\" >0.386652</td>\n",
       "                        <td id=\"T_e9f2f0fe_7b83_11ec_aace_f218987ff6derow22_col3\" class=\"data row22 col3\" >0.383962</td>\n",
       "                        <td id=\"T_e9f2f0fe_7b83_11ec_aace_f218987ff6derow22_col4\" class=\"data row22 col4\" >0.379729</td>\n",
       "                        <td id=\"T_e9f2f0fe_7b83_11ec_aace_f218987ff6derow22_col5\" class=\"data row22 col5\" >0.288761</td>\n",
       "                        <td id=\"T_e9f2f0fe_7b83_11ec_aace_f218987ff6derow22_col6\" class=\"data row22 col6\" >0.365796</td>\n",
       "                        <td id=\"T_e9f2f0fe_7b83_11ec_aace_f218987ff6derow22_col7\" class=\"data row22 col7\" >-0.094273</td>\n",
       "                        <td id=\"T_e9f2f0fe_7b83_11ec_aace_f218987ff6derow22_col8\" class=\"data row22 col8\" >-0.105695</td>\n",
       "                        <td id=\"T_e9f2f0fe_7b83_11ec_aace_f218987ff6derow22_col9\" class=\"data row22 col9\" >-0.146091</td>\n",
       "                        <td id=\"T_e9f2f0fe_7b83_11ec_aace_f218987ff6derow22_col10\" class=\"data row22 col10\" >0.483107</td>\n",
       "                        <td id=\"T_e9f2f0fe_7b83_11ec_aace_f218987ff6derow22_col11\" class=\"data row22 col11\" >0.426736</td>\n",
       "                        <td id=\"T_e9f2f0fe_7b83_11ec_aace_f218987ff6derow22_col12\" class=\"data row22 col12\" >0.266307</td>\n",
       "                        <td id=\"T_e9f2f0fe_7b83_11ec_aace_f218987ff6derow22_col13\" class=\"data row22 col13\" >0.237653</td>\n",
       "                        <td id=\"T_e9f2f0fe_7b83_11ec_aace_f218987ff6derow22_col14\" class=\"data row22 col14\" >0.310342</td>\n",
       "                        <td id=\"T_e9f2f0fe_7b83_11ec_aace_f218987ff6derow22_col15\" class=\"data row22 col15\" >0.380977</td>\n",
       "                        <td id=\"T_e9f2f0fe_7b83_11ec_aace_f218987ff6derow22_col16\" class=\"data row22 col16\" >-0.130308</td>\n",
       "                        <td id=\"T_e9f2f0fe_7b83_11ec_aace_f218987ff6derow22_col17\" class=\"data row22 col17\" >0.673811</td>\n",
       "                        <td id=\"T_e9f2f0fe_7b83_11ec_aace_f218987ff6derow22_col18\" class=\"data row22 col18\" >0.648903</td>\n",
       "                        <td id=\"T_e9f2f0fe_7b83_11ec_aace_f218987ff6derow22_col19\" class=\"data row22 col19\" >0.695401</td>\n",
       "                        <td id=\"T_e9f2f0fe_7b83_11ec_aace_f218987ff6derow22_col20\" class=\"data row22 col20\" >0.020452</td>\n",
       "                        <td id=\"T_e9f2f0fe_7b83_11ec_aace_f218987ff6derow22_col21\" class=\"data row22 col21\" >0.217204</td>\n",
       "                        <td id=\"T_e9f2f0fe_7b83_11ec_aace_f218987ff6derow22_col22\" class=\"data row22 col22\" >1.000000</td>\n",
       "                        <td id=\"T_e9f2f0fe_7b83_11ec_aace_f218987ff6derow22_col23\" class=\"data row22 col23\" >0.276180</td>\n",
       "                        <td id=\"T_e9f2f0fe_7b83_11ec_aace_f218987ff6derow22_col24\" class=\"data row22 col24\" >0.539480</td>\n",
       "                        <td id=\"T_e9f2f0fe_7b83_11ec_aace_f218987ff6derow22_col25\" class=\"data row22 col25\" >0.334261</td>\n",
       "                        <td id=\"T_e9f2f0fe_7b83_11ec_aace_f218987ff6derow22_col26\" class=\"data row22 col26\" >-0.006928</td>\n",
       "                        <td id=\"T_e9f2f0fe_7b83_11ec_aace_f218987ff6derow22_col27\" class=\"data row22 col27\" >0.178843</td>\n",
       "            </tr>\n",
       "            <tr>\n",
       "                        <th id=\"T_e9f2f0fe_7b83_11ec_aace_f218987ff6delevel0_row23\" class=\"row_heading level0 row23\" >Turnovers_Per_Game</th>\n",
       "                        <td id=\"T_e9f2f0fe_7b83_11ec_aace_f218987ff6derow23_col0\" class=\"data row23 col0\" >0.034845</td>\n",
       "                        <td id=\"T_e9f2f0fe_7b83_11ec_aace_f218987ff6derow23_col1\" class=\"data row23 col1\" >0.417747</td>\n",
       "                        <td id=\"T_e9f2f0fe_7b83_11ec_aace_f218987ff6derow23_col2\" class=\"data row23 col2\" >0.619873</td>\n",
       "                        <td id=\"T_e9f2f0fe_7b83_11ec_aace_f218987ff6derow23_col3\" class=\"data row23 col3\" >0.780273</td>\n",
       "                        <td id=\"T_e9f2f0fe_7b83_11ec_aace_f218987ff6derow23_col4\" class=\"data row23 col4\" >0.812390</td>\n",
       "                        <td id=\"T_e9f2f0fe_7b83_11ec_aace_f218987ff6derow23_col5\" class=\"data row23 col5\" >0.824714</td>\n",
       "                        <td id=\"T_e9f2f0fe_7b83_11ec_aace_f218987ff6derow23_col6\" class=\"data row23 col6\" >0.151558</td>\n",
       "                        <td id=\"T_e9f2f0fe_7b83_11ec_aace_f218987ff6derow23_col7\" class=\"data row23 col7\" >0.430758</td>\n",
       "                        <td id=\"T_e9f2f0fe_7b83_11ec_aace_f218987ff6derow23_col8\" class=\"data row23 col8\" >0.454662</td>\n",
       "                        <td id=\"T_e9f2f0fe_7b83_11ec_aace_f218987ff6derow23_col9\" class=\"data row23 col9\" >0.101464</td>\n",
       "                        <td id=\"T_e9f2f0fe_7b83_11ec_aace_f218987ff6derow23_col10\" class=\"data row23 col10\" >0.773215</td>\n",
       "                        <td id=\"T_e9f2f0fe_7b83_11ec_aace_f218987ff6derow23_col11\" class=\"data row23 col11\" >0.798251</td>\n",
       "                        <td id=\"T_e9f2f0fe_7b83_11ec_aace_f218987ff6derow23_col12\" class=\"data row23 col12\" >0.097362</td>\n",
       "                        <td id=\"T_e9f2f0fe_7b83_11ec_aace_f218987ff6derow23_col13\" class=\"data row23 col13\" >0.134606</td>\n",
       "                        <td id=\"T_e9f2f0fe_7b83_11ec_aace_f218987ff6derow23_col14\" class=\"data row23 col14\" >0.777252</td>\n",
       "                        <td id=\"T_e9f2f0fe_7b83_11ec_aace_f218987ff6derow23_col15\" class=\"data row23 col15\" >0.781767</td>\n",
       "                        <td id=\"T_e9f2f0fe_7b83_11ec_aace_f218987ff6derow23_col16\" class=\"data row23 col16\" >0.200380</td>\n",
       "                        <td id=\"T_e9f2f0fe_7b83_11ec_aace_f218987ff6derow23_col17\" class=\"data row23 col17\" >0.300229</td>\n",
       "                        <td id=\"T_e9f2f0fe_7b83_11ec_aace_f218987ff6derow23_col18\" class=\"data row23 col18\" >0.595460</td>\n",
       "                        <td id=\"T_e9f2f0fe_7b83_11ec_aace_f218987ff6derow23_col19\" class=\"data row23 col19\" >0.534903</td>\n",
       "                        <td id=\"T_e9f2f0fe_7b83_11ec_aace_f218987ff6derow23_col20\" class=\"data row23 col20\" >0.813126</td>\n",
       "                        <td id=\"T_e9f2f0fe_7b83_11ec_aace_f218987ff6derow23_col21\" class=\"data row23 col21\" >0.668569</td>\n",
       "                        <td id=\"T_e9f2f0fe_7b83_11ec_aace_f218987ff6derow23_col22\" class=\"data row23 col22\" >0.276180</td>\n",
       "                        <td id=\"T_e9f2f0fe_7b83_11ec_aace_f218987ff6derow23_col23\" class=\"data row23 col23\" >1.000000</td>\n",
       "                        <td id=\"T_e9f2f0fe_7b83_11ec_aace_f218987ff6derow23_col24\" class=\"data row23 col24\" >0.575979</td>\n",
       "                        <td id=\"T_e9f2f0fe_7b83_11ec_aace_f218987ff6derow23_col25\" class=\"data row23 col25\" >0.821752</td>\n",
       "                        <td id=\"T_e9f2f0fe_7b83_11ec_aace_f218987ff6derow23_col26\" class=\"data row23 col26\" >-0.037140</td>\n",
       "                        <td id=\"T_e9f2f0fe_7b83_11ec_aace_f218987ff6derow23_col27\" class=\"data row23 col27\" >0.417976</td>\n",
       "            </tr>\n",
       "            <tr>\n",
       "                        <th id=\"T_e9f2f0fe_7b83_11ec_aace_f218987ff6delevel0_row24\" class=\"row_heading level0 row24\" >Personal_Fouls_Per_Game</th>\n",
       "                        <td id=\"T_e9f2f0fe_7b83_11ec_aace_f218987ff6derow24_col0\" class=\"data row24 col0\" >0.064401</td>\n",
       "                        <td id=\"T_e9f2f0fe_7b83_11ec_aace_f218987ff6derow24_col1\" class=\"data row24 col1\" >0.483960</td>\n",
       "                        <td id=\"T_e9f2f0fe_7b83_11ec_aace_f218987ff6derow24_col2\" class=\"data row24 col2\" >0.551269</td>\n",
       "                        <td id=\"T_e9f2f0fe_7b83_11ec_aace_f218987ff6derow24_col3\" class=\"data row24 col3\" >0.718612</td>\n",
       "                        <td id=\"T_e9f2f0fe_7b83_11ec_aace_f218987ff6derow24_col4\" class=\"data row24 col4\" >0.614660</td>\n",
       "                        <td id=\"T_e9f2f0fe_7b83_11ec_aace_f218987ff6derow24_col5\" class=\"data row24 col5\" >0.581321</td>\n",
       "                        <td id=\"T_e9f2f0fe_7b83_11ec_aace_f218987ff6derow24_col6\" class=\"data row24 col6\" >0.325068</td>\n",
       "                        <td id=\"T_e9f2f0fe_7b83_11ec_aace_f218987ff6derow24_col7\" class=\"data row24 col7\" >0.249848</td>\n",
       "                        <td id=\"T_e9f2f0fe_7b83_11ec_aace_f218987ff6derow24_col8\" class=\"data row24 col8\" >0.251035</td>\n",
       "                        <td id=\"T_e9f2f0fe_7b83_11ec_aace_f218987ff6derow24_col9\" class=\"data row24 col9\" >0.014534</td>\n",
       "                        <td id=\"T_e9f2f0fe_7b83_11ec_aace_f218987ff6derow24_col10\" class=\"data row24 col10\" >0.616381</td>\n",
       "                        <td id=\"T_e9f2f0fe_7b83_11ec_aace_f218987ff6derow24_col11\" class=\"data row24 col11\" >0.601236</td>\n",
       "                        <td id=\"T_e9f2f0fe_7b83_11ec_aace_f218987ff6derow24_col12\" class=\"data row24 col12\" >0.241359</td>\n",
       "                        <td id=\"T_e9f2f0fe_7b83_11ec_aace_f218987ff6derow24_col13\" class=\"data row24 col13\" >0.276349</td>\n",
       "                        <td id=\"T_e9f2f0fe_7b83_11ec_aace_f218987ff6derow24_col14\" class=\"data row24 col14\" >0.498454</td>\n",
       "                        <td id=\"T_e9f2f0fe_7b83_11ec_aace_f218987ff6derow24_col15\" class=\"data row24 col15\" >0.536784</td>\n",
       "                        <td id=\"T_e9f2f0fe_7b83_11ec_aace_f218987ff6derow24_col16\" class=\"data row24 col16\" >0.061312</td>\n",
       "                        <td id=\"T_e9f2f0fe_7b83_11ec_aace_f218987ff6derow24_col17\" class=\"data row24 col17\" >0.579639</td>\n",
       "                        <td id=\"T_e9f2f0fe_7b83_11ec_aace_f218987ff6derow24_col18\" class=\"data row24 col18\" >0.685132</td>\n",
       "                        <td id=\"T_e9f2f0fe_7b83_11ec_aace_f218987ff6derow24_col19\" class=\"data row24 col19\" >0.691349</td>\n",
       "                        <td id=\"T_e9f2f0fe_7b83_11ec_aace_f218987ff6derow24_col20\" class=\"data row24 col20\" >0.350133</td>\n",
       "                        <td id=\"T_e9f2f0fe_7b83_11ec_aace_f218987ff6derow24_col21\" class=\"data row24 col21\" >0.527408</td>\n",
       "                        <td id=\"T_e9f2f0fe_7b83_11ec_aace_f218987ff6derow24_col22\" class=\"data row24 col22\" >0.539480</td>\n",
       "                        <td id=\"T_e9f2f0fe_7b83_11ec_aace_f218987ff6derow24_col23\" class=\"data row24 col23\" >0.575979</td>\n",
       "                        <td id=\"T_e9f2f0fe_7b83_11ec_aace_f218987ff6derow24_col24\" class=\"data row24 col24\" >1.000000</td>\n",
       "                        <td id=\"T_e9f2f0fe_7b83_11ec_aace_f218987ff6derow24_col25\" class=\"data row24 col25\" >0.591922</td>\n",
       "                        <td id=\"T_e9f2f0fe_7b83_11ec_aace_f218987ff6derow24_col26\" class=\"data row24 col26\" >-0.046568</td>\n",
       "                        <td id=\"T_e9f2f0fe_7b83_11ec_aace_f218987ff6derow24_col27\" class=\"data row24 col27\" >0.174442</td>\n",
       "            </tr>\n",
       "            <tr>\n",
       "                        <th id=\"T_e9f2f0fe_7b83_11ec_aace_f218987ff6delevel0_row25\" class=\"row_heading level0 row25\" >Points_Per_Game</th>\n",
       "                        <td id=\"T_e9f2f0fe_7b83_11ec_aace_f218987ff6derow25_col0\" class=\"data row25 col0\" >0.043412</td>\n",
       "                        <td id=\"T_e9f2f0fe_7b83_11ec_aace_f218987ff6derow25_col1\" class=\"data row25 col1\" >0.513933</td>\n",
       "                        <td id=\"T_e9f2f0fe_7b83_11ec_aace_f218987ff6derow25_col2\" class=\"data row25 col2\" >0.709571</td>\n",
       "                        <td id=\"T_e9f2f0fe_7b83_11ec_aace_f218987ff6derow25_col3\" class=\"data row25 col3\" >0.886403</td>\n",
       "                        <td id=\"T_e9f2f0fe_7b83_11ec_aace_f218987ff6derow25_col4\" class=\"data row25 col4\" >0.988518</td>\n",
       "                        <td id=\"T_e9f2f0fe_7b83_11ec_aace_f218987ff6derow25_col5\" class=\"data row25 col5\" >0.980565</td>\n",
       "                        <td id=\"T_e9f2f0fe_7b83_11ec_aace_f218987ff6derow25_col6\" class=\"data row25 col6\" >0.244845</td>\n",
       "                        <td id=\"T_e9f2f0fe_7b83_11ec_aace_f218987ff6derow25_col7\" class=\"data row25 col7\" >0.626928</td>\n",
       "                        <td id=\"T_e9f2f0fe_7b83_11ec_aace_f218987ff6derow25_col8\" class=\"data row25 col8\" >0.627472</td>\n",
       "                        <td id=\"T_e9f2f0fe_7b83_11ec_aace_f218987ff6derow25_col9\" class=\"data row25 col9\" >0.211069</td>\n",
       "                        <td id=\"T_e9f2f0fe_7b83_11ec_aace_f218987ff6derow25_col10\" class=\"data row25 col10\" >0.898506</td>\n",
       "                        <td id=\"T_e9f2f0fe_7b83_11ec_aace_f218987ff6derow25_col11\" class=\"data row25 col11\" >0.900888</td>\n",
       "                        <td id=\"T_e9f2f0fe_7b83_11ec_aace_f218987ff6derow25_col12\" class=\"data row25 col12\" >0.193831</td>\n",
       "                        <td id=\"T_e9f2f0fe_7b83_11ec_aace_f218987ff6derow25_col13\" class=\"data row25 col13\" >0.278068</td>\n",
       "                        <td id=\"T_e9f2f0fe_7b83_11ec_aace_f218987ff6derow25_col14\" class=\"data row25 col14\" >0.887229</td>\n",
       "                        <td id=\"T_e9f2f0fe_7b83_11ec_aace_f218987ff6derow25_col15\" class=\"data row25 col15\" >0.870691</td>\n",
       "                        <td id=\"T_e9f2f0fe_7b83_11ec_aace_f218987ff6derow25_col16\" class=\"data row25 col16\" >0.316348</td>\n",
       "                        <td id=\"T_e9f2f0fe_7b83_11ec_aace_f218987ff6derow25_col17\" class=\"data row25 col17\" >0.357088</td>\n",
       "                        <td id=\"T_e9f2f0fe_7b83_11ec_aace_f218987ff6derow25_col18\" class=\"data row25 col18\" >0.682282</td>\n",
       "                        <td id=\"T_e9f2f0fe_7b83_11ec_aace_f218987ff6derow25_col19\" class=\"data row25 col19\" >0.617047</td>\n",
       "                        <td id=\"T_e9f2f0fe_7b83_11ec_aace_f218987ff6derow25_col20\" class=\"data row25 col20\" >0.665333</td>\n",
       "                        <td id=\"T_e9f2f0fe_7b83_11ec_aace_f218987ff6derow25_col21\" class=\"data row25 col21\" >0.663326</td>\n",
       "                        <td id=\"T_e9f2f0fe_7b83_11ec_aace_f218987ff6derow25_col22\" class=\"data row25 col22\" >0.334261</td>\n",
       "                        <td id=\"T_e9f2f0fe_7b83_11ec_aace_f218987ff6derow25_col23\" class=\"data row25 col23\" >0.821752</td>\n",
       "                        <td id=\"T_e9f2f0fe_7b83_11ec_aace_f218987ff6derow25_col24\" class=\"data row25 col24\" >0.591922</td>\n",
       "                        <td id=\"T_e9f2f0fe_7b83_11ec_aace_f218987ff6derow25_col25\" class=\"data row25 col25\" >1.000000</td>\n",
       "                        <td id=\"T_e9f2f0fe_7b83_11ec_aace_f218987ff6derow25_col26\" class=\"data row25 col26\" >0.045688</td>\n",
       "                        <td id=\"T_e9f2f0fe_7b83_11ec_aace_f218987ff6derow25_col27\" class=\"data row25 col27\" >0.475128</td>\n",
       "            </tr>\n",
       "            <tr>\n",
       "                        <th id=\"T_e9f2f0fe_7b83_11ec_aace_f218987ff6delevel0_row26\" class=\"row_heading level0 row26\" >season</th>\n",
       "                        <td id=\"T_e9f2f0fe_7b83_11ec_aace_f218987ff6derow26_col0\" class=\"data row26 col0\" >-0.070195</td>\n",
       "                        <td id=\"T_e9f2f0fe_7b83_11ec_aace_f218987ff6derow26_col1\" class=\"data row26 col1\" >-0.099259</td>\n",
       "                        <td id=\"T_e9f2f0fe_7b83_11ec_aace_f218987ff6derow26_col2\" class=\"data row26 col2\" >-0.056332</td>\n",
       "                        <td id=\"T_e9f2f0fe_7b83_11ec_aace_f218987ff6derow26_col3\" class=\"data row26 col3\" >-0.028980</td>\n",
       "                        <td id=\"T_e9f2f0fe_7b83_11ec_aace_f218987ff6derow26_col4\" class=\"data row26 col4\" >0.033943</td>\n",
       "                        <td id=\"T_e9f2f0fe_7b83_11ec_aace_f218987ff6derow26_col5\" class=\"data row26 col5\" >0.027029</td>\n",
       "                        <td id=\"T_e9f2f0fe_7b83_11ec_aace_f218987ff6derow26_col6\" class=\"data row26 col6\" >0.026749</td>\n",
       "                        <td id=\"T_e9f2f0fe_7b83_11ec_aace_f218987ff6derow26_col7\" class=\"data row26 col7\" >0.209695</td>\n",
       "                        <td id=\"T_e9f2f0fe_7b83_11ec_aace_f218987ff6derow26_col8\" class=\"data row26 col8\" >0.226495</td>\n",
       "                        <td id=\"T_e9f2f0fe_7b83_11ec_aace_f218987ff6derow26_col9\" class=\"data row26 col9\" >0.103255</td>\n",
       "                        <td id=\"T_e9f2f0fe_7b83_11ec_aace_f218987ff6derow26_col10\" class=\"data row26 col10\" >-0.046712</td>\n",
       "                        <td id=\"T_e9f2f0fe_7b83_11ec_aace_f218987ff6derow26_col11\" class=\"data row26 col11\" >-0.091086</td>\n",
       "                        <td id=\"T_e9f2f0fe_7b83_11ec_aace_f218987ff6derow26_col12\" class=\"data row26 col12\" >0.147000</td>\n",
       "                        <td id=\"T_e9f2f0fe_7b83_11ec_aace_f218987ff6derow26_col13\" class=\"data row26 col13\" >0.124609</td>\n",
       "                        <td id=\"T_e9f2f0fe_7b83_11ec_aace_f218987ff6derow26_col14\" class=\"data row26 col14\" >-0.026757</td>\n",
       "                        <td id=\"T_e9f2f0fe_7b83_11ec_aace_f218987ff6derow26_col15\" class=\"data row26 col15\" >-0.039487</td>\n",
       "                        <td id=\"T_e9f2f0fe_7b83_11ec_aace_f218987ff6derow26_col16\" class=\"data row26 col16\" >0.082521</td>\n",
       "                        <td id=\"T_e9f2f0fe_7b83_11ec_aace_f218987ff6derow26_col17\" class=\"data row26 col17\" >-0.058724</td>\n",
       "                        <td id=\"T_e9f2f0fe_7b83_11ec_aace_f218987ff6derow26_col18\" class=\"data row26 col18\" >0.055049</td>\n",
       "                        <td id=\"T_e9f2f0fe_7b83_11ec_aace_f218987ff6derow26_col19\" class=\"data row26 col19\" >0.021368</td>\n",
       "                        <td id=\"T_e9f2f0fe_7b83_11ec_aace_f218987ff6derow26_col20\" class=\"data row26 col20\" >0.033628</td>\n",
       "                        <td id=\"T_e9f2f0fe_7b83_11ec_aace_f218987ff6derow26_col21\" class=\"data row26 col21\" >0.000156</td>\n",
       "                        <td id=\"T_e9f2f0fe_7b83_11ec_aace_f218987ff6derow26_col22\" class=\"data row26 col22\" >-0.006928</td>\n",
       "                        <td id=\"T_e9f2f0fe_7b83_11ec_aace_f218987ff6derow26_col23\" class=\"data row26 col23\" >-0.037140</td>\n",
       "                        <td id=\"T_e9f2f0fe_7b83_11ec_aace_f218987ff6derow26_col24\" class=\"data row26 col24\" >-0.046568</td>\n",
       "                        <td id=\"T_e9f2f0fe_7b83_11ec_aace_f218987ff6derow26_col25\" class=\"data row26 col25\" >0.045688</td>\n",
       "                        <td id=\"T_e9f2f0fe_7b83_11ec_aace_f218987ff6derow26_col26\" class=\"data row26 col26\" >1.000000</td>\n",
       "                        <td id=\"T_e9f2f0fe_7b83_11ec_aace_f218987ff6derow26_col27\" class=\"data row26 col27\" >0.006284</td>\n",
       "            </tr>\n",
       "            <tr>\n",
       "                        <th id=\"T_e9f2f0fe_7b83_11ec_aace_f218987ff6delevel0_row27\" class=\"row_heading level0 row27\" >target</th>\n",
       "                        <td id=\"T_e9f2f0fe_7b83_11ec_aace_f218987ff6derow27_col0\" class=\"data row27 col0\" >0.026124</td>\n",
       "                        <td id=\"T_e9f2f0fe_7b83_11ec_aace_f218987ff6derow27_col1\" class=\"data row27 col1\" >0.190025</td>\n",
       "                        <td id=\"T_e9f2f0fe_7b83_11ec_aace_f218987ff6derow27_col2\" class=\"data row27 col2\" >0.359249</td>\n",
       "                        <td id=\"T_e9f2f0fe_7b83_11ec_aace_f218987ff6derow27_col3\" class=\"data row27 col3\" >0.317602</td>\n",
       "                        <td id=\"T_e9f2f0fe_7b83_11ec_aace_f218987ff6derow27_col4\" class=\"data row27 col4\" >0.454977</td>\n",
       "                        <td id=\"T_e9f2f0fe_7b83_11ec_aace_f218987ff6derow27_col5\" class=\"data row27 col5\" >0.430405</td>\n",
       "                        <td id=\"T_e9f2f0fe_7b83_11ec_aace_f218987ff6derow27_col6\" class=\"data row27 col6\" >0.083336</td>\n",
       "                        <td id=\"T_e9f2f0fe_7b83_11ec_aace_f218987ff6derow27_col7\" class=\"data row27 col7\" >0.221979</td>\n",
       "                        <td id=\"T_e9f2f0fe_7b83_11ec_aace_f218987ff6derow27_col8\" class=\"data row27 col8\" >0.219719</td>\n",
       "                        <td id=\"T_e9f2f0fe_7b83_11ec_aace_f218987ff6derow27_col9\" class=\"data row27 col9\" >0.044034</td>\n",
       "                        <td id=\"T_e9f2f0fe_7b83_11ec_aace_f218987ff6derow27_col10\" class=\"data row27 col10\" >0.440870</td>\n",
       "                        <td id=\"T_e9f2f0fe_7b83_11ec_aace_f218987ff6derow27_col11\" class=\"data row27 col11\" >0.426298</td>\n",
       "                        <td id=\"T_e9f2f0fe_7b83_11ec_aace_f218987ff6derow27_col12\" class=\"data row27 col12\" >0.066937</td>\n",
       "                        <td id=\"T_e9f2f0fe_7b83_11ec_aace_f218987ff6derow27_col13\" class=\"data row27 col13\" >0.072615</td>\n",
       "                        <td id=\"T_e9f2f0fe_7b83_11ec_aace_f218987ff6derow27_col14\" class=\"data row27 col14\" >0.513433</td>\n",
       "                        <td id=\"T_e9f2f0fe_7b83_11ec_aace_f218987ff6derow27_col15\" class=\"data row27 col15\" >0.505484</td>\n",
       "                        <td id=\"T_e9f2f0fe_7b83_11ec_aace_f218987ff6derow27_col16\" class=\"data row27 col16\" >0.093284</td>\n",
       "                        <td id=\"T_e9f2f0fe_7b83_11ec_aace_f218987ff6derow27_col17\" class=\"data row27 col17\" >0.164299</td>\n",
       "                        <td id=\"T_e9f2f0fe_7b83_11ec_aace_f218987ff6derow27_col18\" class=\"data row27 col18\" >0.350134</td>\n",
       "                        <td id=\"T_e9f2f0fe_7b83_11ec_aace_f218987ff6derow27_col19\" class=\"data row27 col19\" >0.310273</td>\n",
       "                        <td id=\"T_e9f2f0fe_7b83_11ec_aace_f218987ff6derow27_col20\" class=\"data row27 col20\" >0.380916</td>\n",
       "                        <td id=\"T_e9f2f0fe_7b83_11ec_aace_f218987ff6derow27_col21\" class=\"data row27 col21\" >0.293673</td>\n",
       "                        <td id=\"T_e9f2f0fe_7b83_11ec_aace_f218987ff6derow27_col22\" class=\"data row27 col22\" >0.178843</td>\n",
       "                        <td id=\"T_e9f2f0fe_7b83_11ec_aace_f218987ff6derow27_col23\" class=\"data row27 col23\" >0.417976</td>\n",
       "                        <td id=\"T_e9f2f0fe_7b83_11ec_aace_f218987ff6derow27_col24\" class=\"data row27 col24\" >0.174442</td>\n",
       "                        <td id=\"T_e9f2f0fe_7b83_11ec_aace_f218987ff6derow27_col25\" class=\"data row27 col25\" >0.475128</td>\n",
       "                        <td id=\"T_e9f2f0fe_7b83_11ec_aace_f218987ff6derow27_col26\" class=\"data row27 col26\" >0.006284</td>\n",
       "                        <td id=\"T_e9f2f0fe_7b83_11ec_aace_f218987ff6derow27_col27\" class=\"data row27 col27\" >1.000000</td>\n",
       "            </tr>\n",
       "    </tbody></table>"
      ],
      "text/plain": [
       "<pandas.io.formats.style.Styler at 0x7f795d6f7700>"
      ]
     },
     "execution_count": 37,
     "metadata": {},
     "output_type": "execute_result"
    }
   ],
   "source": [
    "def color_map(val):\n",
    "    color = 'red' if float(val) < -0.4 else 'green' if float(val) > 0.4 \\\n",
    "        else 'black'\n",
    "    return 'color: %s' % color\n",
    "\n",
    "corr = df.corr()\n",
    "corr.style.applymap(color_map)"
   ]
  },
  {
   "cell_type": "code",
   "execution_count": 38,
   "metadata": {
    "ExecuteTime": {
     "end_time": "2022-01-22T13:05:06.834119Z",
     "start_time": "2022-01-22T13:05:06.830820Z"
    }
   },
   "outputs": [],
   "source": [
    "def get_kde_target(df):\n",
    "    target = 'target'\n",
    "   \n",
    "    for i in ['Minutes','Field-Per-Game','three_Point_Field_Goal_Percentage',\\\n",
    "                               'Points_Per_Game']:\n",
    "        fig,ax = plt.subplots(figsize = (30,10))\n",
    "        sns.kdeplot(data = df ,x=i, hue = target)\n",
    "        ax.set_title('{} X {}'.format(i,target))\n",
    "            \n",
    "    plt.show()\n"
   ]
  },
  {
   "cell_type": "code",
   "execution_count": 39,
   "metadata": {
    "ExecuteTime": {
     "end_time": "2022-01-22T13:05:07.290312Z",
     "start_time": "2022-01-22T13:05:07.287467Z"
    }
   },
   "outputs": [],
   "source": [
    "def get_outlier_target(df,num_feature):\n",
    "    target = 'target'\n",
    "   \n",
    "    for i in num_feature:\n",
    "        fig,ax = plt.subplots(figsize = (30,10))\n",
    "        if i != target:\n",
    "            sns.boxplot(x=i, y=target, orient=\"h\", data=df, palette=\"Set1\", width=0.5)\n",
    "            ax.set_title('{} X {}'.format(i,target))\n",
    "            \n",
    "            plt.show()\n",
    "\n"
   ]
  },
  {
   "cell_type": "markdown",
   "metadata": {},
   "source": [
    "#### VISUALIZATION\n",
    "\n",
    "- check for the distribution of the feature vs the target variable\n",
    "- check for outliers"
   ]
  },
  {
   "cell_type": "code",
   "execution_count": 40,
   "metadata": {
    "ExecuteTime": {
     "end_time": "2022-01-22T13:05:44.494680Z",
     "start_time": "2022-01-22T13:05:43.716356Z"
    },
    "scrolled": true
   },
   "outputs": [
    {
     "data": {
      "image/png": "[encoded data removed]",
      "text/plain": [
       "<Figure size 2160x720 with 1 Axes>"
      ]
     },
     "metadata": {
      "needs_background": "light"
     },
     "output_type": "display_data"
    },
    {
     "data": {
      "image/png": "[encoded data removed]",
      "text/plain": [
       "<Figure size 2160x720 with 1 Axes>"
      ]
     },
     "metadata": {
      "needs_background": "light"
     },
     "output_type": "display_data"
    },
    {
     "data": {
      "image/png": "[encoded data removed]",
      "text/plain": [
       "<Figure size 2160x720 with 1 Axes>"
      ]
     },
     "metadata": {
      "needs_background": "light"
     },
     "output_type": "display_data"
    },
    {
     "data": {
      "image/png": "[encoded data removed]",
      "text/plain": [
       "<Figure size 2160x720 with 1 Axes>"
      ]
     },
     "metadata": {
      "needs_background": "light"
     },
     "output_type": "display_data"
    },
    {
     "data": {
      "image/png": "[encoded data removed]",
      "text/plain": [
       "<Figure size 2160x720 with 1 Axes>"
      ]
     },
     "metadata": {
      "needs_background": "light"
     },
     "output_type": "display_data"
    },
    {
     "data": {
      "image/png": "[encoded data removed]",
      "text/plain": [
       "<Figure size 2160x720 with 1 Axes>"
      ]
     },
     "metadata": {
      "needs_background": "light"
     },
     "output_type": "display_data"
    }
   ],
   "source": [
    "get_outlier_target(df,num_feature[:6])"
   ]
  },
  {
   "cell_type": "code",
   "execution_count": 41,
   "metadata": {
    "ExecuteTime": {
     "end_time": "2022-01-22T13:05:45.871601Z",
     "start_time": "2022-01-22T13:05:45.071557Z"
    },
    "scrolled": false
   },
   "outputs": [
    {
     "data": {
      "image/png": "[encoded data removed]",
      "text/plain": [
       "<Figure size 2160x720 with 1 Axes>"
      ]
     },
     "metadata": {
      "needs_background": "light"
     },
     "output_type": "display_data"
    },
    {
     "data": {
      "image/png": "[encoded data removed]",
      "text/plain": [
       "<Figure size 2160x720 with 1 Axes>"
      ]
     },
     "metadata": {
      "needs_background": "light"
     },
     "output_type": "display_data"
    },
    {
     "data": {
      "image/png": "[encoded data removed]",
      "text/plain": [
       "<Figure size 2160x720 with 1 Axes>"
      ]
     },
     "metadata": {
      "needs_background": "light"
     },
     "output_type": "display_data"
    },
    {
     "data": {
      "image/png": "[encoded data removed]",
      "text/plain": [
       "<Figure size 2160x720 with 1 Axes>"
      ]
     },
     "metadata": {
      "needs_background": "light"
     },
     "output_type": "display_data"
    }
   ],
   "source": [
    "get_kde_target(df)"
   ]
  },
  {
   "cell_type": "markdown",
   "metadata": {},
   "source": [
    "**checklist for EDA**\n",
    "* [x] read data dictionary and make some assumptions about the data\n",
    "* [x] import data\n",
    "* [x] check the shape\n",
    "* [x] data head\n",
    "* [x] view info for dtype and missing value\n",
    "* [x] check/make sure for missing value \n",
    "* [x] check statistical info \n",
    "* [x] data integrity \n",
    "* [x] divide columns dtypes and check distribution + target\n",
    "* [x] vizualisation for outliers only if needed \n",
    "* [x] write insight based on step 1 \n",
    "\n",
    "\n",
    "### INSIGHTS\n",
    "\n",
    "- data shape after adding the target is **(7490, 31)** : \n",
    "- there's 28 numerical and 3 categorical\n",
    "- missing data: we fount multiple feature having missing data\n",
    "- data integrity - we check that the data make sense by making sure we have no negative age or point per game,\n",
    "- viz\n",
    "- `all star players vs regular player`:we can observe some patern regarding allstar player , they play most of the time,more minutes having more points per game which make sense since thats whats good player do during the season\n",
    "- as for `outlier` we choose to use the oultlier. the reason for that is that **allstar** by definition are the outliers of the league, the player that have more points then a regular player so by using them the model might take advantage and give us higher accuracy score\n",
    "- `baseline` our baseline is 96% accuracy, due to the fact that the data is severely inbalance (96,4)% buy choosing randomly a player with 0 (no alstar) we will be correct 96% of the time so in order to get a good model the accuracy must be higher then 96%\n",
    "\n",
    "### PRE_PROCESSING STEPS\n",
    "- missing data : fill null values with the mean in order to remain with the same distribution (by fill null using 0's we will change the distn)\n",
    "- most of the all star players are outliers- we do not touch them\n",
    "- oversampling the minority class since we have only 3% of allstars\n",
    "- drop columns with very high corr\n",
    "- drop nominal features(player name)\n",
    "- converting categorical data since model cannot works with \n",
    "- scalling data not needed because rf doesnt require(decision tree baseed)\n",
    "\n",
    "### MODEL\n",
    "- we choosed to use randomforest which is based on decision tree , high accuracy, no preprocessing needed \n",
    "\n",
    "### METRICS\n",
    "- in order to make sure we have good resut:\n",
    "- `recall`,`precision` and `accuracy score` : since thats a classification problem, regression metrics such as r2 rmse will not be a good fit for us, recall and precision will tell us how many we predict corectly the target and what is the accuracy"
   ]
  },
  {
   "cell_type": "code",
   "execution_count": null,
   "metadata": {},
   "outputs": [],
   "source": []
  },
  {
   "cell_type": "code",
   "execution_count": null,
   "metadata": {},
   "outputs": [],
   "source": []
  },
  {
   "cell_type": "markdown",
   "metadata": {},
   "source": [
    "## PREPROCESSING STEPS"
   ]
  },
  {
   "cell_type": "code",
   "execution_count": 46,
   "metadata": {
    "ExecuteTime": {
     "end_time": "2022-01-22T13:16:54.830235Z",
     "start_time": "2022-01-22T13:16:54.820590Z"
    }
   },
   "outputs": [],
   "source": [
    "for col in num_feature:\n",
    "    m = df[col].mean()\n",
    "    df[col].fillna(m,inplace=True)"
   ]
  },
  {
   "cell_type": "code",
   "execution_count": 47,
   "metadata": {
    "ExecuteTime": {
     "end_time": "2022-01-22T13:16:55.557927Z",
     "start_time": "2022-01-22T13:16:55.551863Z"
    }
   },
   "outputs": [],
   "source": [
    "assert(df.isna().sum().sum() == 0)"
   ]
  },
  {
   "cell_type": "code",
   "execution_count": 48,
   "metadata": {
    "ExecuteTime": {
     "end_time": "2022-01-22T13:17:14.112768Z",
     "start_time": "2022-01-22T13:17:14.110532Z"
    }
   },
   "outputs": [],
   "source": [
    "drops_high_corr = ['Effective_Field_Goal_Percentage','two_Point_Field_Goal_Attempts_Per_Game','Free_Throws_attemps_Per_Game']"
   ]
  },
  {
   "cell_type": "code",
   "execution_count": 49,
   "metadata": {
    "ExecuteTime": {
     "end_time": "2022-01-22T13:17:14.871387Z",
     "start_time": "2022-01-22T13:17:14.866995Z"
    }
   },
   "outputs": [],
   "source": [
    "df.drop(drops_high_corr,axis=1,inplace=True)"
   ]
  },
  {
   "cell_type": "code",
   "execution_count": 50,
   "metadata": {
    "ExecuteTime": {
     "end_time": "2022-01-22T13:17:15.504023Z",
     "start_time": "2022-01-22T13:17:15.499211Z"
    }
   },
   "outputs": [],
   "source": [
    "df.drop('Player',axis=1,inplace=True)"
   ]
  },
  {
   "cell_type": "code",
   "execution_count": 52,
   "metadata": {
    "ExecuteTime": {
     "end_time": "2022-01-22T13:17:28.767210Z",
     "start_time": "2022-01-22T13:17:28.763880Z"
    },
    "run_control": {
     "marked": true
    }
   },
   "outputs": [],
   "source": [
    "df2 = df.copy()"
   ]
  },
  {
   "cell_type": "code",
   "execution_count": 64,
   "metadata": {
    "ExecuteTime": {
     "end_time": "2022-01-22T13:18:37.931795Z",
     "start_time": "2022-01-22T13:18:37.927217Z"
    }
   },
   "outputs": [],
   "source": [
    "from sklearn.preprocessing import LabelEncoder\n",
    "le = LabelEncoder()\n",
    "le.fit(df2['Position'])\n",
    "df2['Position'] = le.transform(df2['Position'])"
   ]
  },
  {
   "cell_type": "code",
   "execution_count": 54,
   "metadata": {
    "ExecuteTime": {
     "end_time": "2022-01-22T13:17:48.096659Z",
     "start_time": "2022-01-22T13:17:48.092010Z"
    }
   },
   "outputs": [],
   "source": [
    "le.fit(df2['Team'])\n",
    "df2['Team'] = le.transform(df2['Team'])"
   ]
  },
  {
   "cell_type": "code",
   "execution_count": 55,
   "metadata": {
    "ExecuteTime": {
     "end_time": "2022-01-22T13:17:50.901237Z",
     "start_time": "2022-01-22T13:17:50.810958Z"
    }
   },
   "outputs": [
    {
     "data": {
      "image/png": "[encoded data removed]",
      "text/plain": [
       "<Figure size 432x288 with 1 Axes>"
      ]
     },
     "metadata": {
      "needs_background": "light"
     },
     "output_type": "display_data"
    }
   ],
   "source": [
    "df2['target'].value_counts(normalize=True).plot(kind='bar');"
   ]
  },
  {
   "cell_type": "markdown",
   "metadata": {},
   "source": [
    "### OVERSAMPLING\n",
    "\n",
    "**Oversampling** means to increase the number of instances in the minority class by randomly replicating them in order to present a higher representation of the minority class in the sample.\n",
    "\n",
    "**Consider testing over-sampling when you don’t have a lot of data (tens of thousands of records or less).**\n",
    "\n",
    "`Advantages:`\n",
    "- Unlike undersampling this method leads to no information loss\n",
    "- Outperforms undersampling\n",
    " \n",
    "`Disadvantages:`\n",
    "- It increases the likelihood of overfitting since it replicates the minority class events"
   ]
  },
  {
   "cell_type": "code",
   "execution_count": null,
   "metadata": {},
   "outputs": [],
   "source": [
    "!pip install imblearn"
   ]
  },
  {
   "cell_type": "code",
   "execution_count": 65,
   "metadata": {
    "ExecuteTime": {
     "end_time": "2022-01-22T13:18:43.075726Z",
     "start_time": "2022-01-22T13:18:43.049661Z"
    }
   },
   "outputs": [],
   "source": [
    "from sklearn.model_selection import train_test_split\n",
    "from imblearn.over_sampling import RandomOverSampler\n",
    "\n",
    "features = df2.columns[df2.columns != 'target']\n",
    "target = 'target'\n",
    "\n",
    "\n",
    "X = df2[features]\n",
    "y = df2[target]\n",
    "\n",
    "X_train, X_test, y_train, y_test = train_test_split(X.copy(), y.copy(), test_size=0.2, random_state=1)\n",
    "\n",
    "ros= RandomOverSampler(sampling_strategy='auto')\n",
    "\n",
    "X_train, y_train = ros.fit_resample(X_train, y_train)\n",
    "\n",
    "X_train, X_val, y_train, y_val = train_test_split(X_train.copy(), y_train.copy(), test_size=0.25, random_state=1) # 0.25 x 0.8 = 0.2"
   ]
  },
  {
   "cell_type": "code",
   "execution_count": 66,
   "metadata": {
    "ExecuteTime": {
     "end_time": "2022-01-22T13:18:44.776794Z",
     "start_time": "2022-01-22T13:18:44.690727Z"
    }
   },
   "outputs": [
    {
     "data": {
      "image/png": "[encoded data removed]",
      "text/plain": [
       "<Figure size 432x288 with 1 Axes>"
      ]
     },
     "metadata": {
      "needs_background": "light"
     },
     "output_type": "display_data"
    }
   ],
   "source": [
    "y_train.value_counts(normalize=True).plot(kind='bar');"
   ]
  },
  {
   "cell_type": "code",
   "execution_count": 67,
   "metadata": {
    "ExecuteTime": {
     "end_time": "2022-01-22T13:18:45.117388Z",
     "start_time": "2022-01-22T13:18:45.033573Z"
    },
    "scrolled": false
   },
   "outputs": [
    {
     "data": {
      "image/png": "[encoded data removed]",
      "text/plain": [
       "<Figure size 432x288 with 1 Axes>"
      ]
     },
     "metadata": {
      "needs_background": "light"
     },
     "output_type": "display_data"
    }
   ],
   "source": [
    "y_val.value_counts(normalize=True).plot(kind='bar');"
   ]
  },
  {
   "cell_type": "code",
   "execution_count": 68,
   "metadata": {
    "ExecuteTime": {
     "end_time": "2022-01-22T13:18:45.469228Z",
     "start_time": "2022-01-22T13:18:45.386043Z"
    },
    "scrolled": false
   },
   "outputs": [
    {
     "data": {
      "image/png": "[encoded data removed]",
      "text/plain": [
       "<Figure size 432x288 with 1 Axes>"
      ]
     },
     "metadata": {
      "needs_background": "light"
     },
     "output_type": "display_data"
    }
   ],
   "source": [
    "y_test.value_counts(normalize=True).plot(kind='bar');"
   ]
  },
  {
   "cell_type": "code",
   "execution_count": 69,
   "metadata": {
    "ExecuteTime": {
     "end_time": "2022-01-22T13:18:47.681268Z",
     "start_time": "2022-01-22T13:18:47.679258Z"
    }
   },
   "outputs": [],
   "source": [
    "from sklearn.ensemble import RandomForestClassifier\n",
    "from sklearn.metrics import accuracy_score\n",
    "from sklearn.metrics import plot_confusion_matrix\n",
    "from sklearn.metrics import classification_report"
   ]
  },
  {
   "cell_type": "code",
   "execution_count": 70,
   "metadata": {
    "ExecuteTime": {
     "end_time": "2022-01-22T13:18:48.496882Z",
     "start_time": "2022-01-22T13:18:48.494285Z"
    }
   },
   "outputs": [],
   "source": [
    "clf = RandomForestClassifier(n_estimators=25)"
   ]
  },
  {
   "cell_type": "code",
   "execution_count": 72,
   "metadata": {
    "ExecuteTime": {
     "end_time": "2022-01-22T13:18:52.844415Z",
     "start_time": "2022-01-22T13:18:52.612421Z"
    }
   },
   "outputs": [],
   "source": [
    "clf.fit(X_train, y_train)\n",
    "\n",
    "y_predict = clf.predict(X_val)"
   ]
  },
  {
   "cell_type": "code",
   "execution_count": 73,
   "metadata": {
    "ExecuteTime": {
     "end_time": "2022-01-22T13:18:54.269532Z",
     "start_time": "2022-01-22T13:18:54.265056Z"
    }
   },
   "outputs": [
    {
     "name": "stdout",
     "output_type": "stream",
     "text": [
      "0.993\n"
     ]
    }
   ],
   "source": [
    "print(round(accuracy_score(y_val, y_predict),3))"
   ]
  },
  {
   "cell_type": "code",
   "execution_count": 74,
   "metadata": {
    "ExecuteTime": {
     "end_time": "2022-01-22T13:18:55.589285Z",
     "start_time": "2022-01-22T13:18:55.446766Z"
    }
   },
   "outputs": [
    {
     "data": {
      "image/png": "[encoded data removed]",
      "text/plain": [
       "<Figure size 432x288 with 2 Axes>"
      ]
     },
     "metadata": {
      "needs_background": "light"
     },
     "output_type": "display_data"
    }
   ],
   "source": [
    "plot_confusion_matrix(clf, X_val, y_val);"
   ]
  },
  {
   "cell_type": "code",
   "execution_count": 75,
   "metadata": {
    "ExecuteTime": {
     "end_time": "2022-01-22T13:18:57.617742Z",
     "start_time": "2022-01-22T13:18:57.606612Z"
    }
   },
   "outputs": [],
   "source": [
    "y_test_predict = clf.predict(X_test)"
   ]
  },
  {
   "cell_type": "code",
   "execution_count": 76,
   "metadata": {
    "ExecuteTime": {
     "end_time": "2022-01-22T13:18:58.139515Z",
     "start_time": "2022-01-22T13:18:58.135489Z"
    }
   },
   "outputs": [
    {
     "name": "stdout",
     "output_type": "stream",
     "text": [
      "0.973\n"
     ]
    }
   ],
   "source": [
    "print(round(accuracy_score(y_test, y_test_predict),3))"
   ]
  },
  {
   "cell_type": "code",
   "execution_count": 77,
   "metadata": {
    "ExecuteTime": {
     "end_time": "2022-01-22T13:18:58.921384Z",
     "start_time": "2022-01-22T13:18:58.788690Z"
    }
   },
   "outputs": [
    {
     "data": {
      "image/png": "[encoded data removed]",
      "text/plain": [
       "<Figure size 432x288 with 2 Axes>"
      ]
     },
     "metadata": {
      "needs_background": "light"
     },
     "output_type": "display_data"
    }
   ],
   "source": [
    "plot_confusion_matrix(clf, X_test, y_test);"
   ]
  },
  {
   "cell_type": "code",
   "execution_count": 78,
   "metadata": {
    "ExecuteTime": {
     "end_time": "2022-01-22T13:19:01.295848Z",
     "start_time": "2022-01-22T13:19:01.286116Z"
    }
   },
   "outputs": [
    {
     "name": "stdout",
     "output_type": "stream",
     "text": [
      "              precision    recall  f1-score   support\n",
      "\n",
      "           0       0.99      0.98      0.99      1430\n",
      "           1       0.69      0.74      0.71        68\n",
      "\n",
      "    accuracy                           0.97      1498\n",
      "   macro avg       0.84      0.86      0.85      1498\n",
      "weighted avg       0.97      0.97      0.97      1498\n",
      "\n"
     ]
    }
   ],
   "source": [
    "print(classification_report(y_test, y_test_predict))"
   ]
  },
  {
   "cell_type": "markdown",
   "metadata": {},
   "source": [
    "## CONCLUSION and whats Next\n",
    "\n",
    "- after we split the data we oversample the minority class only on the `train` set\n",
    "- we use validation set to check the model before we test it\n",
    "- the test result was high enough and good based on the baseline \n",
    "- the accuracy was `99%` with a recall 74 and 69 precision for the minority class \n",
    "\n",
    "- we tend to believe that we got an overfit (probably) due to the oversampling method that we used\n",
    "- we can get higher score for the minority class by tunning our model .\n",
    "- the next step will be to reduce the overfit by choosing other features / using other method for our imbalanced data. maybe other algo. \n",
    "- other possibility is that we didnt limit our dt's in the rf algo wich almost all the time lead to overfit when the depth is to big so by tunnig the algo we can reduce the overfit .\n"
   ]
  },
  {
   "cell_type": "code",
   "execution_count": null,
   "metadata": {},
   "outputs": [],
   "source": []
  }
 ],
 "metadata": {
  "kernelspec": {
   "display_name": "Python 3",
   "language": "python",
   "name": "python3"
  },
  "language_info": {
   "codemirror_mode": {
    "name": "ipython",
    "version": 3
   },
   "file_extension": ".py",
   "mimetype": "text/x-python",
   "name": "python",
   "nbconvert_exporter": "python",
   "pygments_lexer": "ipython3",
   "version": "3.8.5"
  }
 },
 "nbformat": 4,
 "nbformat_minor": 5
}
